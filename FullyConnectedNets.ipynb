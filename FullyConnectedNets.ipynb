{
  "nbformat": 4,
  "nbformat_minor": 0,
  "metadata": {
    "colab": {
      "name": "FullyConnectedNets.ipynb",
      "version": "0.3.2",
      "provenance": [],
      "collapsed_sections": [],
      "toc_visible": true,
      "include_colab_link": true
    },
    "language_info": {
      "mimetype": "text/x-python",
      "nbconvert_exporter": "python",
      "name": "python",
      "file_extension": ".py",
      "version": "3.7.1",
      "pygments_lexer": "ipython3",
      "codemirror_mode": {
        "version": 3,
        "name": "ipython"
      }
    },
    "kernelspec": {
      "name": "python3",
      "display_name": "Python 3"
    },
    "accelerator": "GPU"
  },
  "cells": [
    {
      "cell_type": "markdown",
      "metadata": {
        "id": "view-in-github",
        "colab_type": "text"
      },
      "source": [
        "<a href=\"https://colab.research.google.com/github/DaphneXu/some_practice/blob/master/FullyConnectedNets.ipynb\" target=\"_parent\"><img src=\"https://colab.research.google.com/assets/colab-badge.svg\" alt=\"Open In Colab\"/></a>"
      ]
    },
    {
      "cell_type": "code",
      "metadata": {
        "id": "krOK516B8ZYo",
        "colab_type": "code",
        "colab": {}
      },
      "source": [
        "import torch"
      ],
      "execution_count": 0,
      "outputs": []
    },
    {
      "cell_type": "code",
      "metadata": {
        "id": "0lwkeUNeEeNw",
        "colab_type": "code",
        "colab": {}
      },
      "source": [
        "from torch import nn"
      ],
      "execution_count": 0,
      "outputs": []
    },
    {
      "cell_type": "code",
      "metadata": {
        "id": "ZbYYPC8rFZ1m",
        "colab_type": "code",
        "colab": {}
      },
      "source": [
        "import numpy as np\n",
        "import matplotlib.pyplot as plt\n",
        "\n",
        "sample_size = 100000\n",
        "uniform = np.random.rand(sample_size)\n",
        "normal = np.random.randn(sample_size)\n",
        "\n",
        "pdf, bins, patches = plt.hist(uniform, bins=20, range=(0, 1), density=True)\n",
        "plt.title('rand: uniform')\n",
        "plt.show()\n",
        "\n",
        "pdf, bins, patches = plt.hist(normal, bins=20, range=(-4, 4), density=True)\n",
        "plt.title('randn: normal')\n",
        "plt.show()"
      ],
      "execution_count": 0,
      "outputs": []
    },
    {
      "cell_type": "code",
      "metadata": {
        "id": "wlL62PMz-GlB",
        "colab_type": "code",
        "outputId": "9ffb097d-ce3d-4a82-f558-ff679231e677",
        "colab": {
          "base_uri": "https://localhost:8080/",
          "height": 104
        }
      },
      "source": [
        "m = ((np.random.rand(5, 10) <  0.8)) / 0.8\n",
        "np.pad(m, ())"
      ],
      "execution_count": 0,
      "outputs": [
        {
          "output_type": "execute_result",
          "data": {
            "text/plain": [
              "array([[0.  , 1.25, 0.  , 0.  , 0.  , 1.25, 0.  , 1.25, 0.  , 1.25],\n",
              "       [1.25, 1.25, 1.25, 0.  , 1.25, 1.25, 1.25, 1.25, 1.25, 1.25],\n",
              "       [0.  , 1.25, 1.25, 1.25, 0.  , 1.25, 1.25, 0.  , 0.  , 0.  ],\n",
              "       [1.25, 1.25, 1.25, 1.25, 1.25, 0.  , 1.25, 1.25, 1.25, 1.25],\n",
              "       [1.25, 1.25, 1.25, 0.  , 1.25, 0.  , 0.  , 1.25, 1.25, 0.  ]])"
            ]
          },
          "metadata": {
            "tags": []
          },
          "execution_count": 9
        }
      ]
    },
    {
      "cell_type": "markdown",
      "metadata": {
        "tags": [
          "pdf-title"
        ],
        "id": "Or2K6Qn7gATQ",
        "colab_type": "text"
      },
      "source": [
        "# Fully-Connected Neural Nets\n",
        "In the previous homework you implemented a fully-connected two-layer neural network on CIFAR-10. The implementation was simple but not very modular since the loss and gradient were computed in a single monolithic function. This is manageable for a simple two-layer network, but would become impractical as we move to bigger models. Ideally we want to build networks using a more modular design so that we can implement different layer types in isolation and then snap them together into models with different architectures."
      ]
    },
    {
      "cell_type": "markdown",
      "metadata": {
        "tags": [
          "pdf-ignore"
        ],
        "id": "fDq3quUVgATS",
        "colab_type": "text"
      },
      "source": [
        "In this exercise we will implement fully-connected networks using a more modular approach. For each layer we will implement a `forward` and a `backward` function. The `forward` function will receive inputs, weights, and other parameters and will return both an output and a `cache` object storing data needed for the backward pass, like this:\n",
        "\n",
        "```python\n",
        "def layer_forward(x, w):\n",
        "  \"\"\" Receive inputs x and weights w \"\"\"\n",
        "  # Do some computations ...\n",
        "  z = # ... some intermediate value\n",
        "  # Do some more computations ...\n",
        "  out = # the output\n",
        "   \n",
        "  cache = (x, w, z, out) # Values we need to compute gradients\n",
        "   \n",
        "  return out, cache\n",
        "```\n",
        "\n",
        "The backward pass will receive upstream derivatives and the `cache` object, and will return gradients with respect to the inputs and weights, like this:\n",
        "\n",
        "```python\n",
        "def layer_backward(dout, cache):\n",
        "  \"\"\"\n",
        "  Receive dout (derivative of loss with respect to outputs) and cache,\n",
        "  and compute derivative with respect to inputs.\n",
        "  \"\"\"\n",
        "  # Unpack cache values\n",
        "  x, w, z, out = cache\n",
        "  \n",
        "  # Use values in cache to compute derivatives\n",
        "  dx = # Derivative of loss with respect to x\n",
        "  dw = # Derivative of loss with respect to w\n",
        "  \n",
        "  return dx, dw\n",
        "```\n",
        "\n",
        "After implementing a bunch of layers this way, we will be able to easily combine them to build classifiers with different architectures.\n",
        "\n",
        "In addition to implementing fully-connected networks of arbitrary depth, we will also explore different update rules for optimization, and introduce Dropout as a regularizer and Batch/Layer Normalization as a tool to more efficiently optimize deep networks.\n",
        "  "
      ]
    },
    {
      "cell_type": "code",
      "metadata": {
        "id": "0FENlYcNFeUK",
        "colab_type": "code",
        "outputId": "a6cf0f7c-3562-42c8-a17b-4e7a5371c3a9",
        "colab": {
          "base_uri": "https://localhost:8080/",
          "height": 691
        }
      },
      "source": [
        "!unzip spring1819_assignment2.zip"
      ],
      "execution_count": 1,
      "outputs": [
        {
          "output_type": "stream",
          "text": [
            "Archive:  spring1819_assignment2.zip\n",
            "   creating: assignment2/\n",
            "  inflating: assignment2/.gitignore  \n",
            "  inflating: assignment2/BatchNormalization.ipynb  \n",
            "  inflating: assignment2/collectSubmission.sh  \n",
            "  inflating: assignment2/ConvolutionalNetworks.ipynb  \n",
            "   creating: assignment2/cs231n/\n",
            "  inflating: assignment2/cs231n/.gitignore  \n",
            "   creating: assignment2/cs231n/classifiers/\n",
            "  inflating: assignment2/cs231n/classifiers/cnn.py  \n",
            "  inflating: assignment2/cs231n/classifiers/fc_net.py  \n",
            " extracting: assignment2/cs231n/classifiers/__init__.py  \n",
            "   creating: assignment2/cs231n/datasets/\n",
            "  inflating: assignment2/cs231n/datasets/.gitignore  \n",
            "  inflating: assignment2/cs231n/datasets/get_datasets.sh  \n",
            "  inflating: assignment2/cs231n/data_utils.py  \n",
            "  inflating: assignment2/cs231n/fast_layers.py  \n",
            "  inflating: assignment2/cs231n/gradient_check.py  \n",
            "  inflating: assignment2/cs231n/im2col.py  \n",
            "  inflating: assignment2/cs231n/im2col_cython.pyx  \n",
            "  inflating: assignment2/cs231n/layers.py  \n",
            "  inflating: assignment2/cs231n/layer_utils.py  \n",
            "  inflating: assignment2/cs231n/optim.py  \n",
            "  inflating: assignment2/cs231n/setup.py  \n",
            "  inflating: assignment2/cs231n/solver.py  \n",
            "  inflating: assignment2/cs231n/vis_utils.py  \n",
            " extracting: assignment2/cs231n/__init__.py  \n",
            "  inflating: assignment2/Dropout.ipynb  \n",
            "  inflating: assignment2/frameworkpython  \n",
            "  inflating: assignment2/FullyConnectedNets.ipynb  \n",
            "   creating: assignment2/notebook_images/\n",
            "  inflating: assignment2/notebook_images/batchnorm_graph.png  \n",
            "  inflating: assignment2/notebook_images/kitten.jpg  \n",
            "  inflating: assignment2/notebook_images/normalization.png  \n",
            "  inflating: assignment2/notebook_images/puppy.jpg  \n",
            "  inflating: assignment2/PyTorch.ipynb  \n",
            "  inflating: assignment2/requirements.txt  \n",
            "  inflating: assignment2/start_ipython_osx.sh  \n",
            "  inflating: assignment2/TensorFlow.ipynb  \n"
          ],
          "name": "stdout"
        }
      ]
    },
    {
      "cell_type": "code",
      "metadata": {
        "id": "0ouk1xgOFZWG",
        "colab_type": "code",
        "colab": {}
      },
      "source": [
        "import sys\n",
        "sys.path.append('/content/assignment2')"
      ],
      "execution_count": 0,
      "outputs": []
    },
    {
      "cell_type": "code",
      "metadata": {
        "id": "pDRTuccSLzsd",
        "colab_type": "code",
        "colab": {}
      },
      "source": [
        "from cs231n.data_utils import load_CIFAR10"
      ],
      "execution_count": 0,
      "outputs": []
    },
    {
      "cell_type": "code",
      "metadata": {
        "tags": [
          "pdf-ignore"
        ],
        "id": "Ty-GNIcFgATT",
        "colab_type": "code",
        "outputId": "4a4de1de-4ed8-4ca4-82fb-fc28db12084f",
        "colab": {
          "base_uri": "https://localhost:8080/",
          "height": 69
        }
      },
      "source": [
        "# As usual, a bit of setup\n",
        "from __future__ import print_function\n",
        "import time\n",
        "import numpy as np\n",
        "import matplotlib.pyplot as plt\n",
        "from cs231n.classifiers.fc_net import *\n",
        "from cs231n.data_utils import get_CIFAR10_data, load_CIFAR10\n",
        "from cs231n.gradient_check import eval_numerical_gradient, eval_numerical_gradient_array\n",
        "from cs231n.solver import Solver\n",
        "\n",
        "%matplotlib inline\n",
        "plt.rcParams['figure.figsize'] = (10.0, 8.0) # set default size of plots\n",
        "plt.rcParams['image.interpolation'] = 'nearest'\n",
        "plt.rcParams['image.cmap'] = 'gray'\n",
        "\n",
        "# for auto-reloading external modules\n",
        "# see http://stackoverflow.com/questions/1907993/autoreload-of-modules-in-ipython\n",
        "%load_ext autoreload\n",
        "%autoreload 2\n",
        "\n",
        "def rel_error(x, y):\n",
        "  \"\"\" returns relative error \"\"\"\n",
        "  return np.max(np.abs(x - y) / (np.maximum(1e-8, np.abs(x) + np.abs(y))))"
      ],
      "execution_count": 3,
      "outputs": [
        {
          "output_type": "stream",
          "text": [
            "run the following from the cs231n directory and try again:\n",
            "python setup.py build_ext --inplace\n",
            "You may also need to restart your iPython kernel\n"
          ],
          "name": "stdout"
        }
      ]
    },
    {
      "cell_type": "code",
      "metadata": {
        "id": "IP2SFY19GFPZ",
        "colab_type": "code",
        "colab": {}
      },
      "source": [
        "python setup.py build_ext --inplace"
      ],
      "execution_count": 0,
      "outputs": []
    },
    {
      "cell_type": "code",
      "metadata": {
        "id": "tY8ovGVBJwkM",
        "colab_type": "code",
        "outputId": "a0e83212-a269-45c5-c688-5cd6ea269395",
        "colab": {
          "base_uri": "https://localhost:8080/",
          "height": 363
        }
      },
      "source": [
        "!./assignment2/cs231n/datasets/get_datasets.sh"
      ],
      "execution_count": 4,
      "outputs": [
        {
          "output_type": "stream",
          "text": [
            "--2019-07-05 08:46:20--  http://www.cs.toronto.edu/~kriz/cifar-10-python.tar.gz\n",
            "Resolving www.cs.toronto.edu (www.cs.toronto.edu)... 128.100.3.30\n",
            "Connecting to www.cs.toronto.edu (www.cs.toronto.edu)|128.100.3.30|:80... connected.\n",
            "HTTP request sent, awaiting response... 200 OK\n",
            "Length: 170498071 (163M) [application/x-gzip]\n",
            "Saving to: ‘cifar-10-python.tar.gz’\n",
            "\n",
            "cifar-10-python.tar 100%[===================>] 162.60M  44.2MB/s    in 3.8s    \n",
            "\n",
            "2019-07-05 08:46:24 (42.8 MB/s) - ‘cifar-10-python.tar.gz’ saved [170498071/170498071]\n",
            "\n",
            "cifar-10-batches-py/\n",
            "cifar-10-batches-py/data_batch_4\n",
            "cifar-10-batches-py/readme.html\n",
            "cifar-10-batches-py/test_batch\n",
            "cifar-10-batches-py/data_batch_3\n",
            "cifar-10-batches-py/batches.meta\n",
            "cifar-10-batches-py/data_batch_2\n",
            "cifar-10-batches-py/data_batch_5\n",
            "cifar-10-batches-py/data_batch_1\n"
          ],
          "name": "stdout"
        }
      ]
    },
    {
      "cell_type": "code",
      "metadata": {
        "id": "MGcNry4cLDpm",
        "colab_type": "code",
        "colab": {}
      },
      "source": [
        "cifar10_dir = 'cifar-10-batches-py'\n",
        "X_train, y_train, X_test, y_test = load_CIFAR10(cifar10_dir)"
      ],
      "execution_count": 0,
      "outputs": []
    },
    {
      "cell_type": "code",
      "metadata": {
        "tags": [
          "pdf-ignore"
        ],
        "id": "CIZSUKg3gATZ",
        "colab_type": "code",
        "outputId": "0a80aff2-3c8c-4f09-8937-3f0366b0da0a",
        "colab": {
          "base_uri": "https://localhost:8080/",
          "height": 121
        }
      },
      "source": [
        "# Load the (preprocessed) CIFAR10 data.\n",
        "\n",
        "data = get_CIFAR10_data()\n",
        "for k, v in list(data.items()):\n",
        "  print(('%s: ' % k, v.shape))"
      ],
      "execution_count": 26,
      "outputs": [
        {
          "output_type": "stream",
          "text": [
            "('X_train: ', (49000, 3, 32, 32))\n",
            "('y_train: ', (49000,))\n",
            "('X_val: ', (1000, 3, 32, 32))\n",
            "('y_val: ', (1000,))\n",
            "('X_test: ', (1000, 3, 32, 32))\n",
            "('y_test: ', (1000,))\n"
          ],
          "name": "stdout"
        }
      ]
    },
    {
      "cell_type": "code",
      "metadata": {
        "id": "xPCm5Euho3Eh",
        "colab_type": "code",
        "colab": {
          "base_uri": "https://localhost:8080/",
          "height": 35
        },
        "outputId": "d8cce11f-a3fe-46f9-db04-bd86ffd3c160"
      },
      "source": [
        "len(data)"
      ],
      "execution_count": 31,
      "outputs": [
        {
          "output_type": "execute_result",
          "data": {
            "text/plain": [
              "6"
            ]
          },
          "metadata": {
            "tags": []
          },
          "execution_count": 31
        }
      ]
    },
    {
      "cell_type": "markdown",
      "metadata": {
        "id": "xtfkMxBygATc",
        "colab_type": "text"
      },
      "source": [
        "# Affine layer: foward\n",
        "Open the file `cs231n/layers.py` and implement the `affine_forward` function.\n",
        "\n",
        "Once you are done you can test your implementaion by running the following:"
      ]
    },
    {
      "cell_type": "code",
      "metadata": {
        "id": "G_2VY05fgATd",
        "colab_type": "code",
        "outputId": "6ae18589-9bda-4294-d471-3fe6f9cb9a10",
        "colab": {
          "base_uri": "https://localhost:8080/",
          "height": 52
        }
      },
      "source": [
        "# Test the affine_forward function\n",
        "\n",
        "num_inputs = 2\n",
        "input_shape = (4, 5, 6)\n",
        "output_dim = 3\n",
        "\n",
        "input_size = num_inputs * np.prod(input_shape)\n",
        "weight_size = output_dim * np.prod(input_shape)\n",
        "\n",
        "x = np.linspace(-0.1, 0.5, num=input_size).reshape(num_inputs, *input_shape)\n",
        "w = np.linspace(-0.2, 0.3, num=weight_size).reshape(np.prod(input_shape), output_dim)\n",
        "b = np.linspace(-0.3, 0.1, num=output_dim)\n",
        "\n",
        "out, _ = affine_forward(x, w, b)\n",
        "correct_out = np.array([[ 1.49834967,  1.70660132,  1.91485297],\n",
        "                        [ 3.25553199,  3.5141327,   3.77273342]])\n",
        "\n",
        "# Compare your output with ours. The error should be around e-9 or less.\n",
        "print('Testing affine_forward function:')\n",
        "print('difference: ', rel_error(out, correct_out))"
      ],
      "execution_count": 7,
      "outputs": [
        {
          "output_type": "stream",
          "text": [
            "Testing affine_forward function:\n",
            "difference:  9.769849468192957e-10\n"
          ],
          "name": "stdout"
        }
      ]
    },
    {
      "cell_type": "code",
      "metadata": {
        "id": "QadNYV4IzMkF",
        "colab_type": "code",
        "colab": {
          "base_uri": "https://localhost:8080/",
          "height": 35
        },
        "outputId": "fab51a1f-d691-41d8-cc59-dcad7067fd6d"
      },
      "source": [
        "np.prod(input_shape)"
      ],
      "execution_count": 8,
      "outputs": [
        {
          "output_type": "execute_result",
          "data": {
            "text/plain": [
              "120"
            ]
          },
          "metadata": {
            "tags": []
          },
          "execution_count": 8
        }
      ]
    },
    {
      "cell_type": "code",
      "metadata": {
        "id": "GfUOdyO5P1Tp",
        "colab_type": "code",
        "outputId": "06fa4767-1c6b-4606-ad22-f10dc2cb7667",
        "colab": {
          "base_uri": "https://localhost:8080/",
          "height": 35
        }
      },
      "source": [
        "x = np.array([536870910, 536870910, 536870910, 536870910])\n",
        "np.prod(x)"
      ],
      "execution_count": 12,
      "outputs": [
        {
          "output_type": "execute_result",
          "data": {
            "text/plain": [
              "6917529010461212688"
            ]
          },
          "metadata": {
            "tags": []
          },
          "execution_count": 12
        }
      ]
    },
    {
      "cell_type": "code",
      "metadata": {
        "id": "RLTK8LdOPKhm",
        "colab_type": "code",
        "outputId": "9d57066b-06f5-4f64-9f10-90174b1d7497",
        "colab": {
          "base_uri": "https://localhost:8080/",
          "height": 35
        }
      },
      "source": [
        "w.shape"
      ],
      "execution_count": 0,
      "outputs": [
        {
          "output_type": "execute_result",
          "data": {
            "text/plain": [
              "(120, 3)"
            ]
          },
          "metadata": {
            "tags": []
          },
          "execution_count": 19
        }
      ]
    },
    {
      "cell_type": "markdown",
      "metadata": {
        "id": "Y3AmUDXlgATg",
        "colab_type": "text"
      },
      "source": [
        "# Affine layer: backward\n",
        "Now implement the `affine_backward` function and test your implementation using numeric gradient checking."
      ]
    },
    {
      "cell_type": "code",
      "metadata": {
        "id": "WSevmuHOgATh",
        "colab_type": "code",
        "outputId": "a793886e-c786-4a18-a00a-303e89075dc2",
        "colab": {
          "base_uri": "https://localhost:8080/",
          "height": 86
        }
      },
      "source": [
        "# Test the affine_backward function\n",
        "np.random.seed(231)\n",
        "x = np.random.randn(10, 2, 3)\n",
        "w = np.random.randn(6, 5)\n",
        "b = np.random.randn(5)\n",
        "dout = np.random.randn(10, 5)\n",
        "\n",
        "dx_num = eval_numerical_gradient_array(lambda x: affine_forward(x, w, b)[0], x, dout)\n",
        "dw_num = eval_numerical_gradient_array(lambda w: affine_forward(x, w, b)[0], w, dout)\n",
        "db_num = eval_numerical_gradient_array(lambda b: affine_forward(x, w, b)[0], b, dout)\n",
        "\n",
        "_, cache = affine_forward(x, w, b)\n",
        "dx, dw, db = affine_backward(dout, cache)\n",
        "\n",
        "# The error should be around e-10 or less\n",
        "print('Testing affine_backward function:')\n",
        "print('dx error: ', rel_error(dx_num, dx))\n",
        "print('dw error: ', rel_error(dw_num, dw))\n",
        "print('db error: ', rel_error(db_num, db))"
      ],
      "execution_count": 9,
      "outputs": [
        {
          "output_type": "stream",
          "text": [
            "Testing affine_backward function:\n",
            "dx error:  5.399100368651805e-11\n",
            "dw error:  9.904211865398145e-11\n",
            "db error:  2.4122867568119087e-11\n"
          ],
          "name": "stdout"
        }
      ]
    },
    {
      "cell_type": "markdown",
      "metadata": {
        "id": "sdD-61VfgATk",
        "colab_type": "text"
      },
      "source": [
        "# ReLU activation: forward\n",
        "Implement the forward pass for the ReLU activation function in the `relu_forward` function and test your implementation using the following:"
      ]
    },
    {
      "cell_type": "code",
      "metadata": {
        "id": "o_jVtW9RgATl",
        "colab_type": "code",
        "outputId": "089d236e-6b99-439d-ec57-6d1307bf49a4",
        "colab": {
          "base_uri": "https://localhost:8080/",
          "height": 52
        }
      },
      "source": [
        "# Test the relu_forward function\n",
        "\n",
        "x = np.linspace(-0.5, 0.5, num=12).reshape(3, 4)\n",
        "\n",
        "out, _ = relu_forward(x)\n",
        "correct_out = np.array([[ 0.,          0.,          0.,          0.,        ],\n",
        "                        [ 0.,          0.,          0.04545455,  0.13636364,],\n",
        "                        [ 0.22727273,  0.31818182,  0.40909091,  0.5,       ]])\n",
        "\n",
        "# Compare your output with ours. The error should be on the order of e-8\n",
        "print('Testing relu_forward function:')\n",
        "print('difference: ', rel_error(out, correct_out))"
      ],
      "execution_count": 11,
      "outputs": [
        {
          "output_type": "stream",
          "text": [
            "Testing relu_forward function:\n",
            "difference:  4.999999798022158e-08\n"
          ],
          "name": "stdout"
        }
      ]
    },
    {
      "cell_type": "code",
      "metadata": {
        "id": "UMrfZpHhgVj-",
        "colab_type": "code",
        "outputId": "01e7b722-7478-435f-d577-11de9156d9d7",
        "colab": {
          "base_uri": "https://localhost:8080/",
          "height": 69
        }
      },
      "source": [
        "x"
      ],
      "execution_count": 0,
      "outputs": [
        {
          "output_type": "execute_result",
          "data": {
            "text/plain": [
              "array([[-0.5       , -0.40909091, -0.31818182, -0.22727273],\n",
              "       [-0.13636364, -0.04545455,  0.04545455,  0.13636364],\n",
              "       [ 0.22727273,  0.31818182,  0.40909091,  0.5       ]])"
            ]
          },
          "metadata": {
            "tags": []
          },
          "execution_count": 10
        }
      ]
    },
    {
      "cell_type": "markdown",
      "metadata": {
        "id": "I52V2gZbgATo",
        "colab_type": "text"
      },
      "source": [
        "# ReLU activation: backward\n",
        "Now implement the backward pass for the ReLU activation function in the `relu_backward` function and test your implementation using numeric gradient checking:"
      ]
    },
    {
      "cell_type": "code",
      "metadata": {
        "id": "X31Je2KPgATp",
        "colab_type": "code",
        "outputId": "62071b88-0ea7-4339-91b8-c444f6704c73",
        "colab": {
          "base_uri": "https://localhost:8080/",
          "height": 52
        }
      },
      "source": [
        "np.random.seed(231)\n",
        "x = np.random.randn(10, 10)\n",
        "dout = np.random.randn(*x.shape)\n",
        "\n",
        "dx_num = eval_numerical_gradient_array(lambda x: relu_forward(x)[0], x, dout)\n",
        "\n",
        "_, cache = relu_forward(x)\n",
        "dx = relu_backward(dout, cache)\n",
        "\n",
        "# The error should be on the order of e-12\n",
        "print('Testing relu_backward function:')\n",
        "print('dx error: ', rel_error(dx_num, dx))"
      ],
      "execution_count": 12,
      "outputs": [
        {
          "output_type": "stream",
          "text": [
            "Testing relu_backward function:\n",
            "dx error:  3.2756349136310288e-12\n"
          ],
          "name": "stdout"
        }
      ]
    },
    {
      "cell_type": "code",
      "metadata": {
        "id": "xAGX5OKtghZG",
        "colab_type": "code",
        "outputId": "80219ae2-8b24-480a-f06e-6e130705bf78",
        "colab": {
          "base_uri": "https://localhost:8080/",
          "height": 363
        }
      },
      "source": [
        "x"
      ],
      "execution_count": 0,
      "outputs": [
        {
          "output_type": "execute_result",
          "data": {
            "text/plain": [
              "array([[ 0.41794341,  1.39710028, -1.78590431, -0.70882773, -0.07472532,\n",
              "        -0.77501677, -0.1497979 ,  1.86172902, -1.4255293 , -0.3763567 ],\n",
              "       [-0.34227539,  0.29490764, -0.83732373,  0.95218767,  1.32931659,\n",
              "         0.52465245, -0.14809998,  0.88953195,  0.12444653,  0.99109251],\n",
              "       [ 0.03514666,  0.26207083,  0.14320173,  0.90101716,  0.23185863,\n",
              "        -0.79725793,  0.12001014, -0.65679608,  0.26917456,  0.333667  ],\n",
              "       [ 0.27423503,  0.76215717, -0.69550058,  0.29214712, -0.38489942,\n",
              "         0.1228747 , -1.42904497,  0.70286283, -0.85850947, -1.14042979],\n",
              "       [-1.58535997, -0.01530138, -0.32156083,  0.56834936, -0.19961722,\n",
              "         1.27286625,  1.27292534,  1.58102968, -1.75626715,  0.9217743 ],\n",
              "       [-0.6753054 , -1.43443616,  0.47021125,  0.03196734,  0.04448574,\n",
              "         0.47824879, -2.51335181, -1.15740245, -0.70470413, -1.04978879],\n",
              "       [-1.90795589,  0.49258765,  0.83736166, -1.4288134 , -0.18982427,\n",
              "        -1.14094943, -2.12570755, -0.41354791,  0.44148975,  0.16411113],\n",
              "       [-0.65505065, -0.30212765, -0.25704466, -0.12841368,  0.26338593,\n",
              "         0.1672181 , -0.30871951, -1.26754462, -0.22319022, -0.82993433],\n",
              "       [-1.11271826, -0.44613095, -0.40001719,  0.36343905,  0.94992777,\n",
              "        -0.32379447,  0.27031704, -0.63381148, -2.71484268,  0.65576139],\n",
              "       [-1.17004858,  0.0598685 , -1.64182729, -0.28069634, -0.67946972,\n",
              "        -1.80480094,  0.53770564, -0.12171369, -1.04250949,  0.13828792]])"
            ]
          },
          "metadata": {
            "tags": []
          },
          "execution_count": 12
        }
      ]
    },
    {
      "cell_type": "code",
      "metadata": {
        "id": "IEexlMI1kKrp",
        "colab_type": "code",
        "outputId": "be6c4be9-f62f-4fda-bcdd-d1531253b92a",
        "colab": {
          "base_uri": "https://localhost:8080/",
          "height": 363
        }
      },
      "source": [
        "_"
      ],
      "execution_count": 0,
      "outputs": [
        {
          "output_type": "execute_result",
          "data": {
            "text/plain": [
              "array([[-0.22557183, -1.1928829 , -0.        ,  0.        ,  0.        ,\n",
              "        -0.        ,  0.        , -0.35229594,  0.        , -0.        ],\n",
              "       [-0.        , -0.84338097, -0.        ,  0.85434757, -0.90377338,\n",
              "        -1.0525584 , -0.        ,  0.18083726, -0.4125417 ,  1.22913948],\n",
              "       [-0.97791748, -0.63978524, -0.00880963,  0.36213294,  0.35148162,\n",
              "        -0.        , -0.84272962,  0.        , -2.39079478,  0.88256212],\n",
              "       [-1.12082008,  0.12416778, -0.        , -1.62701704, -0.        ,\n",
              "         2.00862337,  0.        , -0.86943856,  0.        , -0.        ],\n",
              "       [-0.        , -0.        , -0.        , -0.67498124,  0.        ,\n",
              "        -0.11970425,  0.59700586, -2.0399063 , -0.        , -1.61700346],\n",
              "       [-0.        ,  0.        ,  1.97009461, -0.81967191,  0.42367521,\n",
              "        -1.83570698,  0.        ,  0.        ,  0.        ,  0.        ],\n",
              "       [ 0.        ,  2.13935149, -0.77429891, -0.        , -0.        ,\n",
              "        -0.        , -0.        , -0.        ,  0.59190367, -0.56016357],\n",
              "       [ 0.        , -0.        , -0.        ,  0.        ,  0.37364743,\n",
              "        -0.26051388,  0.        , -0.        , -0.        ,  0.        ],\n",
              "       [-0.        , -0.        ,  0.        , -1.74506882, -0.2476718 ,\n",
              "         0.        ,  1.09734348,  0.        , -0.        , -0.32986357],\n",
              "       [-0.        , -0.00396778,  0.        , -0.        ,  0.        ,\n",
              "        -0.        , -0.9308637 , -0.        , -0.        , -1.1058167 ]])"
            ]
          },
          "metadata": {
            "tags": []
          },
          "execution_count": 15
        }
      ]
    },
    {
      "cell_type": "code",
      "metadata": {
        "id": "kUTFgmfKSDdm",
        "colab_type": "code",
        "outputId": "b5d6dc7c-61f0-45e8-b5fa-e87755f2b47c",
        "colab": {
          "base_uri": "https://localhost:8080/",
          "height": 363
        }
      },
      "source": [
        "dx_num"
      ],
      "execution_count": 0,
      "outputs": [
        {
          "output_type": "execute_result",
          "data": {
            "text/plain": [
              "array([[-0.22557183, -1.1928829 ,  0.        ,  0.        ,  0.        ,\n",
              "         0.        ,  0.        , -0.35229594,  0.        ,  0.        ],\n",
              "       [ 0.        , -0.84338097,  0.        ,  0.85434757, -0.90377338,\n",
              "        -1.0525584 ,  0.        ,  0.18083726, -0.4125417 ,  1.22913948],\n",
              "       [-0.97791748, -0.63978524, -0.00880963,  0.36213294,  0.35148162,\n",
              "         0.        , -0.84272962,  0.        , -2.39079478,  0.88256212],\n",
              "       [-1.12082008,  0.12416778,  0.        , -1.62701704,  0.        ,\n",
              "         2.00862337,  0.        , -0.86943856,  0.        ,  0.        ],\n",
              "       [ 0.        ,  0.        ,  0.        , -0.67498124,  0.        ,\n",
              "        -0.11970425,  0.59700586, -2.0399063 ,  0.        , -1.61700346],\n",
              "       [ 0.        ,  0.        ,  1.97009461, -0.81967191,  0.42367521,\n",
              "        -1.83570698,  0.        ,  0.        ,  0.        ,  0.        ],\n",
              "       [ 0.        ,  2.13935149, -0.77429891,  0.        ,  0.        ,\n",
              "         0.        ,  0.        ,  0.        ,  0.59190367, -0.56016357],\n",
              "       [ 0.        ,  0.        ,  0.        ,  0.        ,  0.37364743,\n",
              "        -0.26051388,  0.        ,  0.        ,  0.        ,  0.        ],\n",
              "       [ 0.        ,  0.        ,  0.        , -1.74506882, -0.2476718 ,\n",
              "         0.        ,  1.09734348,  0.        ,  0.        , -0.32986357],\n",
              "       [ 0.        , -0.00396778,  0.        ,  0.        ,  0.        ,\n",
              "         0.        , -0.9308637 ,  0.        ,  0.        , -1.1058167 ]])"
            ]
          },
          "metadata": {
            "tags": []
          },
          "execution_count": 13
        }
      ]
    },
    {
      "cell_type": "code",
      "metadata": {
        "id": "Kb_qzDNdR7ke",
        "colab_type": "code",
        "outputId": "f9c47163-d90d-4213-dbcd-f945a8441a1a",
        "colab": {
          "base_uri": "https://localhost:8080/",
          "height": 363
        }
      },
      "source": [
        "dout"
      ],
      "execution_count": 0,
      "outputs": [
        {
          "output_type": "execute_result",
          "data": {
            "text/plain": [
              "array([[-0.22557183, -1.1928829 , -0.68320696,  0.19909408,  0.03070661,\n",
              "        -0.44972639,  0.14447532, -0.35229594,  0.4882136 , -0.4347099 ],\n",
              "       [-0.28692265, -0.84338097, -0.10827394,  0.85434757, -0.90377338,\n",
              "        -1.0525584 , -0.30409794,  0.18083726, -0.4125417 ,  1.22913948],\n",
              "       [-0.97791748, -0.63978524, -0.00880963,  0.36213294,  0.35148162,\n",
              "        -1.20064035, -0.84272962,  1.61832501, -2.39079478,  0.88256212],\n",
              "       [-1.12082008,  0.12416778, -2.43434598, -1.62701704, -1.10613945,\n",
              "         2.00862337,  0.91447992, -0.86943856,  0.13741017, -0.72261465],\n",
              "       [-0.6755518 , -0.04084145, -1.15755894, -0.67498124,  0.44252644,\n",
              "        -0.11970425,  0.59700586, -2.0399063 , -0.6447033 , -1.61700346],\n",
              "       [-1.85570785,  0.7480524 ,  1.97009461, -0.81967191,  0.42367521,\n",
              "        -1.83570698,  1.00583627,  0.05834497,  0.98687019,  0.27827513],\n",
              "       [ 0.119619  ,  2.13935149, -0.77429891, -0.42011785, -0.77768316,\n",
              "        -1.0141586 , -2.30296116, -0.3678455 ,  0.59190367, -0.56016357],\n",
              "       [ 1.03339676, -1.20718575, -0.93426589,  0.92234837,  0.37364743,\n",
              "        -0.26051388,  0.61250765, -0.62647791, -0.40298073,  0.08972095],\n",
              "       [-0.58799396, -0.57508564,  0.57878641, -1.74506882, -0.2476718 ,\n",
              "         0.73309629,  1.09734348,  0.15542587, -0.37233773, -0.32986357],\n",
              "       [-0.04243928, -0.00396778,  0.20182891, -0.66278042,  0.15851809,\n",
              "        -1.63260189, -0.9308637 , -0.63096867, -1.88697885, -1.1058167 ]])"
            ]
          },
          "metadata": {
            "tags": []
          },
          "execution_count": 25
        }
      ]
    },
    {
      "cell_type": "code",
      "metadata": {
        "id": "lYeevtOWRyOU",
        "colab_type": "code",
        "outputId": "b559f962-9ba1-4eac-ddca-a0d0aadf013e",
        "colab": {
          "base_uri": "https://localhost:8080/",
          "height": 363
        }
      },
      "source": [
        "dx"
      ],
      "execution_count": 0,
      "outputs": [
        {
          "output_type": "execute_result",
          "data": {
            "text/plain": [
              "array([[-0.22557183, -1.1928829 , -0.        ,  0.        ,  0.        ,\n",
              "        -0.        ,  0.        , -0.35229594,  0.        , -0.        ],\n",
              "       [-0.        , -0.84338097, -0.        ,  0.85434757, -0.90377338,\n",
              "        -1.0525584 , -0.        ,  0.18083726, -0.4125417 ,  1.22913948],\n",
              "       [-0.97791748, -0.63978524, -0.00880963,  0.36213294,  0.35148162,\n",
              "        -0.        , -0.84272962,  0.        , -2.39079478,  0.88256212],\n",
              "       [-1.12082008,  0.12416778, -0.        , -1.62701704, -0.        ,\n",
              "         2.00862337,  0.        , -0.86943856,  0.        , -0.        ],\n",
              "       [-0.        , -0.        , -0.        , -0.67498124,  0.        ,\n",
              "        -0.11970425,  0.59700586, -2.0399063 , -0.        , -1.61700346],\n",
              "       [-0.        ,  0.        ,  1.97009461, -0.81967191,  0.42367521,\n",
              "        -1.83570698,  0.        ,  0.        ,  0.        ,  0.        ],\n",
              "       [ 0.        ,  2.13935149, -0.77429891, -0.        , -0.        ,\n",
              "        -0.        , -0.        , -0.        ,  0.59190367, -0.56016357],\n",
              "       [ 0.        , -0.        , -0.        ,  0.        ,  0.37364743,\n",
              "        -0.26051388,  0.        , -0.        , -0.        ,  0.        ],\n",
              "       [-0.        , -0.        ,  0.        , -1.74506882, -0.2476718 ,\n",
              "         0.        ,  1.09734348,  0.        , -0.        , -0.32986357],\n",
              "       [-0.        , -0.00396778,  0.        , -0.        ,  0.        ,\n",
              "        -0.        , -0.9308637 , -0.        , -0.        , -1.1058167 ]])"
            ]
          },
          "metadata": {
            "tags": []
          },
          "execution_count": 14
        }
      ]
    },
    {
      "cell_type": "markdown",
      "metadata": {
        "tags": [
          "pdf-inline"
        ],
        "id": "qptQ2BSrgATs",
        "colab_type": "text"
      },
      "source": [
        "## Inline Question 1: \n",
        "\n",
        "We've only asked you to implement ReLU, but there are a number of different activation functions that one could use in neural networks, each with its pros and cons. In particular, an issue commonly seen with activation functions is getting zero (or close to zero) gradient flow during backpropagation. Which of the following activation functions have this problem? If you consider these functions in the one dimensional case, what types of input would lead to this behaviour?\n",
        "1. Sigmoid\n",
        "2. ReLU\n",
        "3. Leaky ReLU\n",
        "\n",
        "## Answer:\n",
        "[FILL THIS IN]\n"
      ]
    },
    {
      "cell_type": "markdown",
      "metadata": {
        "id": "M_ez5ZslgATt",
        "colab_type": "text"
      },
      "source": [
        "# \"Sandwich\" layers\n",
        "There are some common patterns of layers that are frequently used in neural nets. For example, affine layers are frequently followed by a ReLU nonlinearity. To make these common patterns easy, we define several convenience layers in the file `cs231n/layer_utils.py`.\n",
        "\n",
        "For now take a look at the `affine_relu_forward` and `affine_relu_backward` functions, and run the following to numerically gradient check the backward pass:"
      ]
    },
    {
      "cell_type": "code",
      "metadata": {
        "id": "cGSyNe-ugATu",
        "colab_type": "code",
        "outputId": "4e58bc03-f5e3-4ea9-dd9d-e59dcdc6b4c2",
        "colab": {
          "base_uri": "https://localhost:8080/",
          "height": 86
        }
      },
      "source": [
        "from cs231n.layer_utils import affine_relu_forward, affine_relu_backward\n",
        "np.random.seed(231)\n",
        "x = np.random.randn(2, 3, 4)\n",
        "w = np.random.randn(12, 10)\n",
        "b = np.random.randn(10)\n",
        "dout = np.random.randn(2, 10)\n",
        "\n",
        "out, cache = affine_relu_forward(x, w, b)\n",
        "dx, dw, db = affine_relu_backward(dout, cache)\n",
        "\n",
        "dx_num = eval_numerical_gradient_array(lambda x: affine_relu_forward(x, w, b)[0], x, dout)\n",
        "dw_num = eval_numerical_gradient_array(lambda w: affine_relu_forward(x, w, b)[0], w, dout)\n",
        "db_num = eval_numerical_gradient_array(lambda b: affine_relu_forward(x, w, b)[0], b, dout)\n",
        "\n",
        "# Relative error should be around e-10 or less\n",
        "print('Testing affine_relu_forward and affine_relu_backward:')\n",
        "print('dx error: ', rel_error(dx_num, dx))\n",
        "print('dw error: ', rel_error(dw_num, dw))\n",
        "print('db error: ', rel_error(db_num, db))"
      ],
      "execution_count": 14,
      "outputs": [
        {
          "output_type": "stream",
          "text": [
            "Testing affine_relu_forward and affine_relu_backward:\n",
            "dx error:  2.299579177309368e-11\n",
            "dw error:  8.162011105764925e-11\n",
            "db error:  7.826724021458994e-12\n"
          ],
          "name": "stdout"
        }
      ]
    },
    {
      "cell_type": "markdown",
      "metadata": {
        "id": "t41etx6EgATz",
        "colab_type": "text"
      },
      "source": [
        "# Loss layers: Softmax and SVM\n",
        "You implemented these loss functions in the last assignment, so we'll give them to you for free here. You should still make sure you understand how they work by looking at the implementations in `cs231n/layers.py`.\n",
        "\n",
        "You can make sure that the implementations are correct by running the following:"
      ]
    },
    {
      "cell_type": "code",
      "metadata": {
        "id": "Mwl41NFRgAT0",
        "colab_type": "code",
        "outputId": "0f3f0d21-c63d-4590-8944-0cbb2a022c32",
        "colab": {
          "base_uri": "https://localhost:8080/",
          "height": 138
        }
      },
      "source": [
        "np.random.seed(231)\n",
        "num_classes, num_inputs = 10, 50\n",
        "x = 0.001 * np.random.randn(num_inputs, num_classes)\n",
        "y = np.random.randint(num_classes, size=num_inputs)\n",
        "\n",
        "dx_num = eval_numerical_gradient(lambda x: svm_loss(x, y)[0], x, verbose=False)\n",
        "loss, dx = svm_loss(x, y)\n",
        "\n",
        "# Test svm_loss function. Loss should be around 9 and dx error should be around the order of e-9\n",
        "print('Testing svm_loss:')\n",
        "print('loss: ', loss)\n",
        "print('dx error: ', rel_error(dx_num, dx))\n",
        "\n",
        "dx_num = eval_numerical_gradient(lambda x: softmax_loss(x, y)[0], x, verbose=False)\n",
        "loss, dx = softmax_loss(x, y)\n",
        "\n",
        "# Test softmax_loss function. Loss should be close to 2.3 and dx error should be around e-8\n",
        "print('\\nTesting softmax_loss:')\n",
        "print('loss: ', loss)\n",
        "print('dx error: ', rel_error(dx_num, dx))"
      ],
      "execution_count": 15,
      "outputs": [
        {
          "output_type": "stream",
          "text": [
            "Testing svm_loss:\n",
            "loss:  8.999602749096233\n",
            "dx error:  1.4021566006651672e-09\n",
            "\n",
            "Testing softmax_loss:\n",
            "loss:  2.302545844500738\n",
            "dx error:  9.384673161989355e-09\n"
          ],
          "name": "stdout"
        }
      ]
    },
    {
      "cell_type": "code",
      "metadata": {
        "id": "7T6xE3wXMOo7",
        "colab_type": "code",
        "colab": {}
      },
      "source": [
        "for i in xrange(5):\n",
        "    print(i)"
      ],
      "execution_count": 0,
      "outputs": []
    },
    {
      "cell_type": "markdown",
      "metadata": {
        "id": "tv4fGn9wgAT3",
        "colab_type": "text"
      },
      "source": [
        "# Two-layer network\n",
        "In the previous assignment you implemented a two-layer neural network in a single monolithic class. Now that you have implemented modular versions of the necessary layers, you will reimplement the two layer network using these modular implementations.\n",
        "\n",
        "Open the file `cs231n/classifiers/fc_net.py` and complete the implementation of the `TwoLayerNet` class. This class will serve as a model for the other networks you will implement in this assignment, so read through it to make sure you understand the API. You can run the cell below to test your implementation."
      ]
    },
    {
      "cell_type": "code",
      "metadata": {
        "id": "KnIR-eb6bYul",
        "colab_type": "code",
        "colab": {
          "base_uri": "https://localhost:8080/",
          "height": 35
        },
        "outputId": "63867d19-c199-4d16-98ca-56639b46c22f"
      },
      "source": [
        "y"
      ],
      "execution_count": 20,
      "outputs": [
        {
          "output_type": "execute_result",
          "data": {
            "text/plain": [
              "array([0, 5, 1])"
            ]
          },
          "metadata": {
            "tags": []
          },
          "execution_count": 20
        }
      ]
    },
    {
      "cell_type": "code",
      "metadata": {
        "id": "F4cTPlYigAT4",
        "colab_type": "code",
        "outputId": "a591b346-3401-4840-cb4c-7887bf2a65bf",
        "colab": {
          "base_uri": "https://localhost:8080/",
          "height": 328
        }
      },
      "source": [
        "np.random.seed(231)\n",
        "N, D, H, C = 3, 5, 50, 7\n",
        "X = np.random.randn(N, D)\n",
        "y = np.random.randint(C, size=N)\n",
        "\n",
        "std = 1e-3\n",
        "model = TwoLayerNet(input_dim=D, hidden_dim=H, num_classes=C, weight_scale=std)\n",
        "\n",
        "print('Testing initialization ... ')\n",
        "W1_std = abs(model.params['W1'].std() - std)\n",
        "b1 = model.params['b1']\n",
        "W2_std = abs(model.params['W2'].std() - std)\n",
        "b2 = model.params['b2']\n",
        "assert W1_std < std / 10, 'First layer weights do not seem right'\n",
        "assert np.all(b1 == 0), 'First layer biases do not seem right'\n",
        "assert W2_std < std / 10, 'Second layer weights do not seem right'\n",
        "assert np.all(b2 == 0), 'Second layer biases do not seem right'\n",
        "\n",
        "print('Testing test-time forward pass ... ')\n",
        "model.params['W1'] = np.linspace(-0.7, 0.3, num=D*H).reshape(D, H)\n",
        "model.params['b1'] = np.linspace(-0.1, 0.9, num=H)\n",
        "model.params['W2'] = np.linspace(-0.3, 0.4, num=H*C).reshape(H, C)\n",
        "model.params['b2'] = np.linspace(-0.9, 0.1, num=C)\n",
        "X = np.linspace(-5.5, 4.5, num=N*D).reshape(D, N).T\n",
        "scores = model.loss(X)\n",
        "correct_scores = np.asarray(\n",
        "  [[11.53165108,  12.2917344,   13.05181771,  13.81190102,  14.57198434, 15.33206765,  16.09215096],\n",
        "   [12.05769098,  12.74614105,  13.43459113,  14.1230412,   14.81149128, 15.49994135,  16.18839143],\n",
        "   [12.58373087,  13.20054771,  13.81736455,  14.43418138,  15.05099822, 15.66781506,  16.2846319 ]])\n",
        "scores_diff = np.abs(scores - correct_scores).sum()\n",
        "assert scores_diff < 1e-6, 'Problem with test-time forward pass'\n",
        "\n",
        "print('Testing training loss (no regularization)')\n",
        "y = np.asarray([0, 5, 1])\n",
        "loss, grads = model.loss(X, y)\n",
        "correct_loss = 3.4702243556\n",
        "assert abs(loss - correct_loss) < 1e-10, 'Problem with training-time loss'\n",
        "\n",
        "model.reg = 1.0\n",
        "loss, grads = model.loss(X, y)\n",
        "correct_loss = 26.5948426952\n",
        "assert abs(loss - correct_loss) < 1e-10, 'Problem with regularization loss'\n",
        "\n",
        "# Errors should be around e-7 or less\n",
        "for reg in [0.0, 0.5, 0.7]:\n",
        "  print('Running numeric gradient check with reg = ', reg)\n",
        "  model.reg = reg\n",
        "  loss, grads = model.loss(X, y)\n",
        "\n",
        "  for name in sorted(grads):\n",
        "    f = lambda _: model.loss(X, y)[0]\n",
        "    grad_num = eval_numerical_gradient(f, model.params[name], verbose=False)\n",
        "    print('%s relative error: %.2e' % (name, rel_error(grad_num, grads[name])))"
      ],
      "execution_count": 23,
      "outputs": [
        {
          "output_type": "stream",
          "text": [
            "Testing initialization ... \n",
            "Testing test-time forward pass ... \n",
            "Testing training loss (no regularization)\n",
            "Running numeric gradient check with reg =  0.0\n",
            "W1 relative error: 1.83e-08\n",
            "W2 relative error: 3.12e-10\n",
            "b1 relative error: 9.83e-09\n",
            "b2 relative error: 4.33e-10\n",
            "Running numeric gradient check with reg =  0.5\n",
            "W1 relative error: 3.88e-08\n",
            "W2 relative error: 4.12e-09\n",
            "b1 relative error: 1.35e-08\n",
            "b2 relative error: 7.76e-10\n",
            "Running numeric gradient check with reg =  0.7\n",
            "W1 relative error: 3.12e-07\n",
            "W2 relative error: 7.98e-08\n",
            "b1 relative error: 1.35e-08\n",
            "b2 relative error: 1.97e-09\n"
          ],
          "name": "stdout"
        }
      ]
    },
    {
      "cell_type": "code",
      "metadata": {
        "id": "-KUF_ptra1Zx",
        "colab_type": "code",
        "colab": {}
      },
      "source": [
        ""
      ],
      "execution_count": 0,
      "outputs": []
    },
    {
      "cell_type": "markdown",
      "metadata": {
        "id": "nNF8iYQFgAT7",
        "colab_type": "text"
      },
      "source": [
        "# Solver\n",
        "In the previous assignment, the logic for training models was coupled to the models themselves. Following a more modular design, for this assignment we have split the logic for training models into a separate class.\n",
        "\n",
        "Open the file `cs231n/solver.py` and read through it to familiarize yourself with the API. After doing so, use a `Solver` instance to train a `TwoLayerNet` that achieves at least `50%` accuracy on the validation set."
      ]
    },
    {
      "cell_type": "code",
      "metadata": {
        "id": "U93NO0ZlgAT8",
        "colab_type": "code",
        "colab": {
          "base_uri": "https://localhost:8080/",
          "height": 1000
        },
        "outputId": "40ac5240-b8e0-4105-eb8a-7815e581b8b3"
      },
      "source": [
        "model = TwoLayerNet()\n",
        "solver = None\n",
        "\n",
        "##############################################################################\n",
        "# TODO: Use a Solver instance to train a TwoLayerNet that achieves at least  #\n",
        "# 50% accuracy on the validation set.                                        #\n",
        "##############################################################################\n",
        "# *****START OF YOUR CODE (DO NOT DELETE/MODIFY THIS LINE)*****\n",
        "solver = Solver(model, data,\n",
        "               update_rule='sgd',\n",
        "               optim_config={\n",
        "                   'learning_rate' : 1e-3,\n",
        "               },\n",
        "               lr_decay=0.8,\n",
        "               num_epochs=10, batch_size=100,\n",
        "               print_every=100)\n",
        "solver.train()\n",
        "scores = model.loss(data['X_test'])\n",
        "y_pred = np.argmax(scores, axis=1)\n",
        "acc = y_pred == data['y_test']\n",
        "acc = np.mean(acc)\n",
        "print('test accuracy : %f'% (acc))\n",
        "\n",
        "pass\n",
        "\n",
        "# *****END OF YOUR CODE (DO NOT DELETE/MODIFY THIS LINE)*****\n",
        "##############################################################################\n",
        "#                             END OF YOUR CODE                               #\n",
        "##############################################################################"
      ],
      "execution_count": 45,
      "outputs": [
        {
          "output_type": "stream",
          "text": [
            "(Iteration 1 / 4900) loss: 2.306052\n",
            "(Epoch 0 / 10) train acc: 0.130000; val_acc: 0.100000\n",
            "(Iteration 101 / 4900) loss: 1.847363\n",
            "(Iteration 201 / 4900) loss: 1.623317\n",
            "(Iteration 301 / 4900) loss: 1.681719\n",
            "(Iteration 401 / 4900) loss: 1.517170\n",
            "(Epoch 1 / 10) train acc: 0.436000; val_acc: 0.457000\n",
            "(Iteration 501 / 4900) loss: 1.379787\n",
            "(Iteration 601 / 4900) loss: 1.451103\n",
            "(Iteration 701 / 4900) loss: 1.362704\n",
            "(Iteration 801 / 4900) loss: 1.367507\n",
            "(Iteration 901 / 4900) loss: 1.537627\n",
            "(Epoch 2 / 10) train acc: 0.484000; val_acc: 0.486000\n",
            "(Iteration 1001 / 4900) loss: 1.323661\n",
            "(Iteration 1101 / 4900) loss: 1.463996\n",
            "(Iteration 1201 / 4900) loss: 1.434427\n",
            "(Iteration 1301 / 4900) loss: 1.384769\n",
            "(Iteration 1401 / 4900) loss: 1.131099\n",
            "(Epoch 3 / 10) train acc: 0.535000; val_acc: 0.482000\n",
            "(Iteration 1501 / 4900) loss: 1.198504\n",
            "(Iteration 1601 / 4900) loss: 1.410104\n",
            "(Iteration 1701 / 4900) loss: 1.347666\n",
            "(Iteration 1801 / 4900) loss: 1.200636\n",
            "(Iteration 1901 / 4900) loss: 1.414176\n",
            "(Epoch 4 / 10) train acc: 0.546000; val_acc: 0.478000\n",
            "(Iteration 2001 / 4900) loss: 1.178256\n",
            "(Iteration 2101 / 4900) loss: 1.151659\n",
            "(Iteration 2201 / 4900) loss: 1.367059\n",
            "(Iteration 2301 / 4900) loss: 1.113298\n",
            "(Iteration 2401 / 4900) loss: 1.322675\n",
            "(Epoch 5 / 10) train acc: 0.602000; val_acc: 0.502000\n",
            "(Iteration 2501 / 4900) loss: 1.153895\n",
            "(Iteration 2601 / 4900) loss: 1.189474\n",
            "(Iteration 2701 / 4900) loss: 1.081546\n",
            "(Iteration 2801 / 4900) loss: 1.113699\n",
            "(Iteration 2901 / 4900) loss: 1.263887\n",
            "(Epoch 6 / 10) train acc: 0.578000; val_acc: 0.518000\n",
            "(Iteration 3001 / 4900) loss: 1.239858\n",
            "(Iteration 3101 / 4900) loss: 1.272165\n",
            "(Iteration 3201 / 4900) loss: 1.228938\n",
            "(Iteration 3301 / 4900) loss: 1.203891\n",
            "(Iteration 3401 / 4900) loss: 1.257517\n",
            "(Epoch 7 / 10) train acc: 0.603000; val_acc: 0.520000\n",
            "(Iteration 3501 / 4900) loss: 1.206581\n",
            "(Iteration 3601 / 4900) loss: 1.159204\n",
            "(Iteration 3701 / 4900) loss: 1.191107\n",
            "(Iteration 3801 / 4900) loss: 0.919592\n",
            "(Iteration 3901 / 4900) loss: 1.220611\n",
            "(Epoch 8 / 10) train acc: 0.608000; val_acc: 0.528000\n",
            "(Iteration 4001 / 4900) loss: 1.168353\n",
            "(Iteration 4101 / 4900) loss: 0.990470\n",
            "(Iteration 4201 / 4900) loss: 1.227831\n",
            "(Iteration 4301 / 4900) loss: 1.068566\n",
            "(Iteration 4401 / 4900) loss: 1.267541\n",
            "(Epoch 9 / 10) train acc: 0.610000; val_acc: 0.529000\n",
            "(Iteration 4501 / 4900) loss: 1.157764\n",
            "(Iteration 4601 / 4900) loss: 1.210625\n",
            "(Iteration 4701 / 4900) loss: 1.008269\n",
            "(Iteration 4801 / 4900) loss: 1.314007\n",
            "(Epoch 10 / 10) train acc: 0.603000; val_acc: 0.530000\n",
            "test accuracy : 0.528000\n"
          ],
          "name": "stdout"
        }
      ]
    },
    {
      "cell_type": "code",
      "metadata": {
        "id": "3BW2jKbiuW8q",
        "colab_type": "code",
        "colab": {}
      },
      "source": [
        "data['y_test']"
      ],
      "execution_count": 0,
      "outputs": []
    },
    {
      "cell_type": "code",
      "metadata": {
        "id": "cC37aIAguT7V",
        "colab_type": "code",
        "colab": {}
      },
      "source": [
        "y_pred"
      ],
      "execution_count": 0,
      "outputs": []
    },
    {
      "cell_type": "code",
      "metadata": {
        "id": "7aZplbFWu7E7",
        "colab_type": "code",
        "colab": {
          "base_uri": "https://localhost:8080/",
          "height": 35
        },
        "outputId": "73fb14b4-44e1-4a6b-e4c9-600b9829412e"
      },
      "source": [
        "acc"
      ],
      "execution_count": 38,
      "outputs": [
        {
          "output_type": "execute_result",
          "data": {
            "text/plain": [
              "0.518"
            ]
          },
          "metadata": {
            "tags": []
          },
          "execution_count": 38
        }
      ]
    },
    {
      "cell_type": "code",
      "metadata": {
        "id": "j9cDBN41gAT-",
        "colab_type": "code",
        "colab": {
          "base_uri": "https://localhost:8080/",
          "height": 750
        },
        "outputId": "8a3ae337-947f-4b80-f1f3-4cf59d3bcfff"
      },
      "source": [
        "# Run this cell to visualize training loss and train / val accuracy\n",
        "\n",
        "plt.subplot(2, 1, 1)\n",
        "plt.title('Training loss')\n",
        "plt.plot(solver.loss_history, 'o')\n",
        "plt.xlabel('Iteration')\n",
        "\n",
        "plt.subplot(2, 1, 2)\n",
        "plt.title('Accuracy')\n",
        "plt.plot(solver.train_acc_history, '-o', label='train')\n",
        "plt.plot(solver.val_acc_history, '-o', label='val')\n",
        "plt.plot([0.5] * len(solver.val_acc_history), 'k--')\n",
        "plt.xlabel('Epoch')\n",
        "plt.legend(loc='lower right')\n",
        "plt.gcf().set_size_inches(15, 12)\n",
        "plt.show()"
      ],
      "execution_count": 46,
      "outputs": [
        {
          "output_type": "display_data",
          "data": {
            "image/png": "[encoded data removed]",
            "text/plain": [
              "<Figure size 1080x864 with 2 Axes>"
            ]
          },
          "metadata": {
            "tags": []
          }
        }
      ]
    },
    {
      "cell_type": "markdown",
      "metadata": {
        "id": "akC0LOPygAUB",
        "colab_type": "text"
      },
      "source": [
        "# Multilayer network\n",
        "Next you will implement a fully-connected network with an arbitrary number of hidden layers.\n",
        "\n",
        "Read through the `FullyConnectedNet` class in the file `cs231n/classifiers/fc_net.py`.\n",
        "\n",
        "Implement the initialization, the forward pass, and the backward pass. For the moment don't worry about implementing dropout or batch/layer normalization; we will add those features soon."
      ]
    },
    {
      "cell_type": "markdown",
      "metadata": {
        "id": "Iqe1NHVMgAUC",
        "colab_type": "text"
      },
      "source": [
        "## Initial loss and gradient check\n",
        "\n",
        "As a sanity check, run the following to check the initial loss and to gradient check the network both with and without regularization. Do the initial losses seem reasonable?\n",
        "\n",
        "For gradient checking, you should expect to see errors around 1e-7 or less."
      ]
    },
    {
      "cell_type": "code",
      "metadata": {
        "id": "JASQ8x4lgAUD",
        "colab_type": "code",
        "colab": {
          "base_uri": "https://localhost:8080/",
          "height": 328
        },
        "outputId": "8c66cdc9-de10-4c17-bbad-8620c9cef2f4"
      },
      "source": [
        "np.random.seed(231)\n",
        "N, D, H1, H2, C = 2, 15, 20, 30, 10\n",
        "X = np.random.randn(N, D)\n",
        "y = np.random.randint(C, size=(N,))\n",
        "\n",
        "for reg in [0, 3.14]:\n",
        "  print('Running check with reg = ', reg)\n",
        "  model = FullyConnectedNet([H1, H2], input_dim=D, num_classes=C,\n",
        "                            reg=reg, weight_scale=5e-2, dtype=np.float64)\n",
        "  print(1)\n",
        "\n",
        "  loss, grads = model.loss(X, y)\n",
        "  print('Initial loss: ', loss)\n",
        "  \n",
        "  # Most of the errors should be on the order of e-7 or smaller.   \n",
        "  # NOTE: It is fine however to see an error for W2 on the order of e-5\n",
        "  # for the check when reg = 0.0\n",
        "  for name in sorted(grads):\n",
        "    f = lambda _: model.loss(X, y)[0]\n",
        "    grad_num = eval_numerical_gradient(f, model.params[name], verbose=False, h=1e-5)\n",
        "    print('%s relative error: %.2e' % (name, rel_error(grad_num, grads[name])))"
      ],
      "execution_count": 59,
      "outputs": [
        {
          "output_type": "stream",
          "text": [
            "Running check with reg =  0\n",
            "1\n",
            "Initial loss:  2.3004790897684924\n",
            "W1 relative error: 1.48e-07\n",
            "W2 relative error: 2.21e-05\n",
            "W3 relative error: 3.53e-07\n",
            "b1 relative error: 5.38e-09\n",
            "b2 relative error: 2.09e-09\n",
            "b3 relative error: 5.80e-11\n",
            "Running check with reg =  3.14\n",
            "1\n",
            "Initial loss:  7.052114776533016\n",
            "W1 relative error: 7.36e-09\n",
            "W2 relative error: 6.87e-08\n",
            "W3 relative error: 3.48e-08\n",
            "b1 relative error: 1.48e-08\n",
            "b2 relative error: 1.72e-09\n",
            "b3 relative error: 1.80e-10\n"
          ],
          "name": "stdout"
        }
      ]
    },
    {
      "cell_type": "code",
      "metadata": {
        "id": "M1rECw0n1QgJ",
        "colab_type": "code",
        "colab": {
          "base_uri": "https://localhost:8080/",
          "height": 35
        },
        "outputId": "a93161d5-7efb-431c-fa0b-23eecd19a4fe"
      },
      "source": [
        "loss"
      ],
      "execution_count": 60,
      "outputs": [
        {
          "output_type": "execute_result",
          "data": {
            "text/plain": [
              "7.052114776533016"
            ]
          },
          "metadata": {
            "tags": []
          },
          "execution_count": 60
        }
      ]
    },
    {
      "cell_type": "markdown",
      "metadata": {
        "id": "uev7pMZDgAUG",
        "colab_type": "text"
      },
      "source": [
        "As another sanity check, make sure you can overfit a small dataset of 50 images. First we will try a three-layer network with 100 units in each hidden layer. In the following cell, tweak the **learning rate** and **weight initialization scale** to overfit and achieve 100% training accuracy within 20 epochs."
      ]
    },
    {
      "cell_type": "code",
      "metadata": {
        "scrolled": false,
        "id": "73I2wZPmgAUH",
        "colab_type": "code",
        "colab": {
          "base_uri": "https://localhost:8080/",
          "height": 945
        },
        "outputId": "f213e952-ca27-4a83-e6f4-23f6069e96b8"
      },
      "source": [
        "# TODO: Use a three-layer Net to overfit 50 training examples by \n",
        "# tweaking just the learning rate and initialization scale.\n",
        "\n",
        "num_train = 50\n",
        "small_data = {\n",
        "  'X_train': data['X_train'][:num_train],\n",
        "  'y_train': data['y_train'][:num_train],\n",
        "  'X_val': data['X_val'],\n",
        "  'y_val': data['y_val'],\n",
        "}\n",
        "\n",
        "weight_scale = 5e-2   # Experiment with this!\n",
        "learning_rate = 2e-4  # Experiment with this!\n",
        "model = FullyConnectedNet([100, 100],\n",
        "              weight_scale=weight_scale, dtype=np.float64)\n",
        "solver = Solver(model, small_data,\n",
        "                print_every=10, num_epochs=20, batch_size=25,\n",
        "                update_rule='sgd',\n",
        "                optim_config={\n",
        "                  'learning_rate': learning_rate,\n",
        "                }\n",
        "         )\n",
        "solver.train()\n",
        "\n",
        "plt.plot(solver.loss_history, 'o')\n",
        "plt.title('Training loss history')\n",
        "plt.xlabel('Iteration')\n",
        "plt.ylabel('Training loss')\n",
        "plt.show()"
      ],
      "execution_count": 83,
      "outputs": [
        {
          "output_type": "stream",
          "text": [
            "(Iteration 1 / 40) loss: 26.769573\n",
            "(Epoch 0 / 20) train acc: 0.200000; val_acc: 0.108000\n",
            "(Epoch 1 / 20) train acc: 0.240000; val_acc: 0.113000\n",
            "(Epoch 2 / 20) train acc: 0.300000; val_acc: 0.130000\n",
            "(Epoch 3 / 20) train acc: 0.400000; val_acc: 0.141000\n",
            "(Epoch 4 / 20) train acc: 0.400000; val_acc: 0.139000\n",
            "(Epoch 5 / 20) train acc: 0.420000; val_acc: 0.139000\n",
            "(Iteration 11 / 40) loss: 4.286409\n",
            "(Epoch 6 / 20) train acc: 0.540000; val_acc: 0.139000\n",
            "(Epoch 7 / 20) train acc: 0.720000; val_acc: 0.135000\n",
            "(Epoch 8 / 20) train acc: 0.620000; val_acc: 0.142000\n",
            "(Epoch 9 / 20) train acc: 0.600000; val_acc: 0.129000\n",
            "(Epoch 10 / 20) train acc: 0.760000; val_acc: 0.140000\n",
            "(Iteration 21 / 40) loss: 2.358473\n",
            "(Epoch 11 / 20) train acc: 0.740000; val_acc: 0.141000\n",
            "(Epoch 12 / 20) train acc: 0.880000; val_acc: 0.147000\n",
            "(Epoch 13 / 20) train acc: 0.960000; val_acc: 0.136000\n",
            "(Epoch 14 / 20) train acc: 0.940000; val_acc: 0.144000\n",
            "(Epoch 15 / 20) train acc: 0.980000; val_acc: 0.135000\n",
            "(Iteration 31 / 40) loss: 0.162733\n",
            "(Epoch 16 / 20) train acc: 0.980000; val_acc: 0.135000\n",
            "(Epoch 17 / 20) train acc: 0.980000; val_acc: 0.138000\n",
            "(Epoch 18 / 20) train acc: 1.000000; val_acc: 0.137000\n",
            "(Epoch 19 / 20) train acc: 1.000000; val_acc: 0.135000\n",
            "(Epoch 20 / 20) train acc: 1.000000; val_acc: 0.137000\n"
          ],
          "name": "stdout"
        },
        {
          "output_type": "display_data",
          "data": {
            "image/png": "[encoded data removed]",
            "text/plain": [
              "<Figure size 720x576 with 1 Axes>"
            ]
          },
          "metadata": {
            "tags": []
          }
        }
      ]
    },
    {
      "cell_type": "markdown",
      "metadata": {
        "id": "gcvhGZeCgAUK",
        "colab_type": "text"
      },
      "source": [
        "Now try to use a five-layer network with 100 units on each layer to overfit 50 training examples. Again, you will have to adjust the learning rate and weight initialization scale, but you should be able to achieve 100% training accuracy within 20 epochs."
      ]
    },
    {
      "cell_type": "code",
      "metadata": {
        "id": "dBmQj3mMgAUL",
        "colab_type": "code",
        "colab": {
          "base_uri": "https://localhost:8080/",
          "height": 945
        },
        "outputId": "d799bbf7-26f6-4f9e-c258-e9ddf3996cdc"
      },
      "source": [
        "# TODO: Use a five-layer Net to overfit 50 training examples by \n",
        "# tweaking just the learning rate and initialization scale.\n",
        "\n",
        "num_train = 50\n",
        "small_data = {\n",
        "  'X_train': data['X_train'][:num_train],\n",
        "  'y_train': data['y_train'][:num_train],\n",
        "  'X_val': data['X_val'],\n",
        "  'y_val': data['y_val'],\n",
        "}\n",
        "\n",
        "learning_rate = 2e-4  # Experiment with this!\n",
        "weight_scale = 1e-1   # Experiment with this!\n",
        "model = FullyConnectedNet([100, 100, 100, 100],\n",
        "                weight_scale=weight_scale, dtype=np.float64)\n",
        "solver = Solver(model, small_data,\n",
        "                print_every=10, num_epochs=20, batch_size=25,\n",
        "                update_rule='sgd',\n",
        "                optim_config={\n",
        "                  'learning_rate': learning_rate,\n",
        "                }\n",
        "         )\n",
        "solver.train()\n",
        "\n",
        "plt.plot(solver.loss_history, 'o')\n",
        "plt.title('Training loss history')\n",
        "plt.xlabel('Iteration')\n",
        "plt.ylabel('Training loss')\n",
        "plt.show()"
      ],
      "execution_count": 80,
      "outputs": [
        {
          "output_type": "stream",
          "text": [
            "(Iteration 1 / 40) loss: 89.701593\n",
            "(Epoch 0 / 20) train acc: 0.160000; val_acc: 0.107000\n",
            "(Epoch 1 / 20) train acc: 0.180000; val_acc: 0.100000\n",
            "(Epoch 2 / 20) train acc: 0.280000; val_acc: 0.088000\n",
            "(Epoch 3 / 20) train acc: 0.400000; val_acc: 0.115000\n",
            "(Epoch 4 / 20) train acc: 0.360000; val_acc: 0.095000\n",
            "(Epoch 5 / 20) train acc: 0.620000; val_acc: 0.112000\n",
            "(Iteration 11 / 40) loss: 3.924840\n",
            "(Epoch 6 / 20) train acc: 0.700000; val_acc: 0.112000\n",
            "(Epoch 7 / 20) train acc: 0.760000; val_acc: 0.110000\n",
            "(Epoch 8 / 20) train acc: 0.760000; val_acc: 0.112000\n",
            "(Epoch 9 / 20) train acc: 0.960000; val_acc: 0.108000\n",
            "(Epoch 10 / 20) train acc: 1.000000; val_acc: 0.112000\n",
            "(Iteration 21 / 40) loss: 0.000164\n",
            "(Epoch 11 / 20) train acc: 1.000000; val_acc: 0.113000\n",
            "(Epoch 12 / 20) train acc: 1.000000; val_acc: 0.114000\n",
            "(Epoch 13 / 20) train acc: 1.000000; val_acc: 0.114000\n",
            "(Epoch 14 / 20) train acc: 1.000000; val_acc: 0.114000\n",
            "(Epoch 15 / 20) train acc: 1.000000; val_acc: 0.113000\n",
            "(Iteration 31 / 40) loss: 0.002808\n",
            "(Epoch 16 / 20) train acc: 1.000000; val_acc: 0.112000\n",
            "(Epoch 17 / 20) train acc: 1.000000; val_acc: 0.112000\n",
            "(Epoch 18 / 20) train acc: 1.000000; val_acc: 0.112000\n",
            "(Epoch 19 / 20) train acc: 1.000000; val_acc: 0.112000\n",
            "(Epoch 20 / 20) train acc: 1.000000; val_acc: 0.112000\n"
          ],
          "name": "stdout"
        },
        {
          "output_type": "display_data",
          "data": {
            "image/png": "[encoded data removed]",
            "text/plain": [
              "<Figure size 720x576 with 1 Axes>"
            ]
          },
          "metadata": {
            "tags": []
          }
        }
      ]
    },
    {
      "cell_type": "markdown",
      "metadata": {
        "tags": [
          "pdf-inline"
        ],
        "id": "CwUgx83lgAUO",
        "colab_type": "text"
      },
      "source": [
        "## Inline Question 2: \n",
        "Did you notice anything about the comparative difficulty of training the three-layer net vs training the five layer net? In particular, based on your experience, which network seemed more sensitive to the initialization scale? Why do you think that is the case?\n",
        "\n",
        "## Answer:\n",
        "[FILL THIS IN]\n",
        "five layer net"
      ]
    },
    {
      "cell_type": "markdown",
      "metadata": {
        "id": "ZN3kPMHmgAUO",
        "colab_type": "text"
      },
      "source": [
        "# Update rules\n",
        "So far we have used vanilla stochastic gradient descent (SGD) as our update rule. More sophisticated update rules can make it easier to train deep networks. We will implement a few of the most commonly used update rules and compare them to vanilla SGD."
      ]
    },
    {
      "cell_type": "markdown",
      "metadata": {
        "id": "TM6OoYkLgAUQ",
        "colab_type": "text"
      },
      "source": [
        "# SGD+Momentum\n",
        "Stochastic gradient descent with momentum is a widely used update rule that tends to make deep networks converge faster than vanilla stochastic gradient descent. See the Momentum Update section at http://cs231n.github.io/neural-networks-3/#sgd for more information.\n",
        "\n",
        "Open the file `cs231n/optim.py` and read the documentation at the top of the file to make sure you understand the API. Implement the SGD+momentum update rule in the function `sgd_momentum` and run the following to check your implementation. You should see errors less than e-8."
      ]
    },
    {
      "cell_type": "code",
      "metadata": {
        "id": "aUziiwkIgAUR",
        "colab_type": "code",
        "colab": {
          "base_uri": "https://localhost:8080/",
          "height": 52
        },
        "outputId": "3c4e7b18-aecb-4300-8f9e-aa8392b28b00"
      },
      "source": [
        "from cs231n.optim import sgd_momentum\n",
        "\n",
        "N, D = 4, 5\n",
        "w = np.linspace(-0.4, 0.6, num=N*D).reshape(N, D)\n",
        "dw = np.linspace(-0.6, 0.4, num=N*D).reshape(N, D)\n",
        "v = np.linspace(0.6, 0.9, num=N*D).reshape(N, D)\n",
        "\n",
        "config = {'learning_rate': 1e-3, 'velocity': v}\n",
        "next_w, _ = sgd_momentum(w, dw, config=config)\n",
        "\n",
        "expected_next_w = np.asarray([\n",
        "  [ 0.1406,      0.20738947,  0.27417895,  0.34096842,  0.40775789],\n",
        "  [ 0.47454737,  0.54133684,  0.60812632,  0.67491579,  0.74170526],\n",
        "  [ 0.80849474,  0.87528421,  0.94207368,  1.00886316,  1.07565263],\n",
        "  [ 1.14244211,  1.20923158,  1.27602105,  1.34281053,  1.4096    ]])\n",
        "expected_velocity = np.asarray([\n",
        "  [ 0.5406,      0.55475789,  0.56891579, 0.58307368,  0.59723158],\n",
        "  [ 0.61138947,  0.62554737,  0.63970526,  0.65386316,  0.66802105],\n",
        "  [ 0.68217895,  0.69633684,  0.71049474,  0.72465263,  0.73881053],\n",
        "  [ 0.75296842,  0.76712632,  0.78128421,  0.79544211,  0.8096    ]])\n",
        "\n",
        "# Should see relative errors around e-8 or less\n",
        "print('next_w error: ', rel_error(next_w, expected_next_w))\n",
        "print('velocity error: ', rel_error(expected_velocity, config['velocity']))"
      ],
      "execution_count": 89,
      "outputs": [
        {
          "output_type": "stream",
          "text": [
            "next_w error:  8.882347033505819e-09\n",
            "velocity error:  4.269287743278663e-09\n"
          ],
          "name": "stdout"
        }
      ]
    },
    {
      "cell_type": "markdown",
      "metadata": {
        "id": "OUAwEGfXgAUZ",
        "colab_type": "text"
      },
      "source": [
        "Once you have done so, run the following to train a six-layer network with both SGD and SGD+momentum. You should see the SGD+momentum update rule converge faster."
      ]
    },
    {
      "cell_type": "code",
      "metadata": {
        "scrolled": false,
        "id": "H1jjKFpNgAUb",
        "colab_type": "code",
        "colab": {
          "base_uri": "https://localhost:8080/",
          "height": 1000
        },
        "outputId": "26a80be0-52b8-4572-800d-da938f9f8074"
      },
      "source": [
        "num_train = 4000\n",
        "small_data = {\n",
        "  'X_train': data['X_train'][:num_train],\n",
        "  'y_train': data['y_train'][:num_train],\n",
        "  'X_val': data['X_val'],\n",
        "  'y_val': data['y_val'],\n",
        "}\n",
        "\n",
        "solvers = {}\n",
        "\n",
        "for update_rule in ['sgd', 'sgd_momentum']:\n",
        "  print('running with ', update_rule)\n",
        "  model = FullyConnectedNet([100, 100, 100, 100, 100], weight_scale=5e-2)\n",
        "\n",
        "  solver = Solver(model, small_data,\n",
        "                  num_epochs=5, batch_size=100,\n",
        "                  update_rule=update_rule,\n",
        "                  optim_config={\n",
        "                    'learning_rate': 5e-3,\n",
        "                  },\n",
        "                  verbose=True)\n",
        "  solvers[update_rule] = solver\n",
        "  solver.train()\n",
        "  print()\n",
        "\n",
        "plt.subplot(3, 1, 1)\n",
        "plt.title('Training loss')\n",
        "plt.xlabel('Iteration')\n",
        "\n",
        "plt.subplot(3, 1, 2)\n",
        "plt.title('Training accuracy')\n",
        "plt.xlabel('Epoch')\n",
        "\n",
        "plt.subplot(3, 1, 3)\n",
        "plt.title('Validation accuracy')\n",
        "plt.xlabel('Epoch')\n",
        "\n",
        "for update_rule, solver in solvers.items():\n",
        "  plt.subplot(3, 1, 1)\n",
        "  plt.plot(solver.loss_history, 'o', label=\"loss_%s\" % update_rule)\n",
        "  \n",
        "  plt.subplot(3, 1, 2)\n",
        "  plt.plot(solver.train_acc_history, '-o', label=\"train_acc_%s\" % update_rule)\n",
        "\n",
        "  plt.subplot(3, 1, 3)\n",
        "  plt.plot(solver.val_acc_history, '-o', label=\"val_acc_%s\" % update_rule)\n",
        "  \n",
        "for i in [1, 2, 3]:\n",
        "  plt.subplot(3, 1, i)\n",
        "  plt.legend(loc='upper center', ncol=4)\n",
        "plt.gcf().set_size_inches(15, 15)\n",
        "plt.show()"
      ],
      "execution_count": 85,
      "outputs": [
        {
          "output_type": "stream",
          "text": [
            "running with  sgd\n",
            "(Iteration 1 / 200) loss: 2.711835\n",
            "(Epoch 0 / 5) train acc: 0.099000; val_acc: 0.124000\n",
            "(Iteration 11 / 200) loss: 2.338806\n",
            "(Iteration 21 / 200) loss: 2.217592\n",
            "(Iteration 31 / 200) loss: 2.088694\n",
            "(Epoch 1 / 5) train acc: 0.237000; val_acc: 0.231000\n",
            "(Iteration 41 / 200) loss: 2.090874\n",
            "(Iteration 51 / 200) loss: 2.096977\n",
            "(Iteration 61 / 200) loss: 1.928410\n",
            "(Iteration 71 / 200) loss: 2.024091\n",
            "(Epoch 2 / 5) train acc: 0.312000; val_acc: 0.261000\n",
            "(Iteration 81 / 200) loss: 1.938837\n",
            "(Iteration 91 / 200) loss: 1.922257\n",
            "(Iteration 101 / 200) loss: 1.889575\n",
            "(Iteration 111 / 200) loss: 1.825681\n",
            "(Epoch 3 / 5) train acc: 0.298000; val_acc: 0.282000\n",
            "(Iteration 121 / 200) loss: 1.993241\n",
            "(Iteration 131 / 200) loss: 1.862726\n",
            "(Iteration 141 / 200) loss: 1.892932\n",
            "(Iteration 151 / 200) loss: 1.786487\n",
            "(Epoch 4 / 5) train acc: 0.348000; val_acc: 0.294000\n",
            "(Iteration 161 / 200) loss: 1.863903\n",
            "(Iteration 171 / 200) loss: 1.874785\n",
            "(Iteration 181 / 200) loss: 1.806113\n",
            "(Iteration 191 / 200) loss: 1.866167\n",
            "(Epoch 5 / 5) train acc: 0.382000; val_acc: 0.300000\n",
            "\n",
            "running with  sgd_momentum\n",
            "(Iteration 1 / 200) loss: 2.711172\n",
            "(Epoch 0 / 5) train acc: 0.124000; val_acc: 0.102000\n",
            "(Iteration 11 / 200) loss: 2.175370\n",
            "(Iteration 21 / 200) loss: 2.043949\n",
            "(Iteration 31 / 200) loss: 1.941555\n",
            "(Epoch 1 / 5) train acc: 0.301000; val_acc: 0.270000\n",
            "(Iteration 41 / 200) loss: 2.079555\n",
            "(Iteration 51 / 200) loss: 1.911036\n",
            "(Iteration 61 / 200) loss: 1.848486\n",
            "(Iteration 71 / 200) loss: 1.807613\n",
            "(Epoch 2 / 5) train acc: 0.395000; val_acc: 0.299000\n",
            "(Iteration 81 / 200) loss: 1.644731\n",
            "(Iteration 91 / 200) loss: 1.865135\n",
            "(Iteration 101 / 200) loss: 1.756558\n",
            "(Iteration 111 / 200) loss: 1.775391\n",
            "(Epoch 3 / 5) train acc: 0.408000; val_acc: 0.324000\n",
            "(Iteration 121 / 200) loss: 1.849582\n",
            "(Iteration 131 / 200) loss: 1.593828\n",
            "(Iteration 141 / 200) loss: 1.509876\n",
            "(Iteration 151 / 200) loss: 1.480281\n",
            "(Epoch 4 / 5) train acc: 0.486000; val_acc: 0.358000\n",
            "(Iteration 161 / 200) loss: 1.441368\n",
            "(Iteration 171 / 200) loss: 1.476160\n",
            "(Iteration 181 / 200) loss: 1.471512\n",
            "(Iteration 191 / 200) loss: 1.104056\n",
            "(Epoch 5 / 5) train acc: 0.530000; val_acc: 0.351000\n",
            "\n"
          ],
          "name": "stdout"
        },
        {
          "output_type": "stream",
          "text": [
            "/usr/local/lib/python3.6/dist-packages/matplotlib/figure.py:98: MatplotlibDeprecationWarning: \n",
            "Adding an axes using the same arguments as a previous axes currently reuses the earlier instance.  In a future version, a new instance will always be created and returned.  Meanwhile, this warning can be suppressed, and the future behavior ensured, by passing a unique label to each axes instance.\n",
            "  \"Adding an axes using the same arguments as a previous axes \"\n"
          ],
          "name": "stderr"
        },
        {
          "output_type": "display_data",
          "data": {
            "image/png": "[encoded data removed]",
            "text/plain": [
              "<Figure size 1080x1080 with 3 Axes>"
            ]
          },
          "metadata": {
            "tags": []
          }
        }
      ]
    },
    {
      "cell_type": "markdown",
      "metadata": {
        "id": "MCSqIBFtgAUh",
        "colab_type": "text"
      },
      "source": [
        "# RMSProp and Adam\n",
        "RMSProp [1] and Adam [2] are update rules that set per-parameter learning rates by using a running average of the second moments of gradients.\n",
        "\n",
        "In the file `cs231n/optim.py`, implement the RMSProp update rule in the `rmsprop` function and implement the Adam update rule in the `adam` function, and check your implementations using the tests below.\n",
        "\n",
        "**NOTE:** Please implement the _complete_ Adam update rule (with the bias correction mechanism), not the first simplified version mentioned in the course notes. \n",
        "\n",
        "[1] Tijmen Tieleman and Geoffrey Hinton. \"Lecture 6.5-rmsprop: Divide the gradient by a running average of its recent magnitude.\" COURSERA: Neural Networks for Machine Learning 4 (2012).\n",
        "\n",
        "[2] Diederik Kingma and Jimmy Ba, \"Adam: A Method for Stochastic Optimization\", ICLR 2015."
      ]
    },
    {
      "cell_type": "code",
      "metadata": {
        "id": "j_Uh-yFigAUi",
        "colab_type": "code",
        "colab": {
          "base_uri": "https://localhost:8080/",
          "height": 52
        },
        "outputId": "8c5c43da-45ca-4149-ab76-a9dd7c3e5eb6"
      },
      "source": [
        "# Test RMSProp implementation\n",
        "from cs231n.optim import rmsprop\n",
        "\n",
        "N, D = 4, 5\n",
        "w = np.linspace(-0.4, 0.6, num=N*D).reshape(N, D)\n",
        "dw = np.linspace(-0.6, 0.4, num=N*D).reshape(N, D)\n",
        "cache = np.linspace(0.6, 0.9, num=N*D).reshape(N, D)\n",
        "\n",
        "config = {'learning_rate': 1e-2, 'cache': cache}\n",
        "next_w, _ = rmsprop(w, dw, config=config)\n",
        "\n",
        "expected_next_w = np.asarray([\n",
        "  [-0.39223849, -0.34037513, -0.28849239, -0.23659121, -0.18467247],\n",
        "  [-0.132737,   -0.08078555, -0.02881884,  0.02316247,  0.07515774],\n",
        "  [ 0.12716641,  0.17918792,  0.23122175,  0.28326742,  0.33532447],\n",
        "  [ 0.38739248,  0.43947102,  0.49155973,  0.54365823,  0.59576619]])\n",
        "expected_cache = np.asarray([\n",
        "  [ 0.5976,      0.6126277,   0.6277108,   0.64284931,  0.65804321],\n",
        "  [ 0.67329252,  0.68859723,  0.70395734,  0.71937285,  0.73484377],\n",
        "  [ 0.75037008,  0.7659518,   0.78158892,  0.79728144,  0.81302936],\n",
        "  [ 0.82883269,  0.84469141,  0.86060554,  0.87657507,  0.8926    ]])\n",
        "\n",
        "# You should see relative errors around e-7 or less\n",
        "print('next_w error: ', rel_error(expected_next_w, next_w))\n",
        "print('cache error: ', rel_error(expected_cache, config['cache']))"
      ],
      "execution_count": 86,
      "outputs": [
        {
          "output_type": "stream",
          "text": [
            "next_w error:  9.502645229894295e-08\n",
            "cache error:  2.6477955807156126e-09\n"
          ],
          "name": "stdout"
        }
      ]
    },
    {
      "cell_type": "code",
      "metadata": {
        "id": "_FK4sH9-gAUl",
        "colab_type": "code",
        "colab": {
          "base_uri": "https://localhost:8080/",
          "height": 69
        },
        "outputId": "12eed04c-c482-46ab-c40c-34938f043891"
      },
      "source": [
        "# Test Adam implementation\n",
        "from cs231n.optim import adam\n",
        "\n",
        "N, D = 4, 5\n",
        "w = np.linspace(-0.4, 0.6, num=N*D).reshape(N, D)\n",
        "dw = np.linspace(-0.6, 0.4, num=N*D).reshape(N, D)\n",
        "m = np.linspace(0.6, 0.9, num=N*D).reshape(N, D)\n",
        "v = np.linspace(0.7, 0.5, num=N*D).reshape(N, D)\n",
        "\n",
        "config = {'learning_rate': 1e-2, 'm': m, 'v': v, 't': 5}\n",
        "next_w, _ = adam(w, dw, config=config)\n",
        "\n",
        "expected_next_w = np.asarray([\n",
        "  [-0.40094747, -0.34836187, -0.29577703, -0.24319299, -0.19060977],\n",
        "  [-0.1380274,  -0.08544591, -0.03286534,  0.01971428,  0.0722929],\n",
        "  [ 0.1248705,   0.17744702,  0.23002243,  0.28259667,  0.33516969],\n",
        "  [ 0.38774145,  0.44031188,  0.49288093,  0.54544852,  0.59801459]])\n",
        "expected_v = np.asarray([\n",
        "  [ 0.69966,     0.68908382,  0.67851319,  0.66794809,  0.65738853,],\n",
        "  [ 0.64683452,  0.63628604,  0.6257431,   0.61520571,  0.60467385,],\n",
        "  [ 0.59414753,  0.58362676,  0.57311152,  0.56260183,  0.55209767,],\n",
        "  [ 0.54159906,  0.53110598,  0.52061845,  0.51013645,  0.49966,   ]])\n",
        "expected_m = np.asarray([\n",
        "  [ 0.48,        0.49947368,  0.51894737,  0.53842105,  0.55789474],\n",
        "  [ 0.57736842,  0.59684211,  0.61631579,  0.63578947,  0.65526316],\n",
        "  [ 0.67473684,  0.69421053,  0.71368421,  0.73315789,  0.75263158],\n",
        "  [ 0.77210526,  0.79157895,  0.81105263,  0.83052632,  0.85      ]])\n",
        "\n",
        "# You should see relative errors around e-7 or less\n",
        "print('next_w error: ', rel_error(expected_next_w, next_w))\n",
        "print('v error: ', rel_error(expected_v, config['v']))\n",
        "print('m error: ', rel_error(expected_m, config['m']))"
      ],
      "execution_count": 87,
      "outputs": [
        {
          "output_type": "stream",
          "text": [
            "next_w error:  1.139887467333134e-07\n",
            "v error:  4.208314038113071e-09\n",
            "m error:  4.214963193114416e-09\n"
          ],
          "name": "stdout"
        }
      ]
    },
    {
      "cell_type": "markdown",
      "metadata": {
        "id": "C0zIoXXUgAUn",
        "colab_type": "text"
      },
      "source": [
        "Once you have debugged your RMSProp and Adam implementations, run the following to train a pair of deep networks using these new update rules:"
      ]
    },
    {
      "cell_type": "code",
      "metadata": {
        "id": "16cEImCfgAUp",
        "colab_type": "code",
        "colab": {
          "base_uri": "https://localhost:8080/",
          "height": 1000
        },
        "outputId": "22295236-a15c-4c7d-e17a-91d762dcf1d8"
      },
      "source": [
        "learning_rates = {'rmsprop': 1e-4, 'adam': 1e-3}\n",
        "for update_rule in ['adam', 'rmsprop']:\n",
        "  print('running with ', update_rule)\n",
        "  model = FullyConnectedNet([100, 100, 100, 100, 100], weight_scale=5e-2)\n",
        "\n",
        "  solver = Solver(model, small_data,\n",
        "                  num_epochs=5, batch_size=100,\n",
        "                  update_rule=update_rule,\n",
        "                  optim_config={\n",
        "                    'learning_rate': learning_rates[update_rule]\n",
        "                  },\n",
        "                  verbose=True)\n",
        "  solvers[update_rule] = solver\n",
        "  solver.train()\n",
        "  print()\n",
        "\n",
        "plt.subplot(3, 1, 1)\n",
        "plt.title('Training loss')\n",
        "plt.xlabel('Iteration')\n",
        "\n",
        "plt.subplot(3, 1, 2)\n",
        "plt.title('Training accuracy')\n",
        "plt.xlabel('Epoch')\n",
        "\n",
        "plt.subplot(3, 1, 3)\n",
        "plt.title('Validation accuracy')\n",
        "plt.xlabel('Epoch')\n",
        "\n",
        "for update_rule, solver in list(solvers.items()):\n",
        "  plt.subplot(3, 1, 1)\n",
        "  plt.plot(solver.loss_history, 'o', label=update_rule)\n",
        "  \n",
        "  plt.subplot(3, 1, 2)\n",
        "  plt.plot(solver.train_acc_history, '-o', label=update_rule)\n",
        "\n",
        "  plt.subplot(3, 1, 3)\n",
        "  plt.plot(solver.val_acc_history, '-o', label=update_rule)\n",
        "  \n",
        "for i in [1, 2, 3]:\n",
        "  plt.subplot(3, 1, i)\n",
        "  plt.legend(loc='upper center', ncol=4)\n",
        "plt.gcf().set_size_inches(15, 15)\n",
        "plt.show()"
      ],
      "execution_count": 88,
      "outputs": [
        {
          "output_type": "stream",
          "text": [
            "running with  adam\n",
            "(Iteration 1 / 200) loss: 2.495688\n",
            "(Epoch 0 / 5) train acc: 0.182000; val_acc: 0.139000\n",
            "(Iteration 11 / 200) loss: 2.127302\n",
            "(Iteration 21 / 200) loss: 1.918290\n",
            "(Iteration 31 / 200) loss: 1.894094\n",
            "(Epoch 1 / 5) train acc: 0.384000; val_acc: 0.327000\n",
            "(Iteration 41 / 200) loss: 1.746327\n",
            "(Iteration 51 / 200) loss: 1.720260\n",
            "(Iteration 61 / 200) loss: 1.815667\n",
            "(Iteration 71 / 200) loss: 1.569596\n",
            "(Epoch 2 / 5) train acc: 0.415000; val_acc: 0.364000\n",
            "(Iteration 81 / 200) loss: 1.461661\n",
            "(Iteration 91 / 200) loss: 1.564962\n",
            "(Iteration 101 / 200) loss: 1.435422\n",
            "(Iteration 111 / 200) loss: 1.409502\n",
            "(Epoch 3 / 5) train acc: 0.467000; val_acc: 0.329000\n",
            "(Iteration 121 / 200) loss: 1.483194\n",
            "(Iteration 131 / 200) loss: 1.589687\n",
            "(Iteration 141 / 200) loss: 1.386873\n",
            "(Iteration 151 / 200) loss: 1.331687\n",
            "(Epoch 4 / 5) train acc: 0.538000; val_acc: 0.359000\n",
            "(Iteration 161 / 200) loss: 1.187194\n",
            "(Iteration 171 / 200) loss: 1.339713\n",
            "(Iteration 181 / 200) loss: 1.304811\n",
            "(Iteration 191 / 200) loss: 1.340070\n",
            "(Epoch 5 / 5) train acc: 0.610000; val_acc: 0.379000\n",
            "\n",
            "running with  rmsprop\n",
            "(Iteration 1 / 200) loss: 2.942939\n",
            "(Epoch 0 / 5) train acc: 0.174000; val_acc: 0.120000\n",
            "(Iteration 11 / 200) loss: 2.094897\n",
            "(Iteration 21 / 200) loss: 1.852305\n",
            "(Iteration 31 / 200) loss: 1.999135\n",
            "(Epoch 1 / 5) train acc: 0.352000; val_acc: 0.292000\n",
            "(Iteration 41 / 200) loss: 1.909395\n",
            "(Iteration 51 / 200) loss: 1.748149\n",
            "(Iteration 61 / 200) loss: 1.800671\n",
            "(Iteration 71 / 200) loss: 1.860058\n",
            "(Epoch 2 / 5) train acc: 0.408000; val_acc: 0.318000\n",
            "(Iteration 81 / 200) loss: 1.686890\n",
            "(Iteration 91 / 200) loss: 1.603340\n",
            "(Iteration 101 / 200) loss: 1.673015\n",
            "(Iteration 111 / 200) loss: 1.482616\n",
            "(Epoch 3 / 5) train acc: 0.460000; val_acc: 0.348000\n",
            "(Iteration 121 / 200) loss: 1.610333\n",
            "(Iteration 131 / 200) loss: 1.593315\n",
            "(Iteration 141 / 200) loss: 1.535402\n",
            "(Iteration 151 / 200) loss: 1.380336\n",
            "(Epoch 4 / 5) train acc: 0.481000; val_acc: 0.354000\n",
            "(Iteration 161 / 200) loss: 1.355093\n",
            "(Iteration 171 / 200) loss: 1.459479\n",
            "(Iteration 181 / 200) loss: 1.486978\n",
            "(Iteration 191 / 200) loss: 1.347855\n",
            "(Epoch 5 / 5) train acc: 0.514000; val_acc: 0.365000\n",
            "\n"
          ],
          "name": "stdout"
        },
        {
          "output_type": "stream",
          "text": [
            "/usr/local/lib/python3.6/dist-packages/matplotlib/figure.py:98: MatplotlibDeprecationWarning: \n",
            "Adding an axes using the same arguments as a previous axes currently reuses the earlier instance.  In a future version, a new instance will always be created and returned.  Meanwhile, this warning can be suppressed, and the future behavior ensured, by passing a unique label to each axes instance.\n",
            "  \"Adding an axes using the same arguments as a previous axes \"\n"
          ],
          "name": "stderr"
        },
        {
          "output_type": "display_data",
          "data": {
            "image/png": "[encoded data removed]",
            "text/plain": [
              "<Figure size 1080x1080 with 3 Axes>"
            ]
          },
          "metadata": {
            "tags": []
          }
        }
      ]
    },
    {
      "cell_type": "markdown",
      "metadata": {
        "tags": [
          "pdf-inline"
        ],
        "id": "zzfn_6aGgAUs",
        "colab_type": "text"
      },
      "source": [
        "## Inline Question 3:\n",
        "\n",
        "AdaGrad, like Adam, is a per-parameter optimization method that uses the following update rule:\n",
        "\n",
        "```\n",
        "cache += dw**2\n",
        "w += - learning_rate * dw / (np.sqrt(cache) + eps)\n",
        "```\n",
        "\n",
        "John notices that when he was training a network with AdaGrad that the updates became very small, and that his network was learning slowly. Using your knowledge of the AdaGrad update rule, why do you think the updates would become very small? Would Adam have the same issue?\n",
        "\n",
        "\n",
        "## Answer: \n",
        "[FILL THIS IN]\n"
      ]
    },
    {
      "cell_type": "markdown",
      "metadata": {
        "id": "4kzwvrY0gAUt",
        "colab_type": "text"
      },
      "source": [
        "# Train a good model!\n",
        "Train the best fully-connected model that you can on CIFAR-10, storing your best model in the `best_model` variable. We require you to get at least 50% accuracy on the validation set using a fully-connected net.\n",
        "\n",
        "If you are careful it should be possible to get accuracies above 55%, but we don't require it for this part and won't assign extra credit for doing so. Later in the assignment we will ask you to train the best convolutional network that you can on CIFAR-10, and we would prefer that you spend your effort working on convolutional nets rather than fully-connected nets.\n",
        "\n",
        "You might find it useful to complete the `BatchNormalization.ipynb` and `Dropout.ipynb` notebooks before completing this part, since those techniques can help you train powerful models."
      ]
    },
    {
      "cell_type": "code",
      "metadata": {
        "scrolled": false,
        "id": "UIQ54TuxgAUu",
        "colab_type": "code",
        "colab": {}
      },
      "source": [
        "best_model = None\n",
        "################################################################################\n",
        "# TODO: Train the best FullyConnectedNet that you can on CIFAR-10. You might   #\n",
        "# find batch/layer normalization and dropout useful. Store your best model in  #\n",
        "# the best_model variable.                                                     #\n",
        "################################################################################\n",
        "# *****START OF YOUR CODE (DO NOT DELETE/MODIFY THIS LINE)*****\n",
        "\n",
        "pass\n",
        "\n",
        "# *****END OF YOUR CODE (DO NOT DELETE/MODIFY THIS LINE)*****\n",
        "################################################################################\n",
        "#                              END OF YOUR CODE                                #\n",
        "################################################################################"
      ],
      "execution_count": 0,
      "outputs": []
    },
    {
      "cell_type": "markdown",
      "metadata": {
        "id": "VTm7vkBLgAUx",
        "colab_type": "text"
      },
      "source": [
        "# Test your model!\n",
        "Run your best model on the validation and test sets. You should achieve above 50% accuracy on the validation set."
      ]
    },
    {
      "cell_type": "code",
      "metadata": {
        "id": "Z-0EevABgAUy",
        "colab_type": "code",
        "colab": {}
      },
      "source": [
        "y_test_pred = np.argmax(best_model.loss(data['X_test']), axis=1)\n",
        "y_val_pred = np.argmax(best_model.loss(data['X_val']), axis=1)\n",
        "print('Validation set accuracy: ', (y_val_pred == data['y_val']).mean())\n",
        "print('Test set accuracy: ', (y_test_pred == data['y_test']).mean())"
      ],
      "execution_count": 0,
      "outputs": []
    }
  ]
}
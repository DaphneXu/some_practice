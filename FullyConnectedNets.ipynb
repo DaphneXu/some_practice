{
  "nbformat": 4,
  "nbformat_minor": 0,
  "metadata": {
    "colab": {
      "name": "FullyConnectedNets.ipynb",
      "version": "0.3.2",
      "provenance": [],
      "collapsed_sections": [],
      "toc_visible": true,
      "include_colab_link": true
    },
    "language_info": {
      "mimetype": "text/x-python",
      "nbconvert_exporter": "python",
      "name": "python",
      "file_extension": ".py",
      "version": "3.7.1",
      "pygments_lexer": "ipython3",
      "codemirror_mode": {
        "version": 3,
        "name": "ipython"
      }
    },
    "kernelspec": {
      "name": "python3",
      "display_name": "Python 3"
    },
    "accelerator": "GPU"
  },
  "cells": [
    {
      "cell_type": "markdown",
      "metadata": {
        "id": "view-in-github",
        "colab_type": "text"
      },
      "source": [
        "<a href=\"https://colab.research.google.com/github/DaphneXu/some_practice/blob/master/FullyConnectedNets.ipynb\" target=\"_parent\"><img src=\"https://colab.research.google.com/assets/colab-badge.svg\" alt=\"Open In Colab\"/></a>"
      ]
    },
    {
      "cell_type": "code",
      "metadata": {
        "id": "krOK516B8ZYo",
        "colab_type": "code",
        "colab": {}
      },
      "source": [
        "import torch"
      ],
      "execution_count": 0,
      "outputs": []
    },
    {
      "cell_type": "code",
      "metadata": {
        "id": "0lwkeUNeEeNw",
        "colab_type": "code",
        "colab": {}
      },
      "source": [
        "from torch import nn"
      ],
      "execution_count": 0,
      "outputs": []
    },
    {
      "cell_type": "code",
      "metadata": {
        "id": "ZbYYPC8rFZ1m",
        "colab_type": "code",
        "colab": {}
      },
      "source": [
        "import numpy as np\n",
        "import matplotlib.pyplot as plt\n",
        "\n",
        "sample_size = 100000\n",
        "uniform = np.random.rand(sample_size)\n",
        "normal = np.random.randn(sample_size)\n",
        "\n",
        "pdf, bins, patches = plt.hist(uniform, bins=20, range=(0, 1), density=True)\n",
        "plt.title('rand: uniform')\n",
        "plt.show()\n",
        "\n",
        "pdf, bins, patches = plt.hist(normal, bins=20, range=(-4, 4), density=True)\n",
        "plt.title('randn: normal')\n",
        "plt.show()"
      ],
      "execution_count": 0,
      "outputs": []
    },
    {
      "cell_type": "code",
      "metadata": {
        "id": "wlL62PMz-GlB",
        "colab_type": "code",
        "outputId": "9ffb097d-ce3d-4a82-f558-ff679231e677",
        "colab": {
          "base_uri": "https://localhost:8080/",
          "height": 104
        }
      },
      "source": [
        "m = ((np.random.rand(5, 10) <  0.8)) / 0.8\n",
        "np.pad(m, ())"
      ],
      "execution_count": 0,
      "outputs": [
        {
          "output_type": "execute_result",
          "data": {
            "text/plain": [
              "array([[0.  , 1.25, 0.  , 0.  , 0.  , 1.25, 0.  , 1.25, 0.  , 1.25],\n",
              "       [1.25, 1.25, 1.25, 0.  , 1.25, 1.25, 1.25, 1.25, 1.25, 1.25],\n",
              "       [0.  , 1.25, 1.25, 1.25, 0.  , 1.25, 1.25, 0.  , 0.  , 0.  ],\n",
              "       [1.25, 1.25, 1.25, 1.25, 1.25, 0.  , 1.25, 1.25, 1.25, 1.25],\n",
              "       [1.25, 1.25, 1.25, 0.  , 1.25, 0.  , 0.  , 1.25, 1.25, 0.  ]])"
            ]
          },
          "metadata": {
            "tags": []
          },
          "execution_count": 9
        }
      ]
    },
    {
      "cell_type": "markdown",
      "metadata": {
        "tags": [
          "pdf-title"
        ],
        "id": "Or2K6Qn7gATQ",
        "colab_type": "text"
      },
      "source": [
        "# Fully-Connected Neural Nets\n",
        "In the previous homework you implemented a fully-connected two-layer neural network on CIFAR-10. The implementation was simple but not very modular since the loss and gradient were computed in a single monolithic function. This is manageable for a simple two-layer network, but would become impractical as we move to bigger models. Ideally we want to build networks using a more modular design so that we can implement different layer types in isolation and then snap them together into models with different architectures."
      ]
    },
    {
      "cell_type": "markdown",
      "metadata": {
        "tags": [
          "pdf-ignore"
        ],
        "id": "fDq3quUVgATS",
        "colab_type": "text"
      },
      "source": [
        "In this exercise we will implement fully-connected networks using a more modular approach. For each layer we will implement a `forward` and a `backward` function. The `forward` function will receive inputs, weights, and other parameters and will return both an output and a `cache` object storing data needed for the backward pass, like this:\n",
        "\n",
        "```python\n",
        "def layer_forward(x, w):\n",
        "  \"\"\" Receive inputs x and weights w \"\"\"\n",
        "  # Do some computations ...\n",
        "  z = # ... some intermediate value\n",
        "  # Do some more computations ...\n",
        "  out = # the output\n",
        "   \n",
        "  cache = (x, w, z, out) # Values we need to compute gradients\n",
        "   \n",
        "  return out, cache\n",
        "```\n",
        "\n",
        "The backward pass will receive upstream derivatives and the `cache` object, and will return gradients with respect to the inputs and weights, like this:\n",
        "\n",
        "```python\n",
        "def layer_backward(dout, cache):\n",
        "  \"\"\"\n",
        "  Receive dout (derivative of loss with respect to outputs) and cache,\n",
        "  and compute derivative with respect to inputs.\n",
        "  \"\"\"\n",
        "  # Unpack cache values\n",
        "  x, w, z, out = cache\n",
        "  \n",
        "  # Use values in cache to compute derivatives\n",
        "  dx = # Derivative of loss with respect to x\n",
        "  dw = # Derivative of loss with respect to w\n",
        "  \n",
        "  return dx, dw\n",
        "```\n",
        "\n",
        "After implementing a bunch of layers this way, we will be able to easily combine them to build classifiers with different architectures.\n",
        "\n",
        "In addition to implementing fully-connected networks of arbitrary depth, we will also explore different update rules for optimization, and introduce Dropout as a regularizer and Batch/Layer Normalization as a tool to more efficiently optimize deep networks.\n",
        "  "
      ]
    },
    {
      "cell_type": "code",
      "metadata": {
        "id": "0FENlYcNFeUK",
        "colab_type": "code",
        "outputId": "4a9969fc-308e-44a8-df4b-5c0c2051e8fa",
        "colab": {
          "base_uri": "https://localhost:8080/",
          "height": 691
        }
      },
      "source": [
        "!unzip spring1819_assignment2.zip"
      ],
      "execution_count": 1,
      "outputs": [
        {
          "output_type": "stream",
          "text": [
            "Archive:  spring1819_assignment2.zip\n",
            "   creating: assignment2/\n",
            "  inflating: assignment2/.gitignore  \n",
            "  inflating: assignment2/BatchNormalization.ipynb  \n",
            "  inflating: assignment2/collectSubmission.sh  \n",
            "  inflating: assignment2/ConvolutionalNetworks.ipynb  \n",
            "   creating: assignment2/cs231n/\n",
            "  inflating: assignment2/cs231n/.gitignore  \n",
            "   creating: assignment2/cs231n/classifiers/\n",
            "  inflating: assignment2/cs231n/classifiers/cnn.py  \n",
            "  inflating: assignment2/cs231n/classifiers/fc_net.py  \n",
            " extracting: assignment2/cs231n/classifiers/__init__.py  \n",
            "   creating: assignment2/cs231n/datasets/\n",
            "  inflating: assignment2/cs231n/datasets/.gitignore  \n",
            "  inflating: assignment2/cs231n/datasets/get_datasets.sh  \n",
            "  inflating: assignment2/cs231n/data_utils.py  \n",
            "  inflating: assignment2/cs231n/fast_layers.py  \n",
            "  inflating: assignment2/cs231n/gradient_check.py  \n",
            "  inflating: assignment2/cs231n/im2col.py  \n",
            "  inflating: assignment2/cs231n/im2col_cython.pyx  \n",
            "  inflating: assignment2/cs231n/layers.py  \n",
            "  inflating: assignment2/cs231n/layer_utils.py  \n",
            "  inflating: assignment2/cs231n/optim.py  \n",
            "  inflating: assignment2/cs231n/setup.py  \n",
            "  inflating: assignment2/cs231n/solver.py  \n",
            "  inflating: assignment2/cs231n/vis_utils.py  \n",
            " extracting: assignment2/cs231n/__init__.py  \n",
            "  inflating: assignment2/Dropout.ipynb  \n",
            "  inflating: assignment2/frameworkpython  \n",
            "  inflating: assignment2/FullyConnectedNets.ipynb  \n",
            "   creating: assignment2/notebook_images/\n",
            "  inflating: assignment2/notebook_images/batchnorm_graph.png  \n",
            "  inflating: assignment2/notebook_images/kitten.jpg  \n",
            "  inflating: assignment2/notebook_images/normalization.png  \n",
            "  inflating: assignment2/notebook_images/puppy.jpg  \n",
            "  inflating: assignment2/PyTorch.ipynb  \n",
            "  inflating: assignment2/requirements.txt  \n",
            "  inflating: assignment2/start_ipython_osx.sh  \n",
            "  inflating: assignment2/TensorFlow.ipynb  \n"
          ],
          "name": "stdout"
        }
      ]
    },
    {
      "cell_type": "code",
      "metadata": {
        "id": "0ouk1xgOFZWG",
        "colab_type": "code",
        "colab": {}
      },
      "source": [
        "import sys\n",
        "sys.path.append('/content/assignment2')"
      ],
      "execution_count": 0,
      "outputs": []
    },
    {
      "cell_type": "code",
      "metadata": {
        "id": "pDRTuccSLzsd",
        "colab_type": "code",
        "colab": {}
      },
      "source": [
        "from cs231n.data_utils import load_CIFAR10"
      ],
      "execution_count": 0,
      "outputs": []
    },
    {
      "cell_type": "code",
      "metadata": {
        "tags": [
          "pdf-ignore"
        ],
        "id": "Ty-GNIcFgATT",
        "colab_type": "code",
        "outputId": "ff053632-84d2-4af8-e6cb-e4e2e7ede97e",
        "colab": {
          "base_uri": "https://localhost:8080/",
          "height": 69
        }
      },
      "source": [
        "# As usual, a bit of setup\n",
        "from __future__ import print_function\n",
        "import time\n",
        "import numpy as np\n",
        "import matplotlib.pyplot as plt\n",
        "from cs231n.classifiers.fc_net import *\n",
        "from cs231n.data_utils import get_CIFAR10_data, load_CIFAR10\n",
        "from cs231n.gradient_check import eval_numerical_gradient, eval_numerical_gradient_array\n",
        "from cs231n.solver import Solver\n",
        "\n",
        "%matplotlib inline\n",
        "plt.rcParams['figure.figsize'] = (10.0, 8.0) # set default size of plots\n",
        "plt.rcParams['image.interpolation'] = 'nearest'\n",
        "plt.rcParams['image.cmap'] = 'gray'\n",
        "\n",
        "# for auto-reloading external modules\n",
        "# see http://stackoverflow.com/questions/1907993/autoreload-of-modules-in-ipython\n",
        "%load_ext autoreload\n",
        "%autoreload 2\n",
        "\n",
        "def rel_error(x, y):\n",
        "  \"\"\" returns relative error \"\"\"\n",
        "  return np.max(np.abs(x - y) / (np.maximum(1e-8, np.abs(x) + np.abs(y))))"
      ],
      "execution_count": 3,
      "outputs": [
        {
          "output_type": "stream",
          "text": [
            "run the following from the cs231n directory and try again:\n",
            "python setup.py build_ext --inplace\n",
            "You may also need to restart your iPython kernel\n"
          ],
          "name": "stdout"
        }
      ]
    },
    {
      "cell_type": "code",
      "metadata": {
        "id": "IP2SFY19GFPZ",
        "colab_type": "code",
        "colab": {}
      },
      "source": [
        "python setup.py build_ext --inplace"
      ],
      "execution_count": 0,
      "outputs": []
    },
    {
      "cell_type": "code",
      "metadata": {
        "id": "tY8ovGVBJwkM",
        "colab_type": "code",
        "outputId": "95a2248f-1ad3-433b-db0c-282fb9e63dad",
        "colab": {
          "base_uri": "https://localhost:8080/",
          "height": 363
        }
      },
      "source": [
        "!./assignment2/cs231n/datasets/get_datasets.sh"
      ],
      "execution_count": 4,
      "outputs": [
        {
          "output_type": "stream",
          "text": [
            "--2019-07-07 11:17:25--  http://www.cs.toronto.edu/~kriz/cifar-10-python.tar.gz\n",
            "Resolving www.cs.toronto.edu (www.cs.toronto.edu)... 128.100.3.30\n",
            "Connecting to www.cs.toronto.edu (www.cs.toronto.edu)|128.100.3.30|:80... connected.\n",
            "HTTP request sent, awaiting response... 200 OK\n",
            "Length: 170498071 (163M) [application/x-gzip]\n",
            "Saving to: ‘cifar-10-python.tar.gz’\n",
            "\n",
            "cifar-10-python.tar 100%[===================>] 162.60M  92.4MB/s    in 1.8s    \n",
            "\n",
            "2019-07-07 11:17:32 (92.4 MB/s) - ‘cifar-10-python.tar.gz’ saved [170498071/170498071]\n",
            "\n",
            "cifar-10-batches-py/\n",
            "cifar-10-batches-py/data_batch_4\n",
            "cifar-10-batches-py/readme.html\n",
            "cifar-10-batches-py/test_batch\n",
            "cifar-10-batches-py/data_batch_3\n",
            "cifar-10-batches-py/batches.meta\n",
            "cifar-10-batches-py/data_batch_2\n",
            "cifar-10-batches-py/data_batch_5\n",
            "cifar-10-batches-py/data_batch_1\n"
          ],
          "name": "stdout"
        }
      ]
    },
    {
      "cell_type": "code",
      "metadata": {
        "id": "MGcNry4cLDpm",
        "colab_type": "code",
        "colab": {}
      },
      "source": [
        "cifar10_dir = 'cifar-10-batches-py'\n",
        "X_train, y_train, X_test, y_test = load_CIFAR10(cifar10_dir)"
      ],
      "execution_count": 0,
      "outputs": []
    },
    {
      "cell_type": "code",
      "metadata": {
        "tags": [
          "pdf-ignore"
        ],
        "id": "CIZSUKg3gATZ",
        "colab_type": "code",
        "outputId": "5e7a34f2-5f68-41a0-bb17-0ef9d1cad368",
        "colab": {
          "base_uri": "https://localhost:8080/",
          "height": 121
        }
      },
      "source": [
        "# Load the (preprocessed) CIFAR10 data.\n",
        "\n",
        "data = get_CIFAR10_data()\n",
        "for k, v in list(data.items()):\n",
        "  print(('%s: ' % k, v.shape))"
      ],
      "execution_count": 7,
      "outputs": [
        {
          "output_type": "stream",
          "text": [
            "('X_train: ', (49000, 3, 32, 32))\n",
            "('y_train: ', (49000,))\n",
            "('X_val: ', (1000, 3, 32, 32))\n",
            "('y_val: ', (1000,))\n",
            "('X_test: ', (1000, 3, 32, 32))\n",
            "('y_test: ', (1000,))\n"
          ],
          "name": "stdout"
        }
      ]
    },
    {
      "cell_type": "code",
      "metadata": {
        "id": "xPCm5Euho3Eh",
        "colab_type": "code",
        "outputId": "d8cce11f-a3fe-46f9-db04-bd86ffd3c160",
        "colab": {
          "base_uri": "https://localhost:8080/",
          "height": 35
        }
      },
      "source": [
        "len(data)"
      ],
      "execution_count": 0,
      "outputs": [
        {
          "output_type": "execute_result",
          "data": {
            "text/plain": [
              "6"
            ]
          },
          "metadata": {
            "tags": []
          },
          "execution_count": 31
        }
      ]
    },
    {
      "cell_type": "markdown",
      "metadata": {
        "id": "xtfkMxBygATc",
        "colab_type": "text"
      },
      "source": [
        "# Affine layer: foward\n",
        "Open the file `cs231n/layers.py` and implement the `affine_forward` function.\n",
        "\n",
        "Once you are done you can test your implementaion by running the following:"
      ]
    },
    {
      "cell_type": "code",
      "metadata": {
        "id": "G_2VY05fgATd",
        "colab_type": "code",
        "outputId": "caf37e79-2b2b-4b84-daaa-1d57f1dbcf0b",
        "colab": {
          "base_uri": "https://localhost:8080/",
          "height": 52
        }
      },
      "source": [
        "# Test the affine_forward function\n",
        "\n",
        "num_inputs = 2\n",
        "input_shape = (4, 5, 6)\n",
        "output_dim = 3\n",
        "\n",
        "input_size = num_inputs * np.prod(input_shape)\n",
        "weight_size = output_dim * np.prod(input_shape)\n",
        "\n",
        "x = np.linspace(-0.1, 0.5, num=input_size).reshape(num_inputs, *input_shape)\n",
        "w = np.linspace(-0.2, 0.3, num=weight_size).reshape(np.prod(input_shape), output_dim)\n",
        "b = np.linspace(-0.3, 0.1, num=output_dim)\n",
        "\n",
        "out, _ = affine_forward(x, w, b)\n",
        "correct_out = np.array([[ 1.49834967,  1.70660132,  1.91485297],\n",
        "                        [ 3.25553199,  3.5141327,   3.77273342]])\n",
        "\n",
        "# Compare your output with ours. The error should be around e-9 or less.\n",
        "print('Testing affine_forward function:')\n",
        "print('difference: ', rel_error(out, correct_out))"
      ],
      "execution_count": 8,
      "outputs": [
        {
          "output_type": "stream",
          "text": [
            "Testing affine_forward function:\n",
            "difference:  9.769849468192957e-10\n"
          ],
          "name": "stdout"
        }
      ]
    },
    {
      "cell_type": "code",
      "metadata": {
        "id": "QadNYV4IzMkF",
        "colab_type": "code",
        "outputId": "fab51a1f-d691-41d8-cc59-dcad7067fd6d",
        "colab": {
          "base_uri": "https://localhost:8080/",
          "height": 35
        }
      },
      "source": [
        "np.prod(input_shape)"
      ],
      "execution_count": 0,
      "outputs": [
        {
          "output_type": "execute_result",
          "data": {
            "text/plain": [
              "120"
            ]
          },
          "metadata": {
            "tags": []
          },
          "execution_count": 8
        }
      ]
    },
    {
      "cell_type": "code",
      "metadata": {
        "id": "GfUOdyO5P1Tp",
        "colab_type": "code",
        "outputId": "06fa4767-1c6b-4606-ad22-f10dc2cb7667",
        "colab": {
          "base_uri": "https://localhost:8080/",
          "height": 35
        }
      },
      "source": [
        "x = np.array([536870910, 536870910, 536870910, 536870910])\n",
        "np.prod(x)"
      ],
      "execution_count": 0,
      "outputs": [
        {
          "output_type": "execute_result",
          "data": {
            "text/plain": [
              "6917529010461212688"
            ]
          },
          "metadata": {
            "tags": []
          },
          "execution_count": 12
        }
      ]
    },
    {
      "cell_type": "code",
      "metadata": {
        "id": "RLTK8LdOPKhm",
        "colab_type": "code",
        "outputId": "9d57066b-06f5-4f64-9f10-90174b1d7497",
        "colab": {
          "base_uri": "https://localhost:8080/",
          "height": 35
        }
      },
      "source": [
        "w.shape"
      ],
      "execution_count": 0,
      "outputs": [
        {
          "output_type": "execute_result",
          "data": {
            "text/plain": [
              "(120, 3)"
            ]
          },
          "metadata": {
            "tags": []
          },
          "execution_count": 19
        }
      ]
    },
    {
      "cell_type": "markdown",
      "metadata": {
        "id": "Y3AmUDXlgATg",
        "colab_type": "text"
      },
      "source": [
        "# Affine layer: backward\n",
        "Now implement the `affine_backward` function and test your implementation using numeric gradient checking."
      ]
    },
    {
      "cell_type": "code",
      "metadata": {
        "id": "WSevmuHOgATh",
        "colab_type": "code",
        "outputId": "6bbe2e97-e895-4ec3-b096-521c950b1937",
        "colab": {
          "base_uri": "https://localhost:8080/",
          "height": 86
        }
      },
      "source": [
        "# Test the affine_backward function\n",
        "np.random.seed(231)\n",
        "x = np.random.randn(10, 2, 3)\n",
        "w = np.random.randn(6, 5)\n",
        "b = np.random.randn(5)\n",
        "dout = np.random.randn(10, 5)\n",
        "\n",
        "dx_num = eval_numerical_gradient_array(lambda x: affine_forward(x, w, b)[0], x, dout)\n",
        "dw_num = eval_numerical_gradient_array(lambda w: affine_forward(x, w, b)[0], w, dout)\n",
        "db_num = eval_numerical_gradient_array(lambda b: affine_forward(x, w, b)[0], b, dout)\n",
        "\n",
        "_, cache = affine_forward(x, w, b)\n",
        "dx, dw, db = affine_backward(dout, cache)\n",
        "\n",
        "# The error should be around e-10 or less\n",
        "print('Testing affine_backward function:')\n",
        "print('dx error: ', rel_error(dx_num, dx))\n",
        "print('dw error: ', rel_error(dw_num, dw))\n",
        "print('db error: ', rel_error(db_num, db))"
      ],
      "execution_count": 9,
      "outputs": [
        {
          "output_type": "stream",
          "text": [
            "Testing affine_backward function:\n",
            "dx error:  5.399100368651805e-11\n",
            "dw error:  9.904211865398145e-11\n",
            "db error:  2.4122867568119087e-11\n"
          ],
          "name": "stdout"
        }
      ]
    },
    {
      "cell_type": "markdown",
      "metadata": {
        "id": "sdD-61VfgATk",
        "colab_type": "text"
      },
      "source": [
        "# ReLU activation: forward\n",
        "Implement the forward pass for the ReLU activation function in the `relu_forward` function and test your implementation using the following:"
      ]
    },
    {
      "cell_type": "code",
      "metadata": {
        "id": "o_jVtW9RgATl",
        "colab_type": "code",
        "outputId": "d4b3a339-fa1d-48fd-fbaa-80e21bee9797",
        "colab": {
          "base_uri": "https://localhost:8080/",
          "height": 52
        }
      },
      "source": [
        "# Test the relu_forward function\n",
        "\n",
        "x = np.linspace(-0.5, 0.5, num=12).reshape(3, 4)\n",
        "\n",
        "out, _ = relu_forward(x)\n",
        "correct_out = np.array([[ 0.,          0.,          0.,          0.,        ],\n",
        "                        [ 0.,          0.,          0.04545455,  0.13636364,],\n",
        "                        [ 0.22727273,  0.31818182,  0.40909091,  0.5,       ]])\n",
        "\n",
        "# Compare your output with ours. The error should be on the order of e-8\n",
        "print('Testing relu_forward function:')\n",
        "print('difference: ', rel_error(out, correct_out))"
      ],
      "execution_count": 11,
      "outputs": [
        {
          "output_type": "stream",
          "text": [
            "Testing relu_forward function:\n",
            "difference:  4.999999798022158e-08\n"
          ],
          "name": "stdout"
        }
      ]
    },
    {
      "cell_type": "code",
      "metadata": {
        "id": "UMrfZpHhgVj-",
        "colab_type": "code",
        "outputId": "01e7b722-7478-435f-d577-11de9156d9d7",
        "colab": {
          "base_uri": "https://localhost:8080/",
          "height": 69
        }
      },
      "source": [
        "x"
      ],
      "execution_count": 0,
      "outputs": [
        {
          "output_type": "execute_result",
          "data": {
            "text/plain": [
              "array([[-0.5       , -0.40909091, -0.31818182, -0.22727273],\n",
              "       [-0.13636364, -0.04545455,  0.04545455,  0.13636364],\n",
              "       [ 0.22727273,  0.31818182,  0.40909091,  0.5       ]])"
            ]
          },
          "metadata": {
            "tags": []
          },
          "execution_count": 10
        }
      ]
    },
    {
      "cell_type": "markdown",
      "metadata": {
        "id": "I52V2gZbgATo",
        "colab_type": "text"
      },
      "source": [
        "# ReLU activation: backward\n",
        "Now implement the backward pass for the ReLU activation function in the `relu_backward` function and test your implementation using numeric gradient checking:"
      ]
    },
    {
      "cell_type": "code",
      "metadata": {
        "id": "X31Je2KPgATp",
        "colab_type": "code",
        "outputId": "18a29d49-abb2-49f6-c167-64dbac976b01",
        "colab": {
          "base_uri": "https://localhost:8080/",
          "height": 52
        }
      },
      "source": [
        "np.random.seed(231)\n",
        "x = np.random.randn(10, 10)\n",
        "dout = np.random.randn(*x.shape)\n",
        "\n",
        "dx_num = eval_numerical_gradient_array(lambda x: relu_forward(x)[0], x, dout)\n",
        "\n",
        "_, cache = relu_forward(x)\n",
        "dx = relu_backward(dout, cache)\n",
        "\n",
        "# The error should be on the order of e-12\n",
        "print('Testing relu_backward function:')\n",
        "print('dx error: ', rel_error(dx_num, dx))"
      ],
      "execution_count": 12,
      "outputs": [
        {
          "output_type": "stream",
          "text": [
            "Testing relu_backward function:\n",
            "dx error:  3.2756349136310288e-12\n"
          ],
          "name": "stdout"
        }
      ]
    },
    {
      "cell_type": "code",
      "metadata": {
        "id": "xAGX5OKtghZG",
        "colab_type": "code",
        "outputId": "80219ae2-8b24-480a-f06e-6e130705bf78",
        "colab": {
          "base_uri": "https://localhost:8080/",
          "height": 363
        }
      },
      "source": [
        "x"
      ],
      "execution_count": 0,
      "outputs": [
        {
          "output_type": "execute_result",
          "data": {
            "text/plain": [
              "array([[ 0.41794341,  1.39710028, -1.78590431, -0.70882773, -0.07472532,\n",
              "        -0.77501677, -0.1497979 ,  1.86172902, -1.4255293 , -0.3763567 ],\n",
              "       [-0.34227539,  0.29490764, -0.83732373,  0.95218767,  1.32931659,\n",
              "         0.52465245, -0.14809998,  0.88953195,  0.12444653,  0.99109251],\n",
              "       [ 0.03514666,  0.26207083,  0.14320173,  0.90101716,  0.23185863,\n",
              "        -0.79725793,  0.12001014, -0.65679608,  0.26917456,  0.333667  ],\n",
              "       [ 0.27423503,  0.76215717, -0.69550058,  0.29214712, -0.38489942,\n",
              "         0.1228747 , -1.42904497,  0.70286283, -0.85850947, -1.14042979],\n",
              "       [-1.58535997, -0.01530138, -0.32156083,  0.56834936, -0.19961722,\n",
              "         1.27286625,  1.27292534,  1.58102968, -1.75626715,  0.9217743 ],\n",
              "       [-0.6753054 , -1.43443616,  0.47021125,  0.03196734,  0.04448574,\n",
              "         0.47824879, -2.51335181, -1.15740245, -0.70470413, -1.04978879],\n",
              "       [-1.90795589,  0.49258765,  0.83736166, -1.4288134 , -0.18982427,\n",
              "        -1.14094943, -2.12570755, -0.41354791,  0.44148975,  0.16411113],\n",
              "       [-0.65505065, -0.30212765, -0.25704466, -0.12841368,  0.26338593,\n",
              "         0.1672181 , -0.30871951, -1.26754462, -0.22319022, -0.82993433],\n",
              "       [-1.11271826, -0.44613095, -0.40001719,  0.36343905,  0.94992777,\n",
              "        -0.32379447,  0.27031704, -0.63381148, -2.71484268,  0.65576139],\n",
              "       [-1.17004858,  0.0598685 , -1.64182729, -0.28069634, -0.67946972,\n",
              "        -1.80480094,  0.53770564, -0.12171369, -1.04250949,  0.13828792]])"
            ]
          },
          "metadata": {
            "tags": []
          },
          "execution_count": 12
        }
      ]
    },
    {
      "cell_type": "code",
      "metadata": {
        "id": "IEexlMI1kKrp",
        "colab_type": "code",
        "outputId": "be6c4be9-f62f-4fda-bcdd-d1531253b92a",
        "colab": {
          "base_uri": "https://localhost:8080/",
          "height": 363
        }
      },
      "source": [
        "_"
      ],
      "execution_count": 0,
      "outputs": [
        {
          "output_type": "execute_result",
          "data": {
            "text/plain": [
              "array([[-0.22557183, -1.1928829 , -0.        ,  0.        ,  0.        ,\n",
              "        -0.        ,  0.        , -0.35229594,  0.        , -0.        ],\n",
              "       [-0.        , -0.84338097, -0.        ,  0.85434757, -0.90377338,\n",
              "        -1.0525584 , -0.        ,  0.18083726, -0.4125417 ,  1.22913948],\n",
              "       [-0.97791748, -0.63978524, -0.00880963,  0.36213294,  0.35148162,\n",
              "        -0.        , -0.84272962,  0.        , -2.39079478,  0.88256212],\n",
              "       [-1.12082008,  0.12416778, -0.        , -1.62701704, -0.        ,\n",
              "         2.00862337,  0.        , -0.86943856,  0.        , -0.        ],\n",
              "       [-0.        , -0.        , -0.        , -0.67498124,  0.        ,\n",
              "        -0.11970425,  0.59700586, -2.0399063 , -0.        , -1.61700346],\n",
              "       [-0.        ,  0.        ,  1.97009461, -0.81967191,  0.42367521,\n",
              "        -1.83570698,  0.        ,  0.        ,  0.        ,  0.        ],\n",
              "       [ 0.        ,  2.13935149, -0.77429891, -0.        , -0.        ,\n",
              "        -0.        , -0.        , -0.        ,  0.59190367, -0.56016357],\n",
              "       [ 0.        , -0.        , -0.        ,  0.        ,  0.37364743,\n",
              "        -0.26051388,  0.        , -0.        , -0.        ,  0.        ],\n",
              "       [-0.        , -0.        ,  0.        , -1.74506882, -0.2476718 ,\n",
              "         0.        ,  1.09734348,  0.        , -0.        , -0.32986357],\n",
              "       [-0.        , -0.00396778,  0.        , -0.        ,  0.        ,\n",
              "        -0.        , -0.9308637 , -0.        , -0.        , -1.1058167 ]])"
            ]
          },
          "metadata": {
            "tags": []
          },
          "execution_count": 15
        }
      ]
    },
    {
      "cell_type": "code",
      "metadata": {
        "id": "kUTFgmfKSDdm",
        "colab_type": "code",
        "outputId": "b5d6dc7c-61f0-45e8-b5fa-e87755f2b47c",
        "colab": {
          "base_uri": "https://localhost:8080/",
          "height": 363
        }
      },
      "source": [
        "dx_num"
      ],
      "execution_count": 0,
      "outputs": [
        {
          "output_type": "execute_result",
          "data": {
            "text/plain": [
              "array([[-0.22557183, -1.1928829 ,  0.        ,  0.        ,  0.        ,\n",
              "         0.        ,  0.        , -0.35229594,  0.        ,  0.        ],\n",
              "       [ 0.        , -0.84338097,  0.        ,  0.85434757, -0.90377338,\n",
              "        -1.0525584 ,  0.        ,  0.18083726, -0.4125417 ,  1.22913948],\n",
              "       [-0.97791748, -0.63978524, -0.00880963,  0.36213294,  0.35148162,\n",
              "         0.        , -0.84272962,  0.        , -2.39079478,  0.88256212],\n",
              "       [-1.12082008,  0.12416778,  0.        , -1.62701704,  0.        ,\n",
              "         2.00862337,  0.        , -0.86943856,  0.        ,  0.        ],\n",
              "       [ 0.        ,  0.        ,  0.        , -0.67498124,  0.        ,\n",
              "        -0.11970425,  0.59700586, -2.0399063 ,  0.        , -1.61700346],\n",
              "       [ 0.        ,  0.        ,  1.97009461, -0.81967191,  0.42367521,\n",
              "        -1.83570698,  0.        ,  0.        ,  0.        ,  0.        ],\n",
              "       [ 0.        ,  2.13935149, -0.77429891,  0.        ,  0.        ,\n",
              "         0.        ,  0.        ,  0.        ,  0.59190367, -0.56016357],\n",
              "       [ 0.        ,  0.        ,  0.        ,  0.        ,  0.37364743,\n",
              "        -0.26051388,  0.        ,  0.        ,  0.        ,  0.        ],\n",
              "       [ 0.        ,  0.        ,  0.        , -1.74506882, -0.2476718 ,\n",
              "         0.        ,  1.09734348,  0.        ,  0.        , -0.32986357],\n",
              "       [ 0.        , -0.00396778,  0.        ,  0.        ,  0.        ,\n",
              "         0.        , -0.9308637 ,  0.        ,  0.        , -1.1058167 ]])"
            ]
          },
          "metadata": {
            "tags": []
          },
          "execution_count": 13
        }
      ]
    },
    {
      "cell_type": "code",
      "metadata": {
        "id": "Kb_qzDNdR7ke",
        "colab_type": "code",
        "outputId": "f9c47163-d90d-4213-dbcd-f945a8441a1a",
        "colab": {
          "base_uri": "https://localhost:8080/",
          "height": 363
        }
      },
      "source": [
        "dout"
      ],
      "execution_count": 0,
      "outputs": [
        {
          "output_type": "execute_result",
          "data": {
            "text/plain": [
              "array([[-0.22557183, -1.1928829 , -0.68320696,  0.19909408,  0.03070661,\n",
              "        -0.44972639,  0.14447532, -0.35229594,  0.4882136 , -0.4347099 ],\n",
              "       [-0.28692265, -0.84338097, -0.10827394,  0.85434757, -0.90377338,\n",
              "        -1.0525584 , -0.30409794,  0.18083726, -0.4125417 ,  1.22913948],\n",
              "       [-0.97791748, -0.63978524, -0.00880963,  0.36213294,  0.35148162,\n",
              "        -1.20064035, -0.84272962,  1.61832501, -2.39079478,  0.88256212],\n",
              "       [-1.12082008,  0.12416778, -2.43434598, -1.62701704, -1.10613945,\n",
              "         2.00862337,  0.91447992, -0.86943856,  0.13741017, -0.72261465],\n",
              "       [-0.6755518 , -0.04084145, -1.15755894, -0.67498124,  0.44252644,\n",
              "        -0.11970425,  0.59700586, -2.0399063 , -0.6447033 , -1.61700346],\n",
              "       [-1.85570785,  0.7480524 ,  1.97009461, -0.81967191,  0.42367521,\n",
              "        -1.83570698,  1.00583627,  0.05834497,  0.98687019,  0.27827513],\n",
              "       [ 0.119619  ,  2.13935149, -0.77429891, -0.42011785, -0.77768316,\n",
              "        -1.0141586 , -2.30296116, -0.3678455 ,  0.59190367, -0.56016357],\n",
              "       [ 1.03339676, -1.20718575, -0.93426589,  0.92234837,  0.37364743,\n",
              "        -0.26051388,  0.61250765, -0.62647791, -0.40298073,  0.08972095],\n",
              "       [-0.58799396, -0.57508564,  0.57878641, -1.74506882, -0.2476718 ,\n",
              "         0.73309629,  1.09734348,  0.15542587, -0.37233773, -0.32986357],\n",
              "       [-0.04243928, -0.00396778,  0.20182891, -0.66278042,  0.15851809,\n",
              "        -1.63260189, -0.9308637 , -0.63096867, -1.88697885, -1.1058167 ]])"
            ]
          },
          "metadata": {
            "tags": []
          },
          "execution_count": 25
        }
      ]
    },
    {
      "cell_type": "code",
      "metadata": {
        "id": "lYeevtOWRyOU",
        "colab_type": "code",
        "outputId": "b559f962-9ba1-4eac-ddca-a0d0aadf013e",
        "colab": {
          "base_uri": "https://localhost:8080/",
          "height": 363
        }
      },
      "source": [
        "dx"
      ],
      "execution_count": 0,
      "outputs": [
        {
          "output_type": "execute_result",
          "data": {
            "text/plain": [
              "array([[-0.22557183, -1.1928829 , -0.        ,  0.        ,  0.        ,\n",
              "        -0.        ,  0.        , -0.35229594,  0.        , -0.        ],\n",
              "       [-0.        , -0.84338097, -0.        ,  0.85434757, -0.90377338,\n",
              "        -1.0525584 , -0.        ,  0.18083726, -0.4125417 ,  1.22913948],\n",
              "       [-0.97791748, -0.63978524, -0.00880963,  0.36213294,  0.35148162,\n",
              "        -0.        , -0.84272962,  0.        , -2.39079478,  0.88256212],\n",
              "       [-1.12082008,  0.12416778, -0.        , -1.62701704, -0.        ,\n",
              "         2.00862337,  0.        , -0.86943856,  0.        , -0.        ],\n",
              "       [-0.        , -0.        , -0.        , -0.67498124,  0.        ,\n",
              "        -0.11970425,  0.59700586, -2.0399063 , -0.        , -1.61700346],\n",
              "       [-0.        ,  0.        ,  1.97009461, -0.81967191,  0.42367521,\n",
              "        -1.83570698,  0.        ,  0.        ,  0.        ,  0.        ],\n",
              "       [ 0.        ,  2.13935149, -0.77429891, -0.        , -0.        ,\n",
              "        -0.        , -0.        , -0.        ,  0.59190367, -0.56016357],\n",
              "       [ 0.        , -0.        , -0.        ,  0.        ,  0.37364743,\n",
              "        -0.26051388,  0.        , -0.        , -0.        ,  0.        ],\n",
              "       [-0.        , -0.        ,  0.        , -1.74506882, -0.2476718 ,\n",
              "         0.        ,  1.09734348,  0.        , -0.        , -0.32986357],\n",
              "       [-0.        , -0.00396778,  0.        , -0.        ,  0.        ,\n",
              "        -0.        , -0.9308637 , -0.        , -0.        , -1.1058167 ]])"
            ]
          },
          "metadata": {
            "tags": []
          },
          "execution_count": 14
        }
      ]
    },
    {
      "cell_type": "markdown",
      "metadata": {
        "tags": [
          "pdf-inline"
        ],
        "id": "qptQ2BSrgATs",
        "colab_type": "text"
      },
      "source": [
        "## Inline Question 1: \n",
        "\n",
        "We've only asked you to implement ReLU, but there are a number of different activation functions that one could use in neural networks, each with its pros and cons. In particular, an issue commonly seen with activation functions is getting zero (or close to zero) gradient flow during backpropagation. Which of the following activation functions have this problem? If you consider these functions in the one dimensional case, what types of input would lead to this behaviour?\n",
        "1. Sigmoid\n",
        "2. ReLU\n",
        "3. Leaky ReLU\n",
        "\n",
        "## Answer:\n",
        "[FILL THIS IN]\n",
        "sigmoid\n"
      ]
    },
    {
      "cell_type": "markdown",
      "metadata": {
        "id": "M_ez5ZslgATt",
        "colab_type": "text"
      },
      "source": [
        "# \"Sandwich\" layers\n",
        "There are some common patterns of layers that are frequently used in neural nets. For example, affine layers are frequently followed by a ReLU nonlinearity. To make these common patterns easy, we define several convenience layers in the file `cs231n/layer_utils.py`.\n",
        "\n",
        "For now take a look at the `affine_relu_forward` and `affine_relu_backward` functions, and run the following to numerically gradient check the backward pass:"
      ]
    },
    {
      "cell_type": "code",
      "metadata": {
        "id": "cGSyNe-ugATu",
        "colab_type": "code",
        "outputId": "2c994615-a80f-4434-ecf7-284f0e0ce50f",
        "colab": {
          "base_uri": "https://localhost:8080/",
          "height": 86
        }
      },
      "source": [
        "from cs231n.layer_utils import affine_relu_forward, affine_relu_backward\n",
        "np.random.seed(231)\n",
        "x = np.random.randn(2, 3, 4)\n",
        "w = np.random.randn(12, 10)\n",
        "b = np.random.randn(10)\n",
        "dout = np.random.randn(2, 10)\n",
        "\n",
        "out, cache = affine_relu_forward(x, w, b)\n",
        "dx, dw, db = affine_relu_backward(dout, cache)\n",
        "\n",
        "dx_num = eval_numerical_gradient_array(lambda x: affine_relu_forward(x, w, b)[0], x, dout)\n",
        "dw_num = eval_numerical_gradient_array(lambda w: affine_relu_forward(x, w, b)[0], w, dout)\n",
        "db_num = eval_numerical_gradient_array(lambda b: affine_relu_forward(x, w, b)[0], b, dout)\n",
        "\n",
        "# Relative error should be around e-10 or less\n",
        "print('Testing affine_relu_forward and affine_relu_backward:')\n",
        "print('dx error: ', rel_error(dx_num, dx))\n",
        "print('dw error: ', rel_error(dw_num, dw))\n",
        "print('db error: ', rel_error(db_num, db))"
      ],
      "execution_count": 13,
      "outputs": [
        {
          "output_type": "stream",
          "text": [
            "Testing affine_relu_forward and affine_relu_backward:\n",
            "dx error:  2.299579177309368e-11\n",
            "dw error:  8.162011105764925e-11\n",
            "db error:  7.826724021458994e-12\n"
          ],
          "name": "stdout"
        }
      ]
    },
    {
      "cell_type": "markdown",
      "metadata": {
        "id": "t41etx6EgATz",
        "colab_type": "text"
      },
      "source": [
        "# Loss layers: Softmax and SVM\n",
        "You implemented these loss functions in the last assignment, so we'll give them to you for free here. You should still make sure you understand how they work by looking at the implementations in `cs231n/layers.py`.\n",
        "\n",
        "You can make sure that the implementations are correct by running the following:"
      ]
    },
    {
      "cell_type": "code",
      "metadata": {
        "id": "Mwl41NFRgAT0",
        "colab_type": "code",
        "outputId": "1dd6f3e9-f934-4355-bbac-942a5d2fcea4",
        "colab": {
          "base_uri": "https://localhost:8080/",
          "height": 138
        }
      },
      "source": [
        "np.random.seed(231)\n",
        "num_classes, num_inputs = 10, 50\n",
        "x = 0.001 * np.random.randn(num_inputs, num_classes)\n",
        "y = np.random.randint(num_classes, size=num_inputs)\n",
        "\n",
        "dx_num = eval_numerical_gradient(lambda x: svm_loss(x, y)[0], x, verbose=False)\n",
        "loss, dx = svm_loss(x, y)\n",
        "\n",
        "# Test svm_loss function. Loss should be around 9 and dx error should be around the order of e-9\n",
        "print('Testing svm_loss:')\n",
        "print('loss: ', loss)\n",
        "print('dx error: ', rel_error(dx_num, dx))\n",
        "\n",
        "dx_num = eval_numerical_gradient(lambda x: softmax_loss(x, y)[0], x, verbose=False)\n",
        "loss, dx = softmax_loss(x, y)\n",
        "\n",
        "# Test softmax_loss function. Loss should be close to 2.3 and dx error should be around e-8\n",
        "print('\\nTesting softmax_loss:')\n",
        "print('loss: ', loss)\n",
        "print('dx error: ', rel_error(dx_num, dx))"
      ],
      "execution_count": 14,
      "outputs": [
        {
          "output_type": "stream",
          "text": [
            "Testing svm_loss:\n",
            "loss:  8.999602749096233\n",
            "dx error:  1.4021566006651672e-09\n",
            "\n",
            "Testing softmax_loss:\n",
            "loss:  2.302545844500738\n",
            "dx error:  9.384673161989355e-09\n"
          ],
          "name": "stdout"
        }
      ]
    },
    {
      "cell_type": "code",
      "metadata": {
        "id": "qsB5lyGwNtim",
        "colab_type": "code",
        "colab": {
          "base_uri": "https://localhost:8080/",
          "height": 1000
        },
        "outputId": "f296903e-000b-44ce-80d3-e3efd5a68764"
      },
      "source": [
        "dx"
      ],
      "execution_count": 16,
      "outputs": [
        {
          "output_type": "execute_result",
          "data": {
            "text/plain": [
              "array([[ 0.00200116,  0.00200312, -0.01800325,  0.00199891,  0.00200017,\n",
              "         0.00199877,  0.00200002,  0.00200405,  0.00199747,  0.00199957],\n",
              "       [ 0.00199856,  0.00199983,  0.00199757,  0.00200115,  0.0020019 ,\n",
              "        -0.01799971,  0.00199895,  0.00200102,  0.00199949,  0.00200123],\n",
              "       [-0.0180001 ,  0.00200036,  0.00200012,  0.00200163,  0.0020003 ,\n",
              "         0.00199824,  0.00200007,  0.00199852,  0.00200037,  0.0020005 ],\n",
              "       [ 0.00200102,  0.002002  ,  0.00199908,  0.00200105,  0.0019997 ,\n",
              "         0.00200072, -0.01800239,  0.00200188,  0.00199875,  0.00199819],\n",
              "       [ 0.00199648,  0.00199962,  0.00199901,  0.00200079,  0.00199925,\n",
              "        -0.0179978 ,  0.0020022 ,  0.00200282,  0.00199614,  0.0020015 ],\n",
              "       [ 0.00199995,  0.00199843,  0.00200224,  0.00200137,  0.00200139,\n",
              "        -0.01799774,  0.00199628,  0.00199899,  0.00199989,  0.0019992 ],\n",
              "       [-0.01800276,  0.00200204,  0.00200273,  0.0019982 ,  0.00200067,\n",
              "         0.00199877,  0.0019968 ,  0.00200023,  0.00200194,  0.00200138],\n",
              "       [ 0.0019994 ,  0.0020001 ,  0.00200019,  0.00200045,  0.00200124,\n",
              "         0.00200104,  0.00200009,  0.00199817, -0.01799974,  0.00199905],\n",
              "       [ 0.00199845,  0.00199979,  0.00199988,  0.0020014 ,  0.00200258,\n",
              "         0.00200003,  0.00200122,  0.00199941, -0.01800475,  0.00200199],\n",
              "       [ 0.00199886,  0.00200132,  0.00199792,  0.00200064,  0.00199984,\n",
              "         0.00199759,  0.00200228,  0.00200096,  0.00199912, -0.01799852],\n",
              "       [ 0.00200004,  0.00199811,  0.00199913,  0.00200089, -0.01799944,\n",
              "         0.0019996 ,  0.00200078,  0.00199979,  0.00200147,  0.00199963],\n",
              "       [-0.01800024,  0.00199864,  0.00200011,  0.00200204,  0.00199852,\n",
              "         0.00199822,  0.00199972,  0.00200069,  0.0019995 ,  0.00200279],\n",
              "       [-0.01800139,  0.00199929,  0.00200055,  0.00200129,  0.00200127,\n",
              "         0.00199817,  0.00199888,  0.00200381,  0.00199579,  0.00200233],\n",
              "       [ 0.0019987 ,  0.00200119,  0.00199607, -0.01800232,  0.00199873,\n",
              "         0.00200496,  0.00200277,  0.0019992 ,  0.00200121,  0.00199949],\n",
              "       [ 0.00199983, -0.0179989 ,  0.00199887,  0.00199984,  0.00200207,\n",
              "         0.00200095,  0.00200238,  0.00199711,  0.0019999 ,  0.00199795],\n",
              "       [ 0.0019961 ,  0.0020013 , -0.01799625,  0.00199817,  0.00200065,\n",
              "         0.00199614,  0.00200182,  0.00199992,  0.00200178,  0.00200036],\n",
              "       [ 0.00200091,  0.00200496,  0.00199912,  0.00199983,  0.00199912,\n",
              "         0.00199864,  0.00199607,  0.00199994, -0.01799814,  0.00199955],\n",
              "       [ 0.00200215,  0.00199767,  0.00199821,  0.00200193,  0.00200083,\n",
              "        -0.01800044,  0.0020013 ,  0.00199883,  0.00199927,  0.00200026],\n",
              "       [ 0.00199908,  0.00199911,  0.00200142,  0.00199677,  0.00199976,\n",
              "         0.00200173,  0.00200245,  0.00200057, -0.01800049,  0.0019996 ],\n",
              "       [ 0.00200122,  0.0020013 ,  0.00200171,  0.00199998,  0.00200162,\n",
              "         0.00199804,  0.00199945, -0.01799996,  0.00199753,  0.0019991 ],\n",
              "       [ 0.00200062,  0.00199796,  0.00199709,  0.00200434, -0.01799774,\n",
              "         0.00199742,  0.00199907,  0.00199868,  0.00200124,  0.00200132],\n",
              "       [ 0.0020019 ,  0.0019996 ,  0.00199709,  0.00199977,  0.00200057,\n",
              "         0.00199888,  0.00200136,  0.0019993 ,  0.0020001 , -0.01799857],\n",
              "       [ 0.00200193,  0.00199939,  0.00199999,  0.00199661,  0.0020003 ,\n",
              "        -0.01800053,  0.00200296,  0.0019976 ,  0.00200404,  0.0019977 ],\n",
              "       [ 0.0019981 , -0.01799864,  0.00200024,  0.00199922,  0.00200176,\n",
              "         0.00200275,  0.00199433,  0.00199935,  0.00200151,  0.00200137],\n",
              "       [ 0.00199978,  0.00200033,  0.00199675,  0.00199978,  0.00200079,\n",
              "        -0.01799914,  0.00200046,  0.00199993,  0.00200077,  0.00200055],\n",
              "       [ 0.00199881,  0.00200128,  0.00199475,  0.00200241,  0.00199921,\n",
              "         0.00199805,  0.00200171, -0.01800176,  0.00200313,  0.00200241],\n",
              "       [-0.01800024,  0.00200292,  0.00199895,  0.002001  ,  0.00200191,\n",
              "         0.0020008 ,  0.00200026,  0.00199827,  0.00199882,  0.00199732],\n",
              "       [-0.01800266,  0.00200147,  0.00200236,  0.00199702,  0.00200237,\n",
              "         0.00199814,  0.00199771,  0.001998  ,  0.00200341,  0.00200219],\n",
              "       [ 0.00199535,  0.00200082,  0.00200118,  0.00200452,  0.00200075,\n",
              "         0.00199944,  0.00199809, -0.01799678,  0.0020006 ,  0.00199603],\n",
              "       [-0.01800179,  0.00200131,  0.00199971,  0.00200252,  0.00199638,\n",
              "         0.00199776,  0.0020044 ,  0.00200149,  0.00199897,  0.00199925],\n",
              "       [ 0.00200055,  0.00199954,  0.00200157,  0.00199714,  0.00199859,\n",
              "         0.00200029,  0.00199894,  0.00199993,  0.0020015 , -0.01799805],\n",
              "       [ 0.00199996,  0.00200186,  0.00200084,  0.00199657,  0.00200246,\n",
              "         0.00199786,  0.00200007,  0.00199958, -0.01799943,  0.00200022],\n",
              "       [ 0.0020033 ,  0.0019982 ,  0.00200439,  0.00199876,  0.00199803,\n",
              "        -0.018003  ,  0.0020011 ,  0.00199981,  0.00200034,  0.00199907],\n",
              "       [ 0.00199895,  0.00200271,  0.00199963,  0.00199833,  0.00200046,\n",
              "         0.00199916,  0.00199742,  0.00199955,  0.00199855, -0.01799476],\n",
              "       [ 0.00200071,  0.00200125,  0.00200161, -0.01799994,  0.00199941,\n",
              "         0.00199844,  0.00199982,  0.00199871,  0.00199815,  0.00200184],\n",
              "       [ 0.00199932,  0.00199684,  0.00199774,  0.00200223,  0.00200198,\n",
              "         0.00200183,  0.00199899, -0.01800107,  0.00200002,  0.0020021 ],\n",
              "       [ 0.00200227,  0.00200082,  0.00199829,  0.00200007,  0.00199648,\n",
              "         0.00200331,  0.0019974 , -0.01799978,  0.00200041,  0.00200073],\n",
              "       [ 0.00200193,  0.00200479,  0.00199699,  0.00200068,  0.00199579,\n",
              "         0.00199792,  0.00200249,  0.00199993,  0.00199968, -0.01800018],\n",
              "       [ 0.00200084,  0.00200137,  0.00199909,  0.00200083,  0.00200385,\n",
              "         0.00200023,  0.00199856, -0.01800173,  0.00199288,  0.0020041 ],\n",
              "       [ 0.00199938,  0.00199783,  0.0019989 , -0.01799634,  0.0019999 ,\n",
              "         0.00200041,  0.00200039,  0.00199942,  0.00200133,  0.0019988 ],\n",
              "       [ 0.00200086,  0.00200086,  0.00200004,  0.00200188,  0.00199687,\n",
              "         0.00199943,  0.00199953, -0.01799901,  0.00199975,  0.00199979],\n",
              "       [ 0.00199721,  0.00200195,  0.00199721, -0.01800071,  0.00200279,\n",
              "         0.00200509,  0.00200107,  0.00199657,  0.00199742,  0.00200139],\n",
              "       [ 0.00200082,  0.00199696,  0.00200091, -0.01800167,  0.00199794,\n",
              "         0.00200107,  0.0019998 ,  0.00200093,  0.00200382,  0.00199942],\n",
              "       [ 0.00199892,  0.00200333,  0.00199944, -0.01799912,  0.00199654,\n",
              "         0.00200138,  0.00200164,  0.00200141,  0.0020005 ,  0.00199597],\n",
              "       [ 0.00200227,  0.00199986,  0.0020002 ,  0.00199656,  0.00199916,\n",
              "         0.00200373,  0.00199467,  0.002002  , -0.01800024,  0.0020018 ],\n",
              "       [-0.01799946,  0.00200182,  0.00199796,  0.00200014,  0.00200429,\n",
              "         0.00199807,  0.00199904,  0.00199942,  0.00199969,  0.00199904],\n",
              "       [ 0.0019996 ,  0.00200251,  0.00200222,  0.001999  ,  0.00199755,\n",
              "        -0.01800101,  0.00200109,  0.00199774,  0.00199869,  0.00200261],\n",
              "       [ 0.00200011,  0.00199906,  0.0019999 ,  0.00200235,  0.00199975,\n",
              "         0.00199679,  0.00200317,  0.00199842,  0.00200051, -0.01800006],\n",
              "       [ 0.00200191,  0.00199687,  0.00200006,  0.00199738,  0.00200015,\n",
              "        -0.01799725,  0.00200002,  0.00200167,  0.00199965,  0.00199953],\n",
              "       [ 0.00200049,  0.00200135, -0.01800105,  0.0019972 ,  0.00200307,\n",
              "         0.00199646,  0.00200158,  0.0020022 ,  0.00199955,  0.00199915]])"
            ]
          },
          "metadata": {
            "tags": []
          },
          "execution_count": 16
        }
      ]
    },
    {
      "cell_type": "code",
      "metadata": {
        "id": "7T6xE3wXMOo7",
        "colab_type": "code",
        "colab": {
          "base_uri": "https://localhost:8080/",
          "height": 104
        },
        "outputId": "74b7c214-dad8-4169-9708-09a57c25678c"
      },
      "source": [
        "for i in range(5):\n",
        "    print(i)"
      ],
      "execution_count": 15,
      "outputs": [
        {
          "output_type": "stream",
          "text": [
            "0\n",
            "1\n",
            "2\n",
            "3\n",
            "4\n"
          ],
          "name": "stdout"
        }
      ]
    },
    {
      "cell_type": "markdown",
      "metadata": {
        "id": "tv4fGn9wgAT3",
        "colab_type": "text"
      },
      "source": [
        "# Two-layer network\n",
        "In the previous assignment you implemented a two-layer neural network in a single monolithic class. Now that you have implemented modular versions of the necessary layers, you will reimplement the two layer network using these modular implementations.\n",
        "\n",
        "Open the file `cs231n/classifiers/fc_net.py` and complete the implementation of the `TwoLayerNet` class. This class will serve as a model for the other networks you will implement in this assignment, so read through it to make sure you understand the API. You can run the cell below to test your implementation."
      ]
    },
    {
      "cell_type": "code",
      "metadata": {
        "id": "KnIR-eb6bYul",
        "colab_type": "code",
        "outputId": "63867d19-c199-4d16-98ca-56639b46c22f",
        "colab": {
          "base_uri": "https://localhost:8080/",
          "height": 35
        }
      },
      "source": [
        "y"
      ],
      "execution_count": 0,
      "outputs": [
        {
          "output_type": "execute_result",
          "data": {
            "text/plain": [
              "array([0, 5, 1])"
            ]
          },
          "metadata": {
            "tags": []
          },
          "execution_count": 20
        }
      ]
    },
    {
      "cell_type": "code",
      "metadata": {
        "id": "F4cTPlYigAT4",
        "colab_type": "code",
        "outputId": "47f57044-bc36-4322-9efa-b1a833dbc9d5",
        "colab": {
          "base_uri": "https://localhost:8080/",
          "height": 328
        }
      },
      "source": [
        "np.random.seed(231)\n",
        "N, D, H, C = 3, 5, 50, 7\n",
        "X = np.random.randn(N, D)\n",
        "y = np.random.randint(C, size=N)\n",
        "\n",
        "std = 1e-3\n",
        "model = TwoLayerNet(input_dim=D, hidden_dim=H, num_classes=C, weight_scale=std)\n",
        "\n",
        "print('Testing initialization ... ')\n",
        "W1_std = abs(model.params['W1'].std() - std)\n",
        "b1 = model.params['b1']\n",
        "W2_std = abs(model.params['W2'].std() - std)\n",
        "b2 = model.params['b2']\n",
        "assert W1_std < std / 10, 'First layer weights do not seem right'\n",
        "assert np.all(b1 == 0), 'First layer biases do not seem right'\n",
        "assert W2_std < std / 10, 'Second layer weights do not seem right'\n",
        "assert np.all(b2 == 0), 'Second layer biases do not seem right'\n",
        "\n",
        "print('Testing test-time forward pass ... ')\n",
        "model.params['W1'] = np.linspace(-0.7, 0.3, num=D*H).reshape(D, H)\n",
        "model.params['b1'] = np.linspace(-0.1, 0.9, num=H)\n",
        "model.params['W2'] = np.linspace(-0.3, 0.4, num=H*C).reshape(H, C)\n",
        "model.params['b2'] = np.linspace(-0.9, 0.1, num=C)\n",
        "X = np.linspace(-5.5, 4.5, num=N*D).reshape(D, N).T\n",
        "scores = model.loss(X)\n",
        "correct_scores = np.asarray(\n",
        "  [[11.53165108,  12.2917344,   13.05181771,  13.81190102,  14.57198434, 15.33206765,  16.09215096],\n",
        "   [12.05769098,  12.74614105,  13.43459113,  14.1230412,   14.81149128, 15.49994135,  16.18839143],\n",
        "   [12.58373087,  13.20054771,  13.81736455,  14.43418138,  15.05099822, 15.66781506,  16.2846319 ]])\n",
        "scores_diff = np.abs(scores - correct_scores).sum()\n",
        "assert scores_diff < 1e-6, 'Problem with test-time forward pass'\n",
        "\n",
        "print('Testing training loss (no regularization)')\n",
        "y = np.asarray([0, 5, 1])\n",
        "loss, grads = model.loss(X, y)\n",
        "correct_loss = 3.4702243556\n",
        "assert abs(loss - correct_loss) < 1e-10, 'Problem with training-time loss'\n",
        "\n",
        "model.reg = 1.0\n",
        "loss, grads = model.loss(X, y)\n",
        "correct_loss = 26.5948426952\n",
        "assert abs(loss - correct_loss) < 1e-10, 'Problem with regularization loss'\n",
        "\n",
        "# Errors should be around e-7 or less\n",
        "for reg in [0.0, 0.5, 0.7]:\n",
        "  print('Running numeric gradient check with reg = ', reg)\n",
        "  model.reg = reg\n",
        "  loss, grads = model.loss(X, y)\n",
        "\n",
        "  for name in sorted(grads):\n",
        "    f = lambda _: model.loss(X, y)[0]\n",
        "    grad_num = eval_numerical_gradient(f, model.params[name], verbose=False)\n",
        "    print('%s relative error: %.2e' % (name, rel_error(grad_num, grads[name])))"
      ],
      "execution_count": 17,
      "outputs": [
        {
          "output_type": "stream",
          "text": [
            "Testing initialization ... \n",
            "Testing test-time forward pass ... \n",
            "Testing training loss (no regularization)\n",
            "Running numeric gradient check with reg =  0.0\n",
            "W1 relative error: 1.83e-08\n",
            "W2 relative error: 3.12e-10\n",
            "b1 relative error: 9.83e-09\n",
            "b2 relative error: 4.33e-10\n",
            "Running numeric gradient check with reg =  0.5\n",
            "W1 relative error: 3.88e-08\n",
            "W2 relative error: 4.12e-09\n",
            "b1 relative error: 1.35e-08\n",
            "b2 relative error: 7.76e-10\n",
            "Running numeric gradient check with reg =  0.7\n",
            "W1 relative error: 3.12e-07\n",
            "W2 relative error: 7.98e-08\n",
            "b1 relative error: 1.35e-08\n",
            "b2 relative error: 1.97e-09\n"
          ],
          "name": "stdout"
        }
      ]
    },
    {
      "cell_type": "code",
      "metadata": {
        "id": "-KUF_ptra1Zx",
        "colab_type": "code",
        "colab": {}
      },
      "source": [
        ""
      ],
      "execution_count": 0,
      "outputs": []
    },
    {
      "cell_type": "markdown",
      "metadata": {
        "id": "nNF8iYQFgAT7",
        "colab_type": "text"
      },
      "source": [
        "# Solver\n",
        "In the previous assignment, the logic for training models was coupled to the models themselves. Following a more modular design, for this assignment we have split the logic for training models into a separate class.\n",
        "\n",
        "Open the file `cs231n/solver.py` and read through it to familiarize yourself with the API. After doing so, use a `Solver` instance to train a `TwoLayerNet` that achieves at least `50%` accuracy on the validation set."
      ]
    },
    {
      "cell_type": "code",
      "metadata": {
        "id": "U93NO0ZlgAT8",
        "colab_type": "code",
        "outputId": "73cf5c78-bee9-466a-a7c7-97848fb106f1",
        "colab": {
          "base_uri": "https://localhost:8080/",
          "height": 1000
        }
      },
      "source": [
        "model = TwoLayerNet()\n",
        "solver = None\n",
        "\n",
        "##############################################################################\n",
        "# TODO: Use a Solver instance to train a TwoLayerNet that achieves at least  #\n",
        "# 50% accuracy on the validation set.                                        #\n",
        "##############################################################################\n",
        "# *****START OF YOUR CODE (DO NOT DELETE/MODIFY THIS LINE)*****\n",
        "solver = Solver(model, data,\n",
        "               update_rule='sgd',\n",
        "               optim_config={\n",
        "                   'learning_rate' : 1e-3,\n",
        "               },\n",
        "               lr_decay=0.8,\n",
        "               num_epochs=10, batch_size=100,\n",
        "               print_every=100)\n",
        "solver.train()\n",
        "scores = model.loss(data['X_test'])\n",
        "y_pred = np.argmax(scores, axis=1)\n",
        "acc = y_pred == data['y_test']\n",
        "acc = np.mean(acc)\n",
        "print('test accuracy : %f'% (acc))\n",
        "\n",
        "pass\n",
        "\n",
        "# *****END OF YOUR CODE (DO NOT DELETE/MODIFY THIS LINE)*****\n",
        "##############################################################################\n",
        "#                             END OF YOUR CODE                               #\n",
        "##############################################################################"
      ],
      "execution_count": 18,
      "outputs": [
        {
          "output_type": "stream",
          "text": [
            "(Iteration 1 / 4900) loss: 2.304060\n",
            "(Epoch 0 / 10) train acc: 0.116000; val_acc: 0.094000\n",
            "(Iteration 101 / 4900) loss: 1.829613\n",
            "(Iteration 201 / 4900) loss: 1.857390\n",
            "(Iteration 301 / 4900) loss: 1.744448\n",
            "(Iteration 401 / 4900) loss: 1.420187\n",
            "(Epoch 1 / 10) train acc: 0.407000; val_acc: 0.422000\n",
            "(Iteration 501 / 4900) loss: 1.542427\n",
            "(Iteration 601 / 4900) loss: 1.649871\n",
            "(Iteration 701 / 4900) loss: 1.695672\n",
            "(Iteration 801 / 4900) loss: 1.659121\n",
            "(Iteration 901 / 4900) loss: 1.428991\n",
            "(Epoch 2 / 10) train acc: 0.498000; val_acc: 0.475000\n",
            "(Iteration 1001 / 4900) loss: 1.376289\n",
            "(Iteration 1101 / 4900) loss: 1.275565\n",
            "(Iteration 1201 / 4900) loss: 1.584220\n",
            "(Iteration 1301 / 4900) loss: 1.392124\n",
            "(Iteration 1401 / 4900) loss: 1.173616\n",
            "(Epoch 3 / 10) train acc: 0.503000; val_acc: 0.488000\n",
            "(Iteration 1501 / 4900) loss: 1.334806\n",
            "(Iteration 1601 / 4900) loss: 1.266435\n",
            "(Iteration 1701 / 4900) loss: 1.270974\n",
            "(Iteration 1801 / 4900) loss: 1.375694\n",
            "(Iteration 1901 / 4900) loss: 1.306264\n",
            "(Epoch 4 / 10) train acc: 0.554000; val_acc: 0.504000\n",
            "(Iteration 2001 / 4900) loss: 1.331799\n",
            "(Iteration 2101 / 4900) loss: 1.324633\n",
            "(Iteration 2201 / 4900) loss: 1.310493\n",
            "(Iteration 2301 / 4900) loss: 1.268084\n",
            "(Iteration 2401 / 4900) loss: 1.311096\n",
            "(Epoch 5 / 10) train acc: 0.553000; val_acc: 0.510000\n",
            "(Iteration 2501 / 4900) loss: 1.361757\n",
            "(Iteration 2601 / 4900) loss: 1.221786\n",
            "(Iteration 2701 / 4900) loss: 1.058463\n",
            "(Iteration 2801 / 4900) loss: 1.223126\n",
            "(Iteration 2901 / 4900) loss: 1.248591\n",
            "(Epoch 6 / 10) train acc: 0.563000; val_acc: 0.518000\n",
            "(Iteration 3001 / 4900) loss: 1.230829\n",
            "(Iteration 3101 / 4900) loss: 1.320762\n",
            "(Iteration 3201 / 4900) loss: 1.227759\n",
            "(Iteration 3301 / 4900) loss: 1.284588\n",
            "(Iteration 3401 / 4900) loss: 1.330825\n",
            "(Epoch 7 / 10) train acc: 0.565000; val_acc: 0.524000\n",
            "(Iteration 3501 / 4900) loss: 1.237669\n",
            "(Iteration 3601 / 4900) loss: 1.062200\n",
            "(Iteration 3701 / 4900) loss: 1.150153\n",
            "(Iteration 3801 / 4900) loss: 1.076288\n",
            "(Iteration 3901 / 4900) loss: 1.087968\n",
            "(Epoch 8 / 10) train acc: 0.600000; val_acc: 0.511000\n",
            "(Iteration 4001 / 4900) loss: 1.211316\n",
            "(Iteration 4101 / 4900) loss: 1.297307\n",
            "(Iteration 4201 / 4900) loss: 1.178958\n",
            "(Iteration 4301 / 4900) loss: 1.064057\n",
            "(Iteration 4401 / 4900) loss: 1.318329\n",
            "(Epoch 9 / 10) train acc: 0.607000; val_acc: 0.536000\n",
            "(Iteration 4501 / 4900) loss: 0.977584\n",
            "(Iteration 4601 / 4900) loss: 1.351527\n",
            "(Iteration 4701 / 4900) loss: 1.018171\n",
            "(Iteration 4801 / 4900) loss: 1.078572\n",
            "(Epoch 10 / 10) train acc: 0.600000; val_acc: 0.532000\n",
            "test accuracy : 0.523000\n"
          ],
          "name": "stdout"
        }
      ]
    },
    {
      "cell_type": "code",
      "metadata": {
        "id": "3BW2jKbiuW8q",
        "colab_type": "code",
        "colab": {
          "base_uri": "https://localhost:8080/",
          "height": 812
        },
        "outputId": "e973369f-3c3a-4c3c-b791-06ac7335d7a3"
      },
      "source": [
        "data['y_test']"
      ],
      "execution_count": 19,
      "outputs": [
        {
          "output_type": "execute_result",
          "data": {
            "text/plain": [
              "array([3, 8, 8, 0, 6, 6, 1, 6, 3, 1, 0, 9, 5, 7, 9, 8, 5, 7, 8, 6, 7, 0,\n",
              "       4, 9, 5, 2, 4, 0, 9, 6, 6, 5, 4, 5, 9, 2, 4, 1, 9, 5, 4, 6, 5, 6,\n",
              "       0, 9, 3, 9, 7, 6, 9, 8, 0, 3, 8, 8, 7, 7, 4, 6, 7, 3, 6, 3, 6, 2,\n",
              "       1, 2, 3, 7, 2, 6, 8, 8, 0, 2, 9, 3, 3, 8, 8, 1, 1, 7, 2, 5, 2, 7,\n",
              "       8, 9, 0, 3, 8, 6, 4, 6, 6, 0, 0, 7, 4, 5, 6, 3, 1, 1, 3, 6, 8, 7,\n",
              "       4, 0, 6, 2, 1, 3, 0, 4, 2, 7, 8, 3, 1, 2, 8, 0, 8, 3, 5, 2, 4, 1,\n",
              "       8, 9, 1, 2, 9, 7, 2, 9, 6, 5, 6, 3, 8, 7, 6, 2, 5, 2, 8, 9, 6, 0,\n",
              "       0, 5, 2, 9, 5, 4, 2, 1, 6, 6, 8, 4, 8, 4, 5, 0, 9, 9, 9, 8, 9, 9,\n",
              "       3, 7, 5, 0, 0, 5, 2, 2, 3, 8, 6, 3, 4, 0, 5, 8, 0, 1, 7, 2, 8, 8,\n",
              "       7, 8, 5, 1, 8, 7, 1, 3, 0, 5, 7, 9, 7, 4, 5, 9, 8, 0, 7, 9, 8, 2,\n",
              "       7, 6, 9, 4, 3, 9, 6, 4, 7, 6, 5, 1, 5, 8, 8, 0, 4, 0, 5, 5, 1, 1,\n",
              "       8, 9, 0, 3, 1, 9, 2, 2, 5, 3, 9, 9, 4, 0, 3, 0, 0, 9, 8, 1, 5, 7,\n",
              "       0, 8, 2, 4, 7, 0, 2, 3, 6, 3, 8, 5, 0, 3, 4, 3, 9, 0, 6, 1, 0, 9,\n",
              "       1, 0, 7, 9, 1, 2, 6, 9, 3, 4, 6, 0, 0, 6, 6, 6, 3, 2, 6, 1, 8, 2,\n",
              "       1, 6, 8, 6, 8, 0, 4, 0, 7, 7, 5, 5, 3, 5, 2, 3, 4, 1, 7, 5, 4, 6,\n",
              "       1, 9, 3, 6, 6, 9, 3, 8, 0, 7, 2, 6, 2, 5, 8, 5, 4, 6, 8, 9, 9, 1,\n",
              "       0, 2, 2, 7, 3, 2, 8, 0, 9, 5, 8, 1, 9, 4, 1, 3, 8, 1, 4, 7, 9, 4,\n",
              "       2, 7, 0, 7, 0, 6, 6, 9, 0, 9, 2, 8, 7, 2, 2, 5, 1, 2, 6, 2, 9, 6,\n",
              "       2, 3, 0, 3, 9, 8, 7, 8, 8, 4, 0, 1, 8, 2, 7, 9, 3, 6, 1, 9, 0, 7,\n",
              "       3, 7, 4, 5, 0, 0, 2, 9, 3, 4, 0, 6, 2, 5, 3, 7, 3, 7, 2, 5, 3, 1,\n",
              "       1, 4, 9, 9, 5, 7, 5, 0, 2, 2, 2, 9, 7, 3, 9, 4, 3, 5, 4, 6, 5, 6,\n",
              "       1, 4, 3, 4, 4, 3, 7, 8, 3, 7, 8, 0, 5, 7, 6, 0, 5, 4, 8, 6, 8, 5,\n",
              "       5, 9, 9, 9, 5, 0, 1, 0, 8, 1, 1, 8, 0, 2, 2, 0, 4, 6, 5, 4, 9, 4,\n",
              "       7, 9, 9, 4, 5, 6, 6, 1, 5, 3, 8, 9, 5, 8, 5, 7, 0, 7, 0, 5, 0, 0,\n",
              "       4, 6, 9, 0, 9, 5, 6, 6, 6, 2, 9, 0, 1, 7, 6, 7, 5, 9, 1, 6, 2, 5,\n",
              "       5, 5, 8, 5, 9, 4, 6, 4, 3, 2, 0, 7, 6, 2, 2, 3, 9, 7, 9, 2, 6, 7,\n",
              "       1, 3, 6, 6, 8, 9, 7, 5, 4, 0, 8, 4, 0, 9, 3, 4, 8, 9, 6, 9, 2, 6,\n",
              "       1, 4, 7, 3, 5, 3, 8, 5, 0, 2, 1, 6, 4, 3, 3, 9, 6, 9, 8, 8, 5, 8,\n",
              "       6, 6, 2, 1, 7, 7, 1, 2, 7, 9, 9, 4, 4, 1, 2, 5, 6, 8, 7, 6, 8, 3,\n",
              "       0, 5, 5, 3, 0, 7, 9, 1, 3, 4, 4, 5, 3, 9, 5, 6, 9, 2, 1, 1, 4, 1,\n",
              "       9, 4, 7, 6, 3, 8, 9, 0, 1, 3, 6, 3, 6, 3, 2, 0, 3, 1, 0, 5, 9, 6,\n",
              "       4, 8, 9, 6, 9, 6, 3, 0, 3, 2, 2, 7, 8, 3, 8, 2, 7, 5, 7, 2, 4, 8,\n",
              "       7, 4, 2, 9, 8, 8, 6, 8, 8, 7, 4, 3, 3, 8, 4, 9, 4, 8, 8, 1, 8, 2,\n",
              "       1, 3, 6, 5, 4, 2, 7, 9, 9, 4, 1, 4, 1, 3, 2, 7, 0, 7, 9, 7, 6, 6,\n",
              "       2, 5, 9, 2, 9, 1, 2, 2, 6, 8, 2, 1, 3, 6, 6, 0, 1, 2, 7, 0, 5, 4,\n",
              "       6, 1, 6, 4, 0, 2, 2, 6, 0, 5, 9, 1, 7, 6, 7, 0, 3, 9, 6, 8, 3, 0,\n",
              "       3, 4, 7, 7, 1, 4, 7, 2, 7, 1, 4, 7, 4, 4, 8, 4, 7, 7, 5, 3, 7, 2,\n",
              "       0, 8, 9, 5, 8, 3, 6, 2, 0, 8, 7, 3, 7, 6, 5, 3, 1, 3, 2, 2, 5, 4,\n",
              "       1, 2, 9, 2, 7, 0, 7, 2, 1, 3, 2, 0, 2, 4, 7, 9, 8, 9, 0, 7, 7, 0,\n",
              "       7, 8, 4, 6, 3, 3, 0, 1, 3, 7, 0, 1, 3, 1, 4, 2, 3, 8, 4, 2, 3, 7,\n",
              "       8, 4, 3, 0, 9, 0, 0, 1, 0, 4, 4, 6, 7, 6, 1, 1, 3, 7, 3, 5, 2, 6,\n",
              "       6, 5, 8, 7, 1, 6, 8, 8, 5, 3, 0, 4, 0, 1, 3, 8, 8, 0, 6, 9, 9, 9,\n",
              "       5, 5, 8, 6, 0, 0, 4, 2, 3, 2, 7, 2, 2, 5, 9, 8, 9, 1, 7, 4, 0, 3,\n",
              "       0, 1, 3, 8, 3, 9, 6, 1, 4, 7, 0, 3, 7, 8, 9, 1, 1, 6, 6, 6, 6, 9,\n",
              "       1, 9, 9, 4, 2, 1, 7, 0, 6, 8, 1, 9, 2, 9, 0, 4, 7, 8, 3, 1, 2, 0,\n",
              "       1, 5, 8, 4, 6, 3, 8, 1, 3, 8])"
            ]
          },
          "metadata": {
            "tags": []
          },
          "execution_count": 19
        }
      ]
    },
    {
      "cell_type": "code",
      "metadata": {
        "id": "cC37aIAguT7V",
        "colab_type": "code",
        "colab": {}
      },
      "source": [
        "y_pred"
      ],
      "execution_count": 0,
      "outputs": []
    },
    {
      "cell_type": "code",
      "metadata": {
        "id": "7aZplbFWu7E7",
        "colab_type": "code",
        "outputId": "4276595c-49a0-4971-80a5-1c7444670ec2",
        "colab": {
          "base_uri": "https://localhost:8080/",
          "height": 35
        }
      },
      "source": [
        "acc"
      ],
      "execution_count": 20,
      "outputs": [
        {
          "output_type": "execute_result",
          "data": {
            "text/plain": [
              "0.523"
            ]
          },
          "metadata": {
            "tags": []
          },
          "execution_count": 20
        }
      ]
    },
    {
      "cell_type": "code",
      "metadata": {
        "id": "j9cDBN41gAT-",
        "colab_type": "code",
        "outputId": "31fa1d11-c538-4cf2-f7a6-ed2c4582709c",
        "colab": {
          "base_uri": "https://localhost:8080/",
          "height": 750
        }
      },
      "source": [
        "# Run this cell to visualize training loss and train / val accuracy\n",
        "\n",
        "plt.subplot(2, 1, 1)\n",
        "plt.title('Training loss')\n",
        "plt.plot(solver.loss_history, 'o')\n",
        "plt.xlabel('Iteration')\n",
        "\n",
        "plt.subplot(2, 1, 2)\n",
        "plt.title('Accuracy')\n",
        "plt.plot(solver.train_acc_history, '-o', label='train')\n",
        "plt.plot(solver.val_acc_history, '-o', label='val')\n",
        "plt.plot([0.5] * len(solver.val_acc_history), 'k--')\n",
        "plt.xlabel('Epoch')\n",
        "plt.legend(loc='lower right')\n",
        "plt.gcf().set_size_inches(15, 12)\n",
        "plt.show()"
      ],
      "execution_count": 21,
      "outputs": [
        {
          "output_type": "display_data",
          "data": {
            "image/png": "[encoded data removed]",
            "text/plain": [
              "<Figure size 1080x864 with 2 Axes>"
            ]
          },
          "metadata": {
            "tags": []
          }
        }
      ]
    },
    {
      "cell_type": "markdown",
      "metadata": {
        "id": "akC0LOPygAUB",
        "colab_type": "text"
      },
      "source": [
        "# Multilayer network\n",
        "Next you will implement a fully-connected network with an arbitrary number of hidden layers.\n",
        "\n",
        "Read through the `FullyConnectedNet` class in the file `cs231n/classifiers/fc_net.py`.\n",
        "\n",
        "Implement the initialization, the forward pass, and the backward pass. For the moment don't worry about implementing dropout or batch/layer normalization; we will add those features soon."
      ]
    },
    {
      "cell_type": "markdown",
      "metadata": {
        "id": "Iqe1NHVMgAUC",
        "colab_type": "text"
      },
      "source": [
        "## Initial loss and gradient check\n",
        "\n",
        "As a sanity check, run the following to check the initial loss and to gradient check the network both with and without regularization. Do the initial losses seem reasonable?\n",
        "\n",
        "For gradient checking, you should expect to see errors around 1e-7 or less."
      ]
    },
    {
      "cell_type": "code",
      "metadata": {
        "id": "JASQ8x4lgAUD",
        "colab_type": "code",
        "outputId": "bb120022-ed14-4f56-a65c-22d6ca65b978",
        "colab": {
          "base_uri": "https://localhost:8080/",
          "height": 484
        }
      },
      "source": [
        "np.random.seed(231)\n",
        "N, D, H1, H2, C = 2, 15, 20, 30, 10\n",
        "X = np.random.randn(N, D)\n",
        "y = np.random.randint(C, size=(N,))\n",
        "\n",
        "for reg in [0, 3.14, 5]:\n",
        "  print('Running check with reg = ', reg)\n",
        "  model = FullyConnectedNet([H1, H2], input_dim=D, num_classes=C,\n",
        "                            reg=reg, weight_scale=5e-2, dtype=np.float64)\n",
        "  print(1)\n",
        "\n",
        "  loss, grads = model.loss(X, y)\n",
        "  print('Initial loss: ', loss)\n",
        "  \n",
        "  # Most of the errors should be on the order of e-7 or smaller.   \n",
        "  # NOTE: It is fine however to see an error for W2 on the order of e-5\n",
        "  # for the check when reg = 0.0\n",
        "  for name in sorted(grads):\n",
        "    f = lambda _: model.loss(X, y)[0]\n",
        "    grad_num = eval_numerical_gradient(f, model.params[name], verbose=False, h=1e-5)\n",
        "    print('%s relative error: %.2e' % (name, rel_error(grad_num, grads[name])))"
      ],
      "execution_count": 24,
      "outputs": [
        {
          "output_type": "stream",
          "text": [
            "Running check with reg =  0\n",
            "1\n",
            "Initial loss:  2.3004790897684924\n",
            "W1 relative error: 1.48e-07\n",
            "W2 relative error: 2.21e-05\n",
            "W3 relative error: 3.53e-07\n",
            "b1 relative error: 5.38e-09\n",
            "b2 relative error: 2.09e-09\n",
            "b3 relative error: 5.80e-11\n",
            "Running check with reg =  3.14\n",
            "1\n",
            "Initial loss:  7.052114776533016\n",
            "W1 relative error: 7.36e-09\n",
            "W2 relative error: 6.87e-08\n",
            "W3 relative error: 3.48e-08\n",
            "b1 relative error: 1.48e-08\n",
            "b2 relative error: 1.72e-09\n",
            "b3 relative error: 1.80e-10\n",
            "Running check with reg =  5\n",
            "1\n",
            "Initial loss:  9.700243784781096\n",
            "W1 relative error: 1.68e-07\n",
            "W2 relative error: 2.11e-07\n",
            "W3 relative error: 1.96e-08\n",
            "b1 relative error: 1.79e-08\n",
            "b2 relative error: 7.56e-08\n",
            "b3 relative error: 4.79e-10\n"
          ],
          "name": "stdout"
        }
      ]
    },
    {
      "cell_type": "code",
      "metadata": {
        "id": "M1rECw0n1QgJ",
        "colab_type": "code",
        "outputId": "0f55f1ae-abce-4bed-ff48-a2685f9d011b",
        "colab": {
          "base_uri": "https://localhost:8080/",
          "height": 35
        }
      },
      "source": [
        "loss"
      ],
      "execution_count": 23,
      "outputs": [
        {
          "output_type": "execute_result",
          "data": {
            "text/plain": [
              "7.052114776533016"
            ]
          },
          "metadata": {
            "tags": []
          },
          "execution_count": 23
        }
      ]
    },
    {
      "cell_type": "markdown",
      "metadata": {
        "id": "uev7pMZDgAUG",
        "colab_type": "text"
      },
      "source": [
        "As another sanity check, make sure you can overfit a small dataset of 50 images. First we will try a three-layer network with 100 units in each hidden layer. In the following cell, tweak the **learning rate** and **weight initialization scale** to overfit and achieve 100% training accuracy within 20 epochs."
      ]
    },
    {
      "cell_type": "code",
      "metadata": {
        "scrolled": false,
        "id": "73I2wZPmgAUH",
        "colab_type": "code",
        "outputId": "3f21cfff-7236-4b76-8d2f-86056898819e",
        "colab": {
          "base_uri": "https://localhost:8080/",
          "height": 945
        }
      },
      "source": [
        "# TODO: Use a three-layer Net to overfit 50 training examples by \n",
        "# tweaking just the learning rate and initialization scale.\n",
        "\n",
        "num_train = 50\n",
        "small_data = {\n",
        "  'X_train': data['X_train'][:num_train],\n",
        "  'y_train': data['y_train'][:num_train],\n",
        "  'X_val': data['X_val'],\n",
        "  'y_val': data['y_val'],\n",
        "}\n",
        "\n",
        "weight_scale = 5e-2   # Experiment with this!\n",
        "learning_rate = 2e-4  # Experiment with this!\n",
        "model = FullyConnectedNet([100, 100],\n",
        "              weight_scale=weight_scale, dtype=np.float64)\n",
        "solver = Solver(model, small_data,\n",
        "                print_every=10, num_epochs=20, batch_size=25,\n",
        "                update_rule='sgd',\n",
        "                optim_config={\n",
        "                  'learning_rate': learning_rate,\n",
        "                }\n",
        "         )\n",
        "solver.train()\n",
        "\n",
        "plt.plot(solver.loss_history, 'o')\n",
        "plt.title('Training loss history')\n",
        "plt.xlabel('Iteration')\n",
        "plt.ylabel('Training loss')\n",
        "plt.show()"
      ],
      "execution_count": 25,
      "outputs": [
        {
          "output_type": "stream",
          "text": [
            "(Iteration 1 / 40) loss: 38.771522\n",
            "(Epoch 0 / 20) train acc: 0.100000; val_acc: 0.083000\n",
            "(Epoch 1 / 20) train acc: 0.180000; val_acc: 0.095000\n",
            "(Epoch 2 / 20) train acc: 0.260000; val_acc: 0.102000\n",
            "(Epoch 3 / 20) train acc: 0.340000; val_acc: 0.106000\n",
            "(Epoch 4 / 20) train acc: 0.360000; val_acc: 0.116000\n",
            "(Epoch 5 / 20) train acc: 0.460000; val_acc: 0.108000\n",
            "(Iteration 11 / 40) loss: 5.653914\n",
            "(Epoch 6 / 20) train acc: 0.560000; val_acc: 0.120000\n",
            "(Epoch 7 / 20) train acc: 0.600000; val_acc: 0.117000\n",
            "(Epoch 8 / 20) train acc: 0.740000; val_acc: 0.120000\n",
            "(Epoch 9 / 20) train acc: 0.780000; val_acc: 0.121000\n",
            "(Epoch 10 / 20) train acc: 0.800000; val_acc: 0.123000\n",
            "(Iteration 21 / 40) loss: 0.814707\n",
            "(Epoch 11 / 20) train acc: 0.860000; val_acc: 0.119000\n",
            "(Epoch 12 / 20) train acc: 0.860000; val_acc: 0.117000\n",
            "(Epoch 13 / 20) train acc: 0.960000; val_acc: 0.120000\n",
            "(Epoch 14 / 20) train acc: 0.940000; val_acc: 0.122000\n",
            "(Epoch 15 / 20) train acc: 0.960000; val_acc: 0.119000\n",
            "(Iteration 31 / 40) loss: 0.162099\n",
            "(Epoch 16 / 20) train acc: 0.960000; val_acc: 0.122000\n",
            "(Epoch 17 / 20) train acc: 1.000000; val_acc: 0.121000\n",
            "(Epoch 18 / 20) train acc: 1.000000; val_acc: 0.123000\n",
            "(Epoch 19 / 20) train acc: 1.000000; val_acc: 0.123000\n",
            "(Epoch 20 / 20) train acc: 1.000000; val_acc: 0.124000\n"
          ],
          "name": "stdout"
        },
        {
          "output_type": "display_data",
          "data": {
            "image/png": "[encoded data removed]",
            "text/plain": [
              "<Figure size 720x576 with 1 Axes>"
            ]
          },
          "metadata": {
            "tags": []
          }
        }
      ]
    },
    {
      "cell_type": "markdown",
      "metadata": {
        "id": "gcvhGZeCgAUK",
        "colab_type": "text"
      },
      "source": [
        "Now try to use a five-layer network with 100 units on each layer to overfit 50 training examples. Again, you will have to adjust the learning rate and weight initialization scale, but you should be able to achieve 100% training accuracy within 20 epochs."
      ]
    },
    {
      "cell_type": "code",
      "metadata": {
        "id": "dBmQj3mMgAUL",
        "colab_type": "code",
        "outputId": "27010503-67ce-45dc-b3b4-8c057dfa117e",
        "colab": {
          "base_uri": "https://localhost:8080/",
          "height": 945
        }
      },
      "source": [
        "# TODO: Use a five-layer Net to overfit 50 training examples by \n",
        "# tweaking just the learning rate and initialization scale.\n",
        "\n",
        "num_train = 50\n",
        "small_data = {\n",
        "  'X_train': data['X_train'][:num_train],\n",
        "  'y_train': data['y_train'][:num_train],\n",
        "  'X_val': data['X_val'],\n",
        "  'y_val': data['y_val'],\n",
        "}\n",
        "\n",
        "learning_rate = 2e-4  # Experiment with this!\n",
        "weight_scale = 1e-1   # Experiment with this!\n",
        "model = FullyConnectedNet([100, 100, 100, 100],\n",
        "                weight_scale=weight_scale, dtype=np.float64)\n",
        "solver = Solver(model, small_data,\n",
        "                print_every=10, num_epochs=20, batch_size=25,\n",
        "                update_rule='sgd',\n",
        "                optim_config={\n",
        "                  'learning_rate': learning_rate,\n",
        "                }\n",
        "         )\n",
        "solver.train()\n",
        "\n",
        "plt.plot(solver.loss_history, 'o')\n",
        "plt.title('Training loss history')\n",
        "plt.xlabel('Iteration')\n",
        "plt.ylabel('Training loss')\n",
        "plt.show()"
      ],
      "execution_count": 26,
      "outputs": [
        {
          "output_type": "stream",
          "text": [
            "(Iteration 1 / 40) loss: 81.414109\n",
            "(Epoch 0 / 20) train acc: 0.180000; val_acc: 0.086000\n",
            "(Epoch 1 / 20) train acc: 0.200000; val_acc: 0.098000\n",
            "(Epoch 2 / 20) train acc: 0.360000; val_acc: 0.109000\n",
            "(Epoch 3 / 20) train acc: 0.420000; val_acc: 0.106000\n",
            "(Epoch 4 / 20) train acc: 0.640000; val_acc: 0.132000\n",
            "(Epoch 5 / 20) train acc: 0.640000; val_acc: 0.131000\n",
            "(Iteration 11 / 40) loss: 1.400991\n",
            "(Epoch 6 / 20) train acc: 0.740000; val_acc: 0.132000\n",
            "(Epoch 7 / 20) train acc: 0.700000; val_acc: 0.120000\n",
            "(Epoch 8 / 20) train acc: 0.800000; val_acc: 0.134000\n",
            "(Epoch 9 / 20) train acc: 0.880000; val_acc: 0.135000\n",
            "(Epoch 10 / 20) train acc: 0.920000; val_acc: 0.136000\n",
            "(Iteration 21 / 40) loss: 2.566914\n",
            "(Epoch 11 / 20) train acc: 0.880000; val_acc: 0.130000\n",
            "(Epoch 12 / 20) train acc: 0.960000; val_acc: 0.121000\n",
            "(Epoch 13 / 20) train acc: 0.980000; val_acc: 0.121000\n",
            "(Epoch 14 / 20) train acc: 1.000000; val_acc: 0.129000\n",
            "(Epoch 15 / 20) train acc: 1.000000; val_acc: 0.129000\n",
            "(Iteration 31 / 40) loss: 0.000631\n",
            "(Epoch 16 / 20) train acc: 1.000000; val_acc: 0.129000\n",
            "(Epoch 17 / 20) train acc: 1.000000; val_acc: 0.129000\n",
            "(Epoch 18 / 20) train acc: 1.000000; val_acc: 0.129000\n",
            "(Epoch 19 / 20) train acc: 1.000000; val_acc: 0.129000\n",
            "(Epoch 20 / 20) train acc: 1.000000; val_acc: 0.129000\n"
          ],
          "name": "stdout"
        },
        {
          "output_type": "display_data",
          "data": {
            "image/png": "[encoded data removed]",
            "text/plain": [
              "<Figure size 720x576 with 1 Axes>"
            ]
          },
          "metadata": {
            "tags": []
          }
        }
      ]
    },
    {
      "cell_type": "markdown",
      "metadata": {
        "tags": [
          "pdf-inline"
        ],
        "id": "CwUgx83lgAUO",
        "colab_type": "text"
      },
      "source": [
        "## Inline Question 2: \n",
        "Did you notice anything about the comparative difficulty of training the three-layer net vs training the five layer net? In particular, based on your experience, which network seemed more sensitive to the initialization scale? Why do you think that is the case?\n",
        "\n",
        "## Answer:\n",
        "[FILL THIS IN]\n",
        "five layer net"
      ]
    },
    {
      "cell_type": "markdown",
      "metadata": {
        "id": "ZN3kPMHmgAUO",
        "colab_type": "text"
      },
      "source": [
        "# Update rules\n",
        "So far we have used vanilla stochastic gradient descent (SGD) as our update rule. More sophisticated update rules can make it easier to train deep networks. We will implement a few of the most commonly used update rules and compare them to vanilla SGD."
      ]
    },
    {
      "cell_type": "markdown",
      "metadata": {
        "id": "TM6OoYkLgAUQ",
        "colab_type": "text"
      },
      "source": [
        "# SGD+Momentum\n",
        "Stochastic gradient descent with momentum is a widely used update rule that tends to make deep networks converge faster than vanilla stochastic gradient descent. See the Momentum Update section at http://cs231n.github.io/neural-networks-3/#sgd for more information.\n",
        "\n",
        "Open the file `cs231n/optim.py` and read the documentation at the top of the file to make sure you understand the API. Implement the SGD+momentum update rule in the function `sgd_momentum` and run the following to check your implementation. You should see errors less than e-8."
      ]
    },
    {
      "cell_type": "code",
      "metadata": {
        "id": "aUziiwkIgAUR",
        "colab_type": "code",
        "outputId": "f42ad25a-b940-4d0d-ed4f-38a8f97aac80",
        "colab": {
          "base_uri": "https://localhost:8080/",
          "height": 52
        }
      },
      "source": [
        "from cs231n.optim import sgd_momentum\n",
        "\n",
        "N, D = 4, 5\n",
        "w = np.linspace(-0.4, 0.6, num=N*D).reshape(N, D)\n",
        "dw = np.linspace(-0.6, 0.4, num=N*D).reshape(N, D)\n",
        "v = np.linspace(0.6, 0.9, num=N*D).reshape(N, D)\n",
        "\n",
        "config = {'learning_rate': 1e-3, 'velocity': v}\n",
        "next_w, _ = sgd_momentum(w, dw, config=config)\n",
        "\n",
        "expected_next_w = np.asarray([\n",
        "  [ 0.1406,      0.20738947,  0.27417895,  0.34096842,  0.40775789],\n",
        "  [ 0.47454737,  0.54133684,  0.60812632,  0.67491579,  0.74170526],\n",
        "  [ 0.80849474,  0.87528421,  0.94207368,  1.00886316,  1.07565263],\n",
        "  [ 1.14244211,  1.20923158,  1.27602105,  1.34281053,  1.4096    ]])\n",
        "expected_velocity = np.asarray([\n",
        "  [ 0.5406,      0.55475789,  0.56891579, 0.58307368,  0.59723158],\n",
        "  [ 0.61138947,  0.62554737,  0.63970526,  0.65386316,  0.66802105],\n",
        "  [ 0.68217895,  0.69633684,  0.71049474,  0.72465263,  0.73881053],\n",
        "  [ 0.75296842,  0.76712632,  0.78128421,  0.79544211,  0.8096    ]])\n",
        "\n",
        "# Should see relative errors around e-8 or less\n",
        "print('next_w error: ', rel_error(next_w, expected_next_w))\n",
        "print('velocity error: ', rel_error(expected_velocity, config['velocity']))"
      ],
      "execution_count": 27,
      "outputs": [
        {
          "output_type": "stream",
          "text": [
            "next_w error:  8.882347033505819e-09\n",
            "velocity error:  4.269287743278663e-09\n"
          ],
          "name": "stdout"
        }
      ]
    },
    {
      "cell_type": "markdown",
      "metadata": {
        "id": "OUAwEGfXgAUZ",
        "colab_type": "text"
      },
      "source": [
        "Once you have done so, run the following to train a six-layer network with both SGD and SGD+momentum. You should see the SGD+momentum update rule converge faster."
      ]
    },
    {
      "cell_type": "code",
      "metadata": {
        "scrolled": false,
        "id": "H1jjKFpNgAUb",
        "colab_type": "code",
        "outputId": "3b75aa5d-448f-4e04-e5d8-b76d543c0f54",
        "colab": {
          "base_uri": "https://localhost:8080/",
          "height": 1000
        }
      },
      "source": [
        "num_train = 4000\n",
        "small_data = {\n",
        "  'X_train': data['X_train'][:num_train],\n",
        "  'y_train': data['y_train'][:num_train],\n",
        "  'X_val': data['X_val'],\n",
        "  'y_val': data['y_val'],\n",
        "}\n",
        "\n",
        "solvers = {}\n",
        "\n",
        "for update_rule in ['sgd', 'sgd_momentum']:\n",
        "  print('running with ', update_rule)\n",
        "  model = FullyConnectedNet([100, 100, 100, 100, 100], weight_scale=5e-2)\n",
        "\n",
        "  solver = Solver(model, small_data,\n",
        "                  num_epochs=5, batch_size=100,\n",
        "                  update_rule=update_rule,\n",
        "                  optim_config={\n",
        "                    'learning_rate': 5e-3,\n",
        "                  },\n",
        "                  verbose=True)\n",
        "  solvers[update_rule] = solver\n",
        "  solver.train()\n",
        "  print()\n",
        "\n",
        "plt.subplot(3, 1, 1)\n",
        "plt.title('Training loss')\n",
        "plt.xlabel('Iteration')\n",
        "\n",
        "plt.subplot(3, 1, 2)\n",
        "plt.title('Training accuracy')\n",
        "plt.xlabel('Epoch')\n",
        "\n",
        "plt.subplot(3, 1, 3)\n",
        "plt.title('Validation accuracy')\n",
        "plt.xlabel('Epoch')\n",
        "\n",
        "for update_rule, solver in solvers.items():\n",
        "  plt.subplot(3, 1, 1)\n",
        "  plt.plot(solver.loss_history, 'o', label=\"loss_%s\" % update_rule)\n",
        "  \n",
        "  plt.subplot(3, 1, 2)\n",
        "  plt.plot(solver.train_acc_history, '-o', label=\"train_acc_%s\" % update_rule)\n",
        "\n",
        "  plt.subplot(3, 1, 3)\n",
        "  plt.plot(solver.val_acc_history, '-o', label=\"val_acc_%s\" % update_rule)\n",
        "  \n",
        "for i in [1, 2, 3]:\n",
        "  plt.subplot(3, 1, i)\n",
        "  plt.legend(loc='upper center', ncol=4)\n",
        "plt.gcf().set_size_inches(15, 15)\n",
        "plt.show()"
      ],
      "execution_count": 32,
      "outputs": [
        {
          "output_type": "stream",
          "text": [
            "running with  sgd\n",
            "(Iteration 1 / 200) loss: 2.692029\n",
            "(Epoch 0 / 5) train acc: 0.102000; val_acc: 0.102000\n",
            "(Iteration 11 / 200) loss: 2.315939\n",
            "(Iteration 21 / 200) loss: 2.254140\n",
            "(Iteration 31 / 200) loss: 2.083993\n",
            "(Epoch 1 / 5) train acc: 0.262000; val_acc: 0.214000\n",
            "(Iteration 41 / 200) loss: 1.980059\n",
            "(Iteration 51 / 200) loss: 2.144685\n",
            "(Iteration 61 / 200) loss: 1.914090\n",
            "(Iteration 71 / 200) loss: 1.935435\n",
            "(Epoch 2 / 5) train acc: 0.311000; val_acc: 0.246000\n",
            "(Iteration 81 / 200) loss: 1.889896\n",
            "(Iteration 91 / 200) loss: 1.862478\n",
            "(Iteration 101 / 200) loss: 1.995789\n",
            "(Iteration 111 / 200) loss: 2.023221\n",
            "(Epoch 3 / 5) train acc: 0.342000; val_acc: 0.277000\n",
            "(Iteration 121 / 200) loss: 1.968731\n",
            "(Iteration 131 / 200) loss: 1.874129\n",
            "(Iteration 141 / 200) loss: 1.859556\n",
            "(Iteration 151 / 200) loss: 1.886254\n",
            "(Epoch 4 / 5) train acc: 0.368000; val_acc: 0.290000\n",
            "(Iteration 161 / 200) loss: 1.794947\n",
            "(Iteration 171 / 200) loss: 1.809365\n",
            "(Iteration 181 / 200) loss: 1.767041\n",
            "(Iteration 191 / 200) loss: 1.868932\n",
            "(Epoch 5 / 5) train acc: 0.343000; val_acc: 0.306000\n",
            "\n",
            "running with  sgd_momentum\n",
            "(Iteration 1 / 200) loss: 2.946873\n",
            "(Epoch 0 / 5) train acc: 0.101000; val_acc: 0.096000\n",
            "(Iteration 11 / 200) loss: 2.161728\n",
            "(Iteration 21 / 200) loss: 2.058279\n",
            "(Iteration 31 / 200) loss: 2.067304\n",
            "(Epoch 1 / 5) train acc: 0.328000; val_acc: 0.279000\n",
            "(Iteration 41 / 200) loss: 1.858203\n",
            "(Iteration 51 / 200) loss: 1.612324\n",
            "(Iteration 61 / 200) loss: 1.696664\n",
            "(Iteration 71 / 200) loss: 1.779684\n",
            "(Epoch 2 / 5) train acc: 0.397000; val_acc: 0.294000\n",
            "(Iteration 81 / 200) loss: 1.648807\n",
            "(Iteration 91 / 200) loss: 1.598678\n",
            "(Iteration 101 / 200) loss: 1.517578\n",
            "(Iteration 111 / 200) loss: 1.444349\n",
            "(Epoch 3 / 5) train acc: 0.421000; val_acc: 0.326000\n",
            "(Iteration 121 / 200) loss: 1.502086\n",
            "(Iteration 131 / 200) loss: 1.507272\n",
            "(Iteration 141 / 200) loss: 1.374261\n",
            "(Iteration 151 / 200) loss: 1.465809\n",
            "(Epoch 4 / 5) train acc: 0.495000; val_acc: 0.343000\n",
            "(Iteration 161 / 200) loss: 1.589356\n",
            "(Iteration 171 / 200) loss: 1.474373\n",
            "(Iteration 181 / 200) loss: 1.689648\n",
            "(Iteration 191 / 200) loss: 1.452268\n",
            "(Epoch 5 / 5) train acc: 0.526000; val_acc: 0.351000\n",
            "\n"
          ],
          "name": "stdout"
        },
        {
          "output_type": "stream",
          "text": [
            "/usr/local/lib/python3.6/dist-packages/matplotlib/figure.py:98: MatplotlibDeprecationWarning: \n",
            "Adding an axes using the same arguments as a previous axes currently reuses the earlier instance.  In a future version, a new instance will always be created and returned.  Meanwhile, this warning can be suppressed, and the future behavior ensured, by passing a unique label to each axes instance.\n",
            "  \"Adding an axes using the same arguments as a previous axes \"\n"
          ],
          "name": "stderr"
        },
        {
          "output_type": "display_data",
          "data": {
            "image/png": "[encoded data removed]",
            "text/plain": [
              "<Figure size 1080x1080 with 3 Axes>"
            ]
          },
          "metadata": {
            "tags": []
          }
        }
      ]
    },
    {
      "cell_type": "markdown",
      "metadata": {
        "id": "MCSqIBFtgAUh",
        "colab_type": "text"
      },
      "source": [
        "# RMSProp and Adam\n",
        "RMSProp [1] and Adam [2] are update rules that set per-parameter learning rates by using a running average of the second moments of gradients.\n",
        "\n",
        "In the file `cs231n/optim.py`, implement the RMSProp update rule in the `rmsprop` function and implement the Adam update rule in the `adam` function, and check your implementations using the tests below.\n",
        "\n",
        "**NOTE:** Please implement the _complete_ Adam update rule (with the bias correction mechanism), not the first simplified version mentioned in the course notes. \n",
        "\n",
        "[1] Tijmen Tieleman and Geoffrey Hinton. \"Lecture 6.5-rmsprop: Divide the gradient by a running average of its recent magnitude.\" COURSERA: Neural Networks for Machine Learning 4 (2012).\n",
        "\n",
        "[2] Diederik Kingma and Jimmy Ba, \"Adam: A Method for Stochastic Optimization\", ICLR 2015."
      ]
    },
    {
      "cell_type": "code",
      "metadata": {
        "id": "j_Uh-yFigAUi",
        "colab_type": "code",
        "outputId": "6195ca26-6fa5-42e2-8b6c-196aae827080",
        "colab": {
          "base_uri": "https://localhost:8080/",
          "height": 52
        }
      },
      "source": [
        "# Test RMSProp implementation\n",
        "from cs231n.optim import rmsprop\n",
        "\n",
        "N, D = 4, 5\n",
        "w = np.linspace(-0.4, 0.6, num=N*D).reshape(N, D)\n",
        "dw = np.linspace(-0.6, 0.4, num=N*D).reshape(N, D)\n",
        "cache = np.linspace(0.6, 0.9, num=N*D).reshape(N, D)\n",
        "\n",
        "config = {'learning_rate': 1e-2, 'cache': cache}\n",
        "next_w, _ = rmsprop(w, dw, config=config)\n",
        "\n",
        "expected_next_w = np.asarray([\n",
        "  [-0.39223849, -0.34037513, -0.28849239, -0.23659121, -0.18467247],\n",
        "  [-0.132737,   -0.08078555, -0.02881884,  0.02316247,  0.07515774],\n",
        "  [ 0.12716641,  0.17918792,  0.23122175,  0.28326742,  0.33532447],\n",
        "  [ 0.38739248,  0.43947102,  0.49155973,  0.54365823,  0.59576619]])\n",
        "expected_cache = np.asarray([\n",
        "  [ 0.5976,      0.6126277,   0.6277108,   0.64284931,  0.65804321],\n",
        "  [ 0.67329252,  0.68859723,  0.70395734,  0.71937285,  0.73484377],\n",
        "  [ 0.75037008,  0.7659518,   0.78158892,  0.79728144,  0.81302936],\n",
        "  [ 0.82883269,  0.84469141,  0.86060554,  0.87657507,  0.8926    ]])\n",
        "\n",
        "# You should see relative errors around e-7 or less\n",
        "print('next_w error: ', rel_error(expected_next_w, next_w))\n",
        "print('cache error: ', rel_error(expected_cache, config['cache']))"
      ],
      "execution_count": 28,
      "outputs": [
        {
          "output_type": "stream",
          "text": [
            "next_w error:  9.502645229894295e-08\n",
            "cache error:  2.6477955807156126e-09\n"
          ],
          "name": "stdout"
        }
      ]
    },
    {
      "cell_type": "code",
      "metadata": {
        "id": "_FK4sH9-gAUl",
        "colab_type": "code",
        "outputId": "de102e28-0a8c-40ba-e99c-998a8b945177",
        "colab": {
          "base_uri": "https://localhost:8080/",
          "height": 69
        }
      },
      "source": [
        "# Test Adam implementation\n",
        "from cs231n.optim import adam\n",
        "\n",
        "N, D = 4, 5\n",
        "w = np.linspace(-0.4, 0.6, num=N*D).reshape(N, D)\n",
        "dw = np.linspace(-0.6, 0.4, num=N*D).reshape(N, D)\n",
        "m = np.linspace(0.6, 0.9, num=N*D).reshape(N, D)\n",
        "v = np.linspace(0.7, 0.5, num=N*D).reshape(N, D)\n",
        "\n",
        "config = {'learning_rate': 1e-2, 'm': m, 'v': v, 't': 5}\n",
        "next_w, _ = adam(w, dw, config=config)\n",
        "\n",
        "expected_next_w = np.asarray([\n",
        "  [-0.40094747, -0.34836187, -0.29577703, -0.24319299, -0.19060977],\n",
        "  [-0.1380274,  -0.08544591, -0.03286534,  0.01971428,  0.0722929],\n",
        "  [ 0.1248705,   0.17744702,  0.23002243,  0.28259667,  0.33516969],\n",
        "  [ 0.38774145,  0.44031188,  0.49288093,  0.54544852,  0.59801459]])\n",
        "expected_v = np.asarray([\n",
        "  [ 0.69966,     0.68908382,  0.67851319,  0.66794809,  0.65738853,],\n",
        "  [ 0.64683452,  0.63628604,  0.6257431,   0.61520571,  0.60467385,],\n",
        "  [ 0.59414753,  0.58362676,  0.57311152,  0.56260183,  0.55209767,],\n",
        "  [ 0.54159906,  0.53110598,  0.52061845,  0.51013645,  0.49966,   ]])\n",
        "expected_m = np.asarray([\n",
        "  [ 0.48,        0.49947368,  0.51894737,  0.53842105,  0.55789474],\n",
        "  [ 0.57736842,  0.59684211,  0.61631579,  0.63578947,  0.65526316],\n",
        "  [ 0.67473684,  0.69421053,  0.71368421,  0.73315789,  0.75263158],\n",
        "  [ 0.77210526,  0.79157895,  0.81105263,  0.83052632,  0.85      ]])\n",
        "\n",
        "# You should see relative errors around e-7 or less\n",
        "print('next_w error: ', rel_error(expected_next_w, next_w))\n",
        "print('v error: ', rel_error(expected_v, config['v']))\n",
        "print('m error: ', rel_error(expected_m, config['m']))"
      ],
      "execution_count": 30,
      "outputs": [
        {
          "output_type": "stream",
          "text": [
            "next_w error:  1.139887467333134e-07\n",
            "v error:  4.208314038113071e-09\n",
            "m error:  4.214963193114416e-09\n"
          ],
          "name": "stdout"
        }
      ]
    },
    {
      "cell_type": "markdown",
      "metadata": {
        "id": "C0zIoXXUgAUn",
        "colab_type": "text"
      },
      "source": [
        "Once you have debugged your RMSProp and Adam implementations, run the following to train a pair of deep networks using these new update rules:"
      ]
    },
    {
      "cell_type": "code",
      "metadata": {
        "id": "16cEImCfgAUp",
        "colab_type": "code",
        "outputId": "c36e2954-82a1-495b-9a3b-da011b7f3424",
        "colab": {
          "base_uri": "https://localhost:8080/",
          "height": 1000
        }
      },
      "source": [
        "learning_rates = {'rmsprop': 1e-4, 'adam': 1e-3}\n",
        "for update_rule in ['adam', 'rmsprop']:\n",
        "  print('running with ', update_rule)\n",
        "  model = FullyConnectedNet([100, 100, 100, 100, 100], weight_scale=5e-2)\n",
        "\n",
        "  solver = Solver(model, small_data,\n",
        "                  num_epochs=5, batch_size=100,\n",
        "                  update_rule=update_rule,\n",
        "                  optim_config={\n",
        "                    'learning_rate': learning_rates[update_rule]\n",
        "                  },\n",
        "                  verbose=True)\n",
        "  solvers[update_rule] = solver\n",
        "  solver.train()\n",
        "  print()\n",
        "\n",
        "plt.subplot(3, 1, 1)\n",
        "plt.title('Training loss')\n",
        "plt.xlabel('Iteration')\n",
        "\n",
        "plt.subplot(3, 1, 2)\n",
        "plt.title('Training accuracy')\n",
        "plt.xlabel('Epoch')\n",
        "\n",
        "plt.subplot(3, 1, 3)\n",
        "plt.title('Validation accuracy')\n",
        "plt.xlabel('Epoch')\n",
        "\n",
        "for update_rule, solver in list(solvers.items()):\n",
        "  plt.subplot(3, 1, 1)\n",
        "  plt.plot(solver.loss_history, 'o', label=update_rule)\n",
        "  \n",
        "  plt.subplot(3, 1, 2)\n",
        "  plt.plot(solver.train_acc_history, '-o', label=update_rule)\n",
        "\n",
        "  plt.subplot(3, 1, 3)\n",
        "  plt.plot(solver.val_acc_history, '-o', label=update_rule)\n",
        "  \n",
        "for i in [1, 2, 3]:\n",
        "  plt.subplot(3, 1, i)\n",
        "  plt.legend(loc='upper center', ncol=4)\n",
        "plt.gcf().set_size_inches(15, 15)\n",
        "plt.show()"
      ],
      "execution_count": 33,
      "outputs": [
        {
          "output_type": "stream",
          "text": [
            "running with  adam\n",
            "(Iteration 1 / 200) loss: 2.457356\n",
            "(Epoch 0 / 5) train acc: 0.113000; val_acc: 0.111000\n",
            "(Iteration 11 / 200) loss: 1.993593\n",
            "(Iteration 21 / 200) loss: 2.077575\n",
            "(Iteration 31 / 200) loss: 1.897089\n",
            "(Epoch 1 / 5) train acc: 0.383000; val_acc: 0.322000\n",
            "(Iteration 41 / 200) loss: 1.572156\n",
            "(Iteration 51 / 200) loss: 1.754021\n",
            "(Iteration 61 / 200) loss: 1.560891\n",
            "(Iteration 71 / 200) loss: 1.655432\n",
            "(Epoch 2 / 5) train acc: 0.447000; val_acc: 0.376000\n",
            "(Iteration 81 / 200) loss: 1.678231\n",
            "(Iteration 91 / 200) loss: 1.518990\n",
            "(Iteration 101 / 200) loss: 1.437378\n",
            "(Iteration 111 / 200) loss: 1.397773\n",
            "(Epoch 3 / 5) train acc: 0.448000; val_acc: 0.375000\n",
            "(Iteration 121 / 200) loss: 1.570991\n",
            "(Iteration 131 / 200) loss: 1.472129\n",
            "(Iteration 141 / 200) loss: 1.283863\n",
            "(Iteration 151 / 200) loss: 1.293517\n",
            "(Epoch 4 / 5) train acc: 0.573000; val_acc: 0.349000\n",
            "(Iteration 161 / 200) loss: 1.276406\n",
            "(Iteration 171 / 200) loss: 1.302456\n",
            "(Iteration 181 / 200) loss: 1.074532\n",
            "(Iteration 191 / 200) loss: 1.266896\n",
            "(Epoch 5 / 5) train acc: 0.587000; val_acc: 0.376000\n",
            "\n",
            "running with  rmsprop\n",
            "(Iteration 1 / 200) loss: 2.487327\n",
            "(Epoch 0 / 5) train acc: 0.127000; val_acc: 0.133000\n",
            "(Iteration 11 / 200) loss: 2.153577\n",
            "(Iteration 21 / 200) loss: 1.957675\n",
            "(Iteration 31 / 200) loss: 1.800265\n",
            "(Epoch 1 / 5) train acc: 0.361000; val_acc: 0.311000\n",
            "(Iteration 41 / 200) loss: 1.780617\n",
            "(Iteration 51 / 200) loss: 1.785980\n",
            "(Iteration 61 / 200) loss: 1.784120\n",
            "(Iteration 71 / 200) loss: 1.642131\n",
            "(Epoch 2 / 5) train acc: 0.436000; val_acc: 0.337000\n",
            "(Iteration 81 / 200) loss: 1.584964\n",
            "(Iteration 91 / 200) loss: 1.487849\n",
            "(Iteration 101 / 200) loss: 1.579445\n",
            "(Iteration 111 / 200) loss: 1.500442\n",
            "(Epoch 3 / 5) train acc: 0.476000; val_acc: 0.327000\n",
            "(Iteration 121 / 200) loss: 1.434807\n",
            "(Iteration 131 / 200) loss: 1.439129\n",
            "(Iteration 141 / 200) loss: 1.485520\n",
            "(Iteration 151 / 200) loss: 1.362764\n",
            "(Epoch 4 / 5) train acc: 0.529000; val_acc: 0.359000\n",
            "(Iteration 161 / 200) loss: 1.392876\n",
            "(Iteration 171 / 200) loss: 1.311841\n",
            "(Iteration 181 / 200) loss: 1.555663\n",
            "(Iteration 191 / 200) loss: 1.434099\n",
            "(Epoch 5 / 5) train acc: 0.542000; val_acc: 0.361000\n",
            "\n"
          ],
          "name": "stdout"
        },
        {
          "output_type": "stream",
          "text": [
            "/usr/local/lib/python3.6/dist-packages/matplotlib/figure.py:98: MatplotlibDeprecationWarning: \n",
            "Adding an axes using the same arguments as a previous axes currently reuses the earlier instance.  In a future version, a new instance will always be created and returned.  Meanwhile, this warning can be suppressed, and the future behavior ensured, by passing a unique label to each axes instance.\n",
            "  \"Adding an axes using the same arguments as a previous axes \"\n"
          ],
          "name": "stderr"
        },
        {
          "output_type": "display_data",
          "data": {
            "image/png": "[encoded data removed]",
            "text/plain": [
              "<Figure size 1080x1080 with 3 Axes>"
            ]
          },
          "metadata": {
            "tags": []
          }
        }
      ]
    },
    {
      "cell_type": "markdown",
      "metadata": {
        "tags": [
          "pdf-inline"
        ],
        "id": "zzfn_6aGgAUs",
        "colab_type": "text"
      },
      "source": [
        "## Inline Question 3:\n",
        "\n",
        "AdaGrad, like Adam, is a per-parameter optimization method that uses the following update rule:\n",
        "\n",
        "```\n",
        "cache += dw**2\n",
        "w += - learning_rate * dw / (np.sqrt(cache) + eps)\n",
        "```\n",
        "\n",
        "John notices that when he was training a network with AdaGrad that the updates became very small, and that his network was learning slowly. Using your knowledge of the AdaGrad update rule, why do you think the updates would become very small? Would Adam have the same issue?\n",
        "\n",
        "\n",
        "## Answer: \n",
        "[FILL THIS IN]\n"
      ]
    },
    {
      "cell_type": "markdown",
      "metadata": {
        "id": "4kzwvrY0gAUt",
        "colab_type": "text"
      },
      "source": [
        "# Train a good model!\n",
        "Train the best fully-connected model that you can on CIFAR-10, storing your best model in the `best_model` variable. We require you to get at least 50% accuracy on the validation set using a fully-connected net.\n",
        "\n",
        "If you are careful it should be possible to get accuracies above 55%, but we don't require it for this part and won't assign extra credit for doing so. Later in the assignment we will ask you to train the best convolutional network that you can on CIFAR-10, and we would prefer that you spend your effort working on convolutional nets rather than fully-connected nets.\n",
        "\n",
        "You might find it useful to complete the `BatchNormalization.ipynb` and `Dropout.ipynb` notebooks before completing this part, since those techniques can help you train powerful models."
      ]
    },
    {
      "cell_type": "code",
      "metadata": {
        "id": "0loOFNQBbzme",
        "colab_type": "code",
        "colab": {
          "base_uri": "https://localhost:8080/",
          "height": 35
        },
        "outputId": "dd9db23e-a8d1-449d-d48d-54feb2021d1c"
      },
      "source": [
        "len(data)"
      ],
      "execution_count": 35,
      "outputs": [
        {
          "output_type": "execute_result",
          "data": {
            "text/plain": [
              "6"
            ]
          },
          "metadata": {
            "tags": []
          },
          "execution_count": 35
        }
      ]
    },
    {
      "cell_type": "code",
      "metadata": {
        "scrolled": false,
        "id": "UIQ54TuxgAUu",
        "colab_type": "code",
        "colab": {
          "base_uri": "https://localhost:8080/",
          "height": 1000
        },
        "outputId": "040ef765-5227-42fb-d0a3-588ede611398"
      },
      "source": [
        "best_model = None\n",
        "################################################################################\n",
        "# TODO: Train the best FullyConnectedNet that you can on CIFAR-10. You might   #\n",
        "# find batch/layer normalization and dropout useful. Store your best model in  #\n",
        "# the best_model variable.                                                     #\n",
        "################################################################################\n",
        "# *****START OF YOUR CODE (DO NOT DELETE/MODIFY THIS LINE)*****\n",
        "\n",
        "learning_rate = 3e-4\n",
        "weight_scale = 3e-2\n",
        "model = FullyConnectedNet([300, 300, 200, 200, 200], weight_scale=weight_scale, dtype=np.float64, \n",
        "                           dropout=0.25, reg=1e-2, normalization='batchnorm')\n",
        "solver = Solver(model, data,\n",
        "                print_every=500, num_epochs=30, batch_size=64,\n",
        "                update_rule='adam',\n",
        "                optim_config={\n",
        "                    'learning_rate' : learning_rate,\n",
        "                },\n",
        "                lr_decay=0.9)\n",
        "solver.train()\n",
        "scores = model.loss(data['X_test'])\n",
        "y_pred = np.argmax(scores, axis=1)\n",
        "acc = np.mean(y_pred == data['y_test'])\n",
        "print('Test acc :%f'%(acc))\n",
        "\n",
        "pass\n",
        "\n",
        "# *****END OF YOUR CODE (DO NOT DELETE/MODIFY THIS LINE)*****\n",
        "################################################################################\n",
        "#                              END OF YOUR CODE                                #\n",
        "################################################################################"
      ],
      "execution_count": 50,
      "outputs": [
        {
          "output_type": "stream",
          "text": [
            "(Iteration 1 / 22950) loss: 7.736788\n",
            "(Epoch 0 / 30) train acc: 0.093000; val_acc: 0.084000\n",
            "(Iteration 501 / 22950) loss: 3.769627\n",
            "(Epoch 1 / 30) train acc: 0.124000; val_acc: 0.098000\n",
            "(Iteration 1001 / 22950) loss: 2.774715\n",
            "(Iteration 1501 / 22950) loss: 2.703821\n",
            "(Epoch 2 / 30) train acc: 0.111000; val_acc: 0.114000\n",
            "(Iteration 2001 / 22950) loss: 2.398187\n",
            "(Epoch 3 / 30) train acc: 0.142000; val_acc: 0.148000\n",
            "(Iteration 2501 / 22950) loss: 2.426119\n",
            "(Iteration 3001 / 22950) loss: 2.314101\n",
            "(Epoch 4 / 30) train acc: 0.186000; val_acc: 0.188000\n",
            "(Iteration 3501 / 22950) loss: 2.340586\n",
            "(Epoch 5 / 30) train acc: 0.206000; val_acc: 0.203000\n",
            "(Iteration 4001 / 22950) loss: 2.319074\n",
            "(Iteration 4501 / 22950) loss: 2.313837\n",
            "(Epoch 6 / 30) train acc: 0.222000; val_acc: 0.216000\n",
            "(Iteration 5001 / 22950) loss: 2.065604\n",
            "(Epoch 7 / 30) train acc: 0.230000; val_acc: 0.227000\n",
            "(Iteration 5501 / 22950) loss: 2.254033\n",
            "(Iteration 6001 / 22950) loss: 1.958544\n",
            "(Epoch 8 / 30) train acc: 0.232000; val_acc: 0.225000\n",
            "(Iteration 6501 / 22950) loss: 2.356077\n",
            "(Epoch 9 / 30) train acc: 0.223000; val_acc: 0.256000\n",
            "(Iteration 7001 / 22950) loss: 2.238000\n",
            "(Iteration 7501 / 22950) loss: 2.097250\n",
            "(Epoch 10 / 30) train acc: 0.272000; val_acc: 0.248000\n",
            "(Iteration 8001 / 22950) loss: 2.253805\n",
            "(Epoch 11 / 30) train acc: 0.235000; val_acc: 0.259000\n",
            "(Iteration 8501 / 22950) loss: 2.077448\n",
            "(Iteration 9001 / 22950) loss: 1.993476\n",
            "(Epoch 12 / 30) train acc: 0.254000; val_acc: 0.266000\n",
            "(Iteration 9501 / 22950) loss: 1.915511\n",
            "(Epoch 13 / 30) train acc: 0.281000; val_acc: 0.272000\n",
            "(Iteration 10001 / 22950) loss: 1.948511\n",
            "(Iteration 10501 / 22950) loss: 2.018615\n",
            "(Epoch 14 / 30) train acc: 0.232000; val_acc: 0.280000\n",
            "(Iteration 11001 / 22950) loss: 1.945058\n",
            "(Epoch 15 / 30) train acc: 0.254000; val_acc: 0.269000\n",
            "(Iteration 11501 / 22950) loss: 1.905274\n",
            "(Iteration 12001 / 22950) loss: 1.911285\n",
            "(Epoch 16 / 30) train acc: 0.287000; val_acc: 0.291000\n",
            "(Iteration 12501 / 22950) loss: 1.861700\n",
            "(Iteration 13001 / 22950) loss: 1.849421\n",
            "(Epoch 17 / 30) train acc: 0.300000; val_acc: 0.303000\n",
            "(Iteration 13501 / 22950) loss: 2.080267\n",
            "(Epoch 18 / 30) train acc: 0.285000; val_acc: 0.292000\n",
            "(Iteration 14001 / 22950) loss: 2.260821\n",
            "(Iteration 14501 / 22950) loss: 1.906962\n",
            "(Epoch 19 / 30) train acc: 0.324000; val_acc: 0.294000\n",
            "(Iteration 15001 / 22950) loss: 1.960107\n",
            "(Epoch 20 / 30) train acc: 0.282000; val_acc: 0.307000\n",
            "(Iteration 15501 / 22950) loss: 2.014445\n",
            "(Iteration 16001 / 22950) loss: 1.972228\n",
            "(Epoch 21 / 30) train acc: 0.310000; val_acc: 0.303000\n",
            "(Iteration 16501 / 22950) loss: 1.980586\n",
            "(Epoch 22 / 30) train acc: 0.292000; val_acc: 0.312000\n",
            "(Iteration 17001 / 22950) loss: 1.814163\n",
            "(Iteration 17501 / 22950) loss: 1.902306\n",
            "(Epoch 23 / 30) train acc: 0.308000; val_acc: 0.318000\n",
            "(Iteration 18001 / 22950) loss: 2.121171\n",
            "(Epoch 24 / 30) train acc: 0.316000; val_acc: 0.311000\n",
            "(Iteration 18501 / 22950) loss: 1.945627\n",
            "(Iteration 19001 / 22950) loss: 1.835662\n",
            "(Epoch 25 / 30) train acc: 0.322000; val_acc: 0.317000\n",
            "(Iteration 19501 / 22950) loss: 1.892429\n",
            "(Epoch 26 / 30) train acc: 0.307000; val_acc: 0.319000\n",
            "(Iteration 20001 / 22950) loss: 1.915814\n",
            "(Iteration 20501 / 22950) loss: 1.903264\n",
            "(Epoch 27 / 30) train acc: 0.328000; val_acc: 0.322000\n",
            "(Iteration 21001 / 22950) loss: 1.950150\n",
            "(Epoch 28 / 30) train acc: 0.315000; val_acc: 0.323000\n",
            "(Iteration 21501 / 22950) loss: 1.910790\n",
            "(Iteration 22001 / 22950) loss: 1.881596\n",
            "(Epoch 29 / 30) train acc: 0.342000; val_acc: 0.329000\n",
            "(Iteration 22501 / 22950) loss: 2.048961\n",
            "(Epoch 30 / 30) train acc: 0.316000; val_acc: 0.330000\n",
            "Test acc :0.311000\n"
          ],
          "name": "stdout"
        }
      ]
    },
    {
      "cell_type": "code",
      "metadata": {
        "id": "ai0kuMCMvji8",
        "colab_type": "code",
        "colab": {
          "base_uri": "https://localhost:8080/",
          "height": 514
        },
        "outputId": "a63f00a6-77b8-4b90-e261-730359f2cbbe"
      },
      "source": [
        "best_model = model\n",
        "\n",
        "plt.subplot(2, 1, 1)\n",
        "plt.plot(solver.loss_history)\n",
        "plt.title('Loss history')\n",
        "plt.xlabel('Iteration')\n",
        "plt.ylabel('Loss')\n",
        "\n",
        "plt.subplot(2, 1, 2)\n",
        "plt.plot(solver.train_acc_history, label='train')\n",
        "plt.plot(solver.val_acc_history, label='val')\n",
        "plt.title('Classification accuracy history')\n",
        "plt.xlabel('Epoch')\n",
        "plt.ylabel('Clasification accuracy')\n",
        "plt.show() "
      ],
      "execution_count": 46,
      "outputs": [
        {
          "output_type": "display_data",
          "data": {
            "image/png": "[encoded data removed]",
            "text/plain": [
              "<Figure size 720x576 with 2 Axes>"
            ]
          },
          "metadata": {
            "tags": []
          }
        }
      ]
    },
    {
      "cell_type": "markdown",
      "metadata": {
        "id": "VTm7vkBLgAUx",
        "colab_type": "text"
      },
      "source": [
        "# Test your model!\n",
        "Run your best model on the validation and test sets. You should achieve above 50% accuracy on the validation set."
      ]
    },
    {
      "cell_type": "code",
      "metadata": {
        "id": "Z-0EevABgAUy",
        "colab_type": "code",
        "colab": {
          "base_uri": "https://localhost:8080/",
          "height": 52
        },
        "outputId": "931a40ea-0b76-496c-b718-c5cc4a21b111"
      },
      "source": [
        "y_test_pred = np.argmax(best_model.loss(data['X_test']), axis=1)\n",
        "y_val_pred = np.argmax(best_model.loss(data['X_val']), axis=1)\n",
        "print('Validation set accuracy: ', (y_val_pred == data['y_val']).mean())\n",
        "print('Test set accuracy: ', (y_test_pred == data['y_test']).mean())"
      ],
      "execution_count": 47,
      "outputs": [
        {
          "output_type": "stream",
          "text": [
            "Validation set accuracy:  0.498\n",
            "Test set accuracy:  0.481\n"
          ],
          "name": "stdout"
        }
      ]
    }
  ]
}
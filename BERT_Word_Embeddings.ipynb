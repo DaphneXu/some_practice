{
  "nbformat": 4,
  "nbformat_minor": 0,
  "metadata": {
    "colab": {
      "name": "BERT Word Embeddings.ipynb",
      "version": "0.3.2",
      "provenance": [],
      "collapsed_sections": [],
      "toc_visible": true,
      "include_colab_link": true
    },
    "kernelspec": {
      "name": "python3",
      "display_name": "Python 3"
    },
    "accelerator": "GPU"
  },
  "cells": [
    {
      "cell_type": "markdown",
      "metadata": {
        "id": "view-in-github",
        "colab_type": "text"
      },
      "source": [
        "<a href=\"https://colab.research.google.com/github/DaphneXu/some_practice/blob/master/BERT_Word_Embeddings.ipynb\" target=\"_parent\"><img src=\"https://colab.research.google.com/assets/colab-badge.svg\" alt=\"Open In Colab\"/></a>"
      ]
    },
    {
      "cell_type": "markdown",
      "metadata": {
        "id": "78HE8FLsKN9Q",
        "colab_type": "text"
      },
      "source": [
        "In this post, I take an in-depth look at word embeddings produced by Google's BERT and show you how to get started with BERT by producing your own word embeddings.\n",
        "\n",
        "This post is presented in two forms--as a blog post [here](http://mccormickml.com/2019/05/14/BERT-word-embeddings-tutorial/) and as a Colab notebook [here](https://colab.research.google.com/drive/1ZQvuAVwA3IjybezQOXnrXMGAnMyZRuPU). \n",
        "The content is identical in both, but: \n",
        "\n",
        "* The blog post format may be easier to read, and includes a comments section for discussion. \n",
        "* The Colab Notebook will allow you to run the code and inspect it as you read through.\n"
      ]
    },
    {
      "cell_type": "markdown",
      "metadata": {
        "id": "dYapTjoYa0kO",
        "colab_type": "text"
      },
      "source": [
        "# Introduction\n",
        "\n"
      ]
    },
    {
      "cell_type": "markdown",
      "metadata": {
        "id": "c8HDKzBai5dL",
        "colab_type": "text"
      },
      "source": [
        "### History\n",
        "\n",
        "2018 was a breakthrough year in NLP. Transfer learning, particularly models like Allen AI's ELMO, OpenAI's Open-GPT, and Google's BERT allowed researchers to smash multiple benchmarks with minimal task-specific fine-tuning and provided the rest of the NLP community with pretrained models that could easily (with less data and less compute time) be fine-tuned and implemented to produce state of the art results. Unfortunately, for many starting out in NLP and even for some experienced practicioners, the theory and practical application of these powerful models is still not well understood.\n",
        "\n",
        "### What is BERT?\n",
        "\n",
        "BERT (Bidirectional Encoder Representations from Transformers), released in late 2018, is the model we will use in this tutorial to provide readers with a better understanding of and practical guidance for using transfer learning models in NLP. BERT is a method of pretraining language representations that was used to create models that NLP practicioners can then download and use for free. You can either use these models to extract high quality language features from your text data, or you can fine-tune these models on a specific task (classification, entity recognition, question answering, etc.) with your own data to produce state of the art predictions.\n",
        "\n",
        "### Why BERT embeddings?\n",
        "\n",
        "In this tutorial, we will use BERT to extract features, namely word and sentence embedding vectors, from text data. What can we do with these word and sentence embedding vectors? First, these embeddings are useful for keyword/search expansion, semantic search and information retrieval. For example, if you want to match customer questions or searches against already answered questions or well documented searches, these representations will help you accuratley retrieve results matching the customer's intent and contextual meaning, even if there's no keyword  or phrase overlap.\n",
        "\n",
        "Second, and perhaps more importantly, these vectors are used as high-quality feature inputs to downstream models. NLP models such as LSTMs or CNNs require inputs in the form of numerical vectors, and this typically means translating features like the vocabulary and parts of speech into numerical representations. In the past, words have been represented either as uniquely indexed values (one-hot encoding), or more helpfully as neural word embeddings where vocabulary words are matched against the fixed-length feature embeddings that result from models like Word2Vec or Fasttext. BERT offers an advantage over models like Word2Vec, because while each word has a fixed representation under Word2Vec regardless of the context within which the word appears, BERT produces word representations that are dynamically informed by the words around them. For example, given two sentences:\n",
        "\n",
        "\"The man was accused of robbing a bank.\"\n",
        "\"The man went fishing by the bank of the river.\"\n",
        "\n",
        "Word2Vec would produce the same word embedding for the word \"bank\" in both sentences, while under BERT the word embedding for \"bank\" would be different for each sentence. Aside from capturing obvious differences like polysemy, the context-informed word embeddings capture other forms of information that result in more accurate feature representations, which in turn results in better model performance.\n",
        "\n",
        "From an educational standpoint, a close examination of BERT word embeddings is a good way to get  your feet wet with BERT and its family of transfer learning models, and sets us up with some practical knowledge and context to better understand the inner details of the model in later tutorials.\n",
        "\n",
        "Onward!"
      ]
    },
    {
      "cell_type": "markdown",
      "metadata": {
        "id": "ah9KDju5i1tw",
        "colab_type": "text"
      },
      "source": [
        "### Install and Import"
      ]
    },
    {
      "cell_type": "markdown",
      "metadata": {
        "id": "eCdqJCtQN52l",
        "colab_type": "text"
      },
      "source": [
        "Install the pytorch interface for BERT by Hugging Face. (This library contains interfaces for other pretrained language models like OpenAI's GPT and GPT-2.) We've selected the pytorch interface because it strikes a nice balance between the high-level APIs (which are easy to use but don't provide insight into how things work) and tensorflow code (which contains lots of details but often sidetracks us into lessons about tensorflow, when the purpose here is BERT!).\n",
        "\n",
        "If you're running this code on Google Colab, you will have to install this library each time you reconnect; the following cell will take care of that for you."
      ]
    },
    {
      "cell_type": "code",
      "metadata": {
        "id": "1RfUN_KolV-f",
        "colab_type": "code",
        "outputId": "e6f493f2-8522-4b4f-b103-d71fff8eb6fd",
        "colab": {
          "base_uri": "https://localhost:8080/",
          "height": 504
        }
      },
      "source": [
        "!pip install pytorch-pretrained-bert"
      ],
      "execution_count": 1,
      "outputs": [
        {
          "output_type": "stream",
          "text": [
            "Collecting pytorch-pretrained-bert\n",
            "\u001b[?25l  Downloading https://files.pythonhosted.org/packages/d7/e0/c08d5553b89973d9a240605b9c12404bcf8227590de62bae27acbcfe076b/pytorch_pretrained_bert-0.6.2-py3-none-any.whl (123kB)\n",
            "\u001b[K     |████████████████████████████████| 133kB 2.7MB/s \n",
            "\u001b[?25hRequirement already satisfied: requests in /usr/local/lib/python3.6/dist-packages (from pytorch-pretrained-bert) (2.21.0)\n",
            "Requirement already satisfied: torch>=0.4.1 in /usr/local/lib/python3.6/dist-packages (from pytorch-pretrained-bert) (1.1.0)\n",
            "Collecting regex (from pytorch-pretrained-bert)\n",
            "\u001b[?25l  Downloading https://files.pythonhosted.org/packages/6f/4e/1b178c38c9a1a184288f72065a65ca01f3154df43c6ad898624149b8b4e0/regex-2019.06.08.tar.gz (651kB)\n",
            "\u001b[K     |████████████████████████████████| 655kB 41.0MB/s \n",
            "\u001b[?25hRequirement already satisfied: numpy in /usr/local/lib/python3.6/dist-packages (from pytorch-pretrained-bert) (1.16.4)\n",
            "Requirement already satisfied: tqdm in /usr/local/lib/python3.6/dist-packages (from pytorch-pretrained-bert) (4.28.1)\n",
            "Requirement already satisfied: boto3 in /usr/local/lib/python3.6/dist-packages (from pytorch-pretrained-bert) (1.9.175)\n",
            "Requirement already satisfied: idna<2.9,>=2.5 in /usr/local/lib/python3.6/dist-packages (from requests->pytorch-pretrained-bert) (2.8)\n",
            "Requirement already satisfied: certifi>=2017.4.17 in /usr/local/lib/python3.6/dist-packages (from requests->pytorch-pretrained-bert) (2019.6.16)\n",
            "Requirement already satisfied: urllib3<1.25,>=1.21.1 in /usr/local/lib/python3.6/dist-packages (from requests->pytorch-pretrained-bert) (1.24.3)\n",
            "Requirement already satisfied: chardet<3.1.0,>=3.0.2 in /usr/local/lib/python3.6/dist-packages (from requests->pytorch-pretrained-bert) (3.0.4)\n",
            "Requirement already satisfied: s3transfer<0.3.0,>=0.2.0 in /usr/local/lib/python3.6/dist-packages (from boto3->pytorch-pretrained-bert) (0.2.1)\n",
            "Requirement already satisfied: botocore<1.13.0,>=1.12.175 in /usr/local/lib/python3.6/dist-packages (from boto3->pytorch-pretrained-bert) (1.12.175)\n",
            "Requirement already satisfied: jmespath<1.0.0,>=0.7.1 in /usr/local/lib/python3.6/dist-packages (from boto3->pytorch-pretrained-bert) (0.9.4)\n",
            "Requirement already satisfied: python-dateutil<3.0.0,>=2.1; python_version >= \"2.7\" in /usr/local/lib/python3.6/dist-packages (from botocore<1.13.0,>=1.12.175->boto3->pytorch-pretrained-bert) (2.5.3)\n",
            "Requirement already satisfied: docutils>=0.10 in /usr/local/lib/python3.6/dist-packages (from botocore<1.13.0,>=1.12.175->boto3->pytorch-pretrained-bert) (0.14)\n",
            "Requirement already satisfied: six>=1.5 in /usr/local/lib/python3.6/dist-packages (from python-dateutil<3.0.0,>=2.1; python_version >= \"2.7\"->botocore<1.13.0,>=1.12.175->boto3->pytorch-pretrained-bert) (1.12.0)\n",
            "Building wheels for collected packages: regex\n",
            "  Building wheel for regex (setup.py) ... \u001b[?25l\u001b[?25hdone\n",
            "  Stored in directory: /root/.cache/pip/wheels/35/e4/80/abf3b33ba89cf65cd262af8a22a5a999cc28fbfabea6b38473\n",
            "Successfully built regex\n",
            "Installing collected packages: regex, pytorch-pretrained-bert\n",
            "Successfully installed pytorch-pretrained-bert-0.6.2 regex-2019.6.8\n"
          ],
          "name": "stdout"
        }
      ]
    },
    {
      "cell_type": "markdown",
      "metadata": {
        "id": "JSXImOxMPdNg",
        "colab_type": "text"
      },
      "source": [
        "Now let's import pytorch, the pretrained BERT model, and a BERT tokenizer. We'll explain the BERT model in detail in a later tutorial, but this is the pre-trained model released by Google that ran for many, many hours on Wikipedia and [Book Corpus](https://arxiv.org/pdf/1506.06724.pdf), a dataset containing +10,000 books of different genres. This model is responsible (with a little modification) for beating NLP benchmarks across a range of tasks. Google released a few variations of BERT models, but the one we'll use here is the smaller of the two available sizes (\"base\" and \"large\") and ignores casing, hence \"uncased.\"\""
      ]
    },
    {
      "cell_type": "code",
      "metadata": {
        "id": "lJEnBJ3gHTsQ",
        "colab_type": "code",
        "outputId": "0bb1856e-d243-4358-c179-f8716d720a62",
        "colab": {
          "base_uri": "https://localhost:8080/",
          "height": 35
        }
      },
      "source": [
        "import torch\n",
        "from pytorch_pretrained_bert import BertTokenizer, BertModel, BertForMaskedLM\n",
        "\n",
        "# OPTIONAL: if you want to have more information on what's happening, activate the logger as follows\n",
        "import logging\n",
        "#logging.basicConfig(level=logging.INFO)\n",
        "\n",
        "import matplotlib.pyplot as plt\n",
        "% matplotlib inline\n",
        "\n",
        "# Load pre-trained model tokenizer (vocabulary)\n",
        "tokenizer = BertTokenizer.from_pretrained('bert-base-uncased')\n"
      ],
      "execution_count": 2,
      "outputs": [
        {
          "output_type": "stream",
          "text": [
            "100%|██████████| 231508/231508 [00:00<00:00, 417303.22B/s]\n"
          ],
          "name": "stderr"
        }
      ]
    },
    {
      "cell_type": "markdown",
      "metadata": {
        "id": "Tlv3VlPnKKHN",
        "colab_type": "text"
      },
      "source": [
        "## Input Formatting\n",
        "Because BERT is a pretrained model that expects input data in a specific format, we will need:\n",
        "\n",
        "- special tokens to mark the beginning ([CLS]) and separation/end of sentences ([SEP])\n",
        "- tokens that conforms with the fixed vocabulary used in BERT\n",
        "- token IDs from BERT's tokenizer\n",
        "- mask IDs to indicate which elements in the sequence are tokens and which are padding elements\n",
        "- segment IDs used to distinguish different sentences\n",
        "- positional embeddings used to show token position within the sequence\n",
        "\n",
        "Luckily, this interface takes care of some of these input specifications for us so we will only have to manually create a few of them (we'll revisit the other inputs in another tutorial).\n",
        "\n",
        "\n"
      ]
    },
    {
      "cell_type": "markdown",
      "metadata": {
        "id": "diVtyCJCurxJ",
        "colab_type": "text"
      },
      "source": [
        "###Special Tokens\n",
        "BERT can take as input either one or two sentences, and expects special tokens to mark the beginning and end of each one:\n",
        "\n",
        "**2 Sentence Input**:\n",
        "\n",
        "[CLS] the man went to the store [SEP] he bought a gallon of milk [SEP]\n",
        "\n",
        "**1 Sentence Input**:\n",
        "\n",
        "[CLS] the man went to the store [SEP]"
      ]
    },
    {
      "cell_type": "code",
      "metadata": {
        "id": "VVJDXVZRJF13",
        "colab_type": "code",
        "outputId": "cf8365e7-afeb-4aa3-b132-987786ecd96f",
        "colab": {
          "base_uri": "https://localhost:8080/",
          "height": 55
        }
      },
      "source": [
        "text = \"Here is the sentence I want embeddings for.\"\n",
        "text = \"After stealing money from the bank vault, the bank robber was seen fishing on the Mississippi river bank.\"\n",
        "marked_text = \"[CLS] \" + text + \" [SEP]\"\n",
        "\n",
        "print (marked_text)"
      ],
      "execution_count": 3,
      "outputs": [
        {
          "output_type": "stream",
          "text": [
            "[CLS] After stealing money from the bank vault, the bank robber was seen fishing on the Mississippi river bank. [SEP]\n"
          ],
          "name": "stdout"
        }
      ]
    },
    {
      "cell_type": "markdown",
      "metadata": {
        "id": "QTQfNx6MKTbb",
        "colab_type": "text"
      },
      "source": [
        "We've imported a BERT-specific tokenizer, let's take a look at the output:"
      ]
    },
    {
      "cell_type": "code",
      "metadata": {
        "id": "Eoy9FNTY3HNO",
        "colab_type": "code",
        "colab": {}
      },
      "source": [
        ""
      ],
      "execution_count": 0,
      "outputs": []
    },
    {
      "cell_type": "markdown",
      "metadata": {
        "id": "3gsyrAwYvBfC",
        "colab_type": "text"
      },
      "source": [
        "###Tokenization"
      ]
    },
    {
      "cell_type": "code",
      "metadata": {
        "id": "Pg0P9rFxJwwp",
        "colab_type": "code",
        "outputId": "1036218e-bb44-44c5-8bf1-7fb7ce6cb7db",
        "colab": {
          "base_uri": "https://localhost:8080/",
          "height": 55
        }
      },
      "source": [
        "tokenized_text = tokenizer.tokenize(marked_text)\n",
        "print (tokenized_text)"
      ],
      "execution_count": 4,
      "outputs": [
        {
          "output_type": "stream",
          "text": [
            "['[CLS]', 'after', 'stealing', 'money', 'from', 'the', 'bank', 'vault', ',', 'the', 'bank', 'robber', 'was', 'seen', 'fishing', 'on', 'the', 'mississippi', 'river', 'bank', '.', '[SEP]']\n"
          ],
          "name": "stdout"
        }
      ]
    },
    {
      "cell_type": "code",
      "metadata": {
        "id": "yvCbE8xY1YWH",
        "colab_type": "code",
        "colab": {
          "base_uri": "https://localhost:8080/",
          "height": 35
        },
        "outputId": "5c21937c-bf33-4b85-8ffa-cebbd4edfeab"
      },
      "source": [
        "sen = 'embeddings vector'\n",
        "tokenizer.tokenize('padding')"
      ],
      "execution_count": 11,
      "outputs": [
        {
          "output_type": "execute_result",
          "data": {
            "text/plain": [
              "['pad', '##ding']"
            ]
          },
          "metadata": {
            "tags": []
          },
          "execution_count": 11
        }
      ]
    },
    {
      "cell_type": "markdown",
      "metadata": {
        "id": "Q51eN4KAkbIJ",
        "colab_type": "text"
      },
      "source": [
        "Notice how the word \"embeddings\" is represented:\n",
        "\n",
        "['em', '##bed', '##ding', '##s']\n",
        "\n",
        "The original word has been split into smaller subwords and characters. The two hash signs preceding some of these subwords are just our tokenizer's way to denote that this subword or character is part of a larger word and preceded by another subword. So, for example, the '##bed' token is separate from the 'bed' token; the first is used whenever the subword 'bed' occurs within a larger word and the second is used explicitly for when the standalone token 'thing you sleep on' occurs.\n",
        "\n",
        "Why does it look this way? This is because the BERT tokenizer was created with a WordPiece model. This model greedily creates a fixed-size vocabulary of individual characters, subwords, and words that best fits our language data. Since the vocabulary limit size of our BERT tokenizer model is 30,000, the WordPiece model generated a vocabulary that contains all English characters plus the ~30,000 most common words and subwords found in the English language corpus the model is trained on. This vocabulary contains four things:\n",
        "\n",
        "1. Whole words\n",
        "2. Subwords occuring at the front of a word or in isolation (\"em\" as in \"embeddings\" is assigned the same vector as the standalone sequence of characters \"em\" as in \"go get em\" )\n",
        "3. Subwords not at the front of a word, which are preceded by '##' to denote this case\n",
        "4. Individual characters\n",
        "\n",
        "To tokenize a word under this model, the tokenizer first checks if the whole word is in the vocabulary. If not, it tries to break the word into the largest possible subwords contained in the vocabulary, and as a last resort will decompose the word into individual characters. Note that because of this, we can always represent a word as, at the very least, the collection of its individual characters.\n",
        "\n",
        "As a result, rather than assigning out of vocabulary words to a catch-all token like 'OOV' or 'UNK,' words that are not in the vocabulary are decomposed into subword and character tokens that we can then generate embeddings for. \n",
        "\n",
        "So, rather than assigning \"embeddings\" and every other out of vocabulary word to an overloaded unknown vocabulary token, we split it into subword tokens ['em', '##bed', '##ding', '##s'] that will retain some of the contextual meaning of the original word.  We can even average these subword embedding vectors to generate an approximate vector for the original word.\n",
        "\n",
        "\n",
        "(For more information about WordPiece, see the [original paper](https://static.googleusercontent.com/media/research.google.com/en//pubs/archive/37842.pdf) and further disucssion in Google's [Neural Machine Translation System](https://arxiv.org/pdf/1609.08144.pdf).)\n",
        "\n"
      ]
    },
    {
      "cell_type": "markdown",
      "metadata": {
        "id": "jp5zXAPBVp82",
        "colab_type": "text"
      },
      "source": [
        "Here are some examples of the tokens contained in our vocabulary. Tokens beginning with two hashes are subwords or individual characters."
      ]
    },
    {
      "cell_type": "code",
      "metadata": {
        "id": "1z1SzuTrqx-7",
        "colab_type": "code",
        "outputId": "d2cd9f96-231f-4b81-8405-708c86456040",
        "colab": {
          "base_uri": "https://localhost:8080/",
          "height": 363
        }
      },
      "source": [
        "list(tokenizer.vocab.keys())[5000:5020]"
      ],
      "execution_count": 5,
      "outputs": [
        {
          "output_type": "execute_result",
          "data": {
            "text/plain": [
              "['knight',\n",
              " 'lap',\n",
              " 'survey',\n",
              " 'ma',\n",
              " '##ow',\n",
              " 'noise',\n",
              " 'billy',\n",
              " '##ium',\n",
              " 'shooting',\n",
              " 'guide',\n",
              " 'bedroom',\n",
              " 'priest',\n",
              " 'resistance',\n",
              " 'motor',\n",
              " 'homes',\n",
              " 'sounded',\n",
              " 'giant',\n",
              " '##mer',\n",
              " '150',\n",
              " 'scenes']"
            ]
          },
          "metadata": {
            "tags": []
          },
          "execution_count": 5
        }
      ]
    },
    {
      "cell_type": "markdown",
      "metadata": {
        "id": "HoF3LC47VgBb",
        "colab_type": "text"
      },
      "source": [
        "Next, we need to call the tokenizer  to match the tokens agains their indices in the tokenizer vocabulary:"
      ]
    },
    {
      "cell_type": "code",
      "metadata": {
        "id": "XYjcYJuXoAQx",
        "colab_type": "code",
        "outputId": "10f51dae-7ed6-4dde-d8a8-e240f76dc535",
        "colab": {
          "base_uri": "https://localhost:8080/",
          "height": 397
        }
      },
      "source": [
        "indexed_tokens = tokenizer.convert_tokens_to_ids(tokenized_text)\n",
        "\n",
        "for tup in zip(tokenized_text, indexed_tokens):\n",
        "  print (tup)"
      ],
      "execution_count": 6,
      "outputs": [
        {
          "output_type": "stream",
          "text": [
            "('[CLS]', 101)\n",
            "('after', 2044)\n",
            "('stealing', 11065)\n",
            "('money', 2769)\n",
            "('from', 2013)\n",
            "('the', 1996)\n",
            "('bank', 2924)\n",
            "('vault', 11632)\n",
            "(',', 1010)\n",
            "('the', 1996)\n",
            "('bank', 2924)\n",
            "('robber', 27307)\n",
            "('was', 2001)\n",
            "('seen', 2464)\n",
            "('fishing', 5645)\n",
            "('on', 2006)\n",
            "('the', 1996)\n",
            "('mississippi', 5900)\n",
            "('river', 2314)\n",
            "('bank', 2924)\n",
            "('.', 1012)\n",
            "('[SEP]', 102)\n"
          ],
          "name": "stdout"
        }
      ]
    },
    {
      "cell_type": "code",
      "metadata": {
        "id": "fzi0Z93O30dm",
        "colab_type": "code",
        "colab": {
          "base_uri": "https://localhost:8080/",
          "height": 397
        },
        "outputId": "79b09a8b-a04f-44de-c7ae-f1f4c9802017"
      },
      "source": [
        "indexed_tokens"
      ],
      "execution_count": 14,
      "outputs": [
        {
          "output_type": "execute_result",
          "data": {
            "text/plain": [
              "[101,\n",
              " 2044,\n",
              " 11065,\n",
              " 2769,\n",
              " 2013,\n",
              " 1996,\n",
              " 2924,\n",
              " 11632,\n",
              " 1010,\n",
              " 1996,\n",
              " 2924,\n",
              " 27307,\n",
              " 2001,\n",
              " 2464,\n",
              " 5645,\n",
              " 2006,\n",
              " 1996,\n",
              " 5900,\n",
              " 2314,\n",
              " 2924,\n",
              " 1012,\n",
              " 102]"
            ]
          },
          "metadata": {
            "tags": []
          },
          "execution_count": 14
        }
      ]
    },
    {
      "cell_type": "markdown",
      "metadata": {
        "id": "if6C_iCULU60",
        "colab_type": "text"
      },
      "source": [
        "###Segment ID\n",
        "BERT is trained on and expects sentence pairs, using 1s and 0s to distinguish between the two sentences. That is, for each token in \"tokenized_text,\" we must specify which sentence it belongs to: sentence 0 (a series of 0s) or sentence 1 (a series of 1s). For our purposes, single-sentence inputs only require a series of 1s, so we will create a vector of 1s for each token in our input sentence. \n",
        "\n",
        "If you want to process two sentences, assign each word in the first sentence plus the '[SEP]' token a 0, and all tokens of the second sentence a 1."
      ]
    },
    {
      "cell_type": "code",
      "metadata": {
        "id": "u_jEkVKxJMc0",
        "colab_type": "code",
        "outputId": "a669ad5d-60d3-4ee6-a16d-b2f7730b393d",
        "colab": {
          "base_uri": "https://localhost:8080/",
          "height": 35
        }
      },
      "source": [
        "segments_ids = [1] * len(tokenized_text)\n",
        "print (segments_ids)"
      ],
      "execution_count": 12,
      "outputs": [
        {
          "output_type": "stream",
          "text": [
            "[1, 1, 1, 1, 1, 1, 1, 1, 1, 1, 1, 1, 1, 1, 1, 1, 1, 1, 1, 1, 1, 1]\n"
          ],
          "name": "stdout"
        }
      ]
    },
    {
      "cell_type": "markdown",
      "metadata": {
        "id": "c-nY9LASLr2L",
        "colab_type": "text"
      },
      "source": [
        "##Running our Example\n",
        "Next we need to convert our data to torch tensors and call the BERT model. The BERT PyTorch interface requires that the data be in torch tensors rather than Python lists, so we convert the lists here - this does not change the shape or the data.\n",
        " \n",
        "model.eval() puts our model in evaluation mode as opposed to training mode. In this case, evaluation mode turns off dropout regularization which is used in training.\n",
        "\n",
        "Calling `from_pretrained` will fetch the model from the internet. When we load the `bert-base-uncased`, we see the definition of the model printed in the logging. The model is a deep neural network with 12 layers! Explaining the layers and their functions is outside the scope of this post, and you can skip over this output for now."
      ]
    },
    {
      "cell_type": "code",
      "metadata": {
        "id": "4owhlZw44HTl",
        "colab_type": "code",
        "colab": {
          "base_uri": "https://localhost:8080/",
          "height": 69
        },
        "outputId": "57b114a0-c734-4d11-926e-59bbec32208d"
      },
      "source": [
        "tokens_tensor"
      ],
      "execution_count": 15,
      "outputs": [
        {
          "output_type": "execute_result",
          "data": {
            "text/plain": [
              "tensor([[  101,  2044, 11065,  2769,  2013,  1996,  2924, 11632,  1010,  1996,\n",
              "          2924, 27307,  2001,  2464,  5645,  2006,  1996,  5900,  2314,  2924,\n",
              "          1012,   102]])"
            ]
          },
          "metadata": {
            "tags": []
          },
          "execution_count": 15
        }
      ]
    },
    {
      "cell_type": "code",
      "metadata": {
        "id": "bZxQu4_S4KWC",
        "colab_type": "code",
        "colab": {
          "base_uri": "https://localhost:8080/",
          "height": 35
        },
        "outputId": "776beab7-c9ef-4f57-8b7b-783e28eae800"
      },
      "source": [
        "segments_tensors"
      ],
      "execution_count": 16,
      "outputs": [
        {
          "output_type": "execute_result",
          "data": {
            "text/plain": [
              "tensor([[1, 1, 1, 1, 1, 1, 1, 1, 1, 1, 1, 1, 1, 1, 1, 1, 1, 1, 1, 1, 1, 1]])"
            ]
          },
          "metadata": {
            "tags": []
          },
          "execution_count": 16
        }
      ]
    },
    {
      "cell_type": "code",
      "metadata": {
        "id": "E_t4cM6KLc98",
        "colab_type": "code",
        "outputId": "14b12608-e1b6-4d4b-80cb-768161306e0b",
        "colab": {
          "base_uri": "https://localhost:8080/",
          "height": 1000
        }
      },
      "source": [
        "\n",
        "# Convert inputs to PyTorch tensors\n",
        "tokens_tensor = torch.tensor([indexed_tokens])\n",
        "segments_tensors = torch.tensor([segments_ids])\n",
        "\n",
        "# Load pre-trained model (weights)\n",
        "model = BertModel.from_pretrained('bert-base-uncased')\n",
        "\n",
        "# Put the model in \"evaluation\" mode, meaning feed-forward operation.\n",
        "model.eval()\n"
      ],
      "execution_count": 13,
      "outputs": [
        {
          "output_type": "stream",
          "text": [
            "100%|██████████| 407873900/407873900 [00:32<00:00, 12530427.99B/s]\n"
          ],
          "name": "stderr"
        },
        {
          "output_type": "execute_result",
          "data": {
            "text/plain": [
              "BertModel(\n",
              "  (embeddings): BertEmbeddings(\n",
              "    (word_embeddings): Embedding(30522, 768, padding_idx=0)\n",
              "    (position_embeddings): Embedding(512, 768)\n",
              "    (token_type_embeddings): Embedding(2, 768)\n",
              "    (LayerNorm): BertLayerNorm()\n",
              "    (dropout): Dropout(p=0.1)\n",
              "  )\n",
              "  (encoder): BertEncoder(\n",
              "    (layer): ModuleList(\n",
              "      (0): BertLayer(\n",
              "        (attention): BertAttention(\n",
              "          (self): BertSelfAttention(\n",
              "            (query): Linear(in_features=768, out_features=768, bias=True)\n",
              "            (key): Linear(in_features=768, out_features=768, bias=True)\n",
              "            (value): Linear(in_features=768, out_features=768, bias=True)\n",
              "            (dropout): Dropout(p=0.1)\n",
              "          )\n",
              "          (output): BertSelfOutput(\n",
              "            (dense): Linear(in_features=768, out_features=768, bias=True)\n",
              "            (LayerNorm): BertLayerNorm()\n",
              "            (dropout): Dropout(p=0.1)\n",
              "          )\n",
              "        )\n",
              "        (intermediate): BertIntermediate(\n",
              "          (dense): Linear(in_features=768, out_features=3072, bias=True)\n",
              "        )\n",
              "        (output): BertOutput(\n",
              "          (dense): Linear(in_features=3072, out_features=768, bias=True)\n",
              "          (LayerNorm): BertLayerNorm()\n",
              "          (dropout): Dropout(p=0.1)\n",
              "        )\n",
              "      )\n",
              "      (1): BertLayer(\n",
              "        (attention): BertAttention(\n",
              "          (self): BertSelfAttention(\n",
              "            (query): Linear(in_features=768, out_features=768, bias=True)\n",
              "            (key): Linear(in_features=768, out_features=768, bias=True)\n",
              "            (value): Linear(in_features=768, out_features=768, bias=True)\n",
              "            (dropout): Dropout(p=0.1)\n",
              "          )\n",
              "          (output): BertSelfOutput(\n",
              "            (dense): Linear(in_features=768, out_features=768, bias=True)\n",
              "            (LayerNorm): BertLayerNorm()\n",
              "            (dropout): Dropout(p=0.1)\n",
              "          )\n",
              "        )\n",
              "        (intermediate): BertIntermediate(\n",
              "          (dense): Linear(in_features=768, out_features=3072, bias=True)\n",
              "        )\n",
              "        (output): BertOutput(\n",
              "          (dense): Linear(in_features=3072, out_features=768, bias=True)\n",
              "          (LayerNorm): BertLayerNorm()\n",
              "          (dropout): Dropout(p=0.1)\n",
              "        )\n",
              "      )\n",
              "      (2): BertLayer(\n",
              "        (attention): BertAttention(\n",
              "          (self): BertSelfAttention(\n",
              "            (query): Linear(in_features=768, out_features=768, bias=True)\n",
              "            (key): Linear(in_features=768, out_features=768, bias=True)\n",
              "            (value): Linear(in_features=768, out_features=768, bias=True)\n",
              "            (dropout): Dropout(p=0.1)\n",
              "          )\n",
              "          (output): BertSelfOutput(\n",
              "            (dense): Linear(in_features=768, out_features=768, bias=True)\n",
              "            (LayerNorm): BertLayerNorm()\n",
              "            (dropout): Dropout(p=0.1)\n",
              "          )\n",
              "        )\n",
              "        (intermediate): BertIntermediate(\n",
              "          (dense): Linear(in_features=768, out_features=3072, bias=True)\n",
              "        )\n",
              "        (output): BertOutput(\n",
              "          (dense): Linear(in_features=3072, out_features=768, bias=True)\n",
              "          (LayerNorm): BertLayerNorm()\n",
              "          (dropout): Dropout(p=0.1)\n",
              "        )\n",
              "      )\n",
              "      (3): BertLayer(\n",
              "        (attention): BertAttention(\n",
              "          (self): BertSelfAttention(\n",
              "            (query): Linear(in_features=768, out_features=768, bias=True)\n",
              "            (key): Linear(in_features=768, out_features=768, bias=True)\n",
              "            (value): Linear(in_features=768, out_features=768, bias=True)\n",
              "            (dropout): Dropout(p=0.1)\n",
              "          )\n",
              "          (output): BertSelfOutput(\n",
              "            (dense): Linear(in_features=768, out_features=768, bias=True)\n",
              "            (LayerNorm): BertLayerNorm()\n",
              "            (dropout): Dropout(p=0.1)\n",
              "          )\n",
              "        )\n",
              "        (intermediate): BertIntermediate(\n",
              "          (dense): Linear(in_features=768, out_features=3072, bias=True)\n",
              "        )\n",
              "        (output): BertOutput(\n",
              "          (dense): Linear(in_features=3072, out_features=768, bias=True)\n",
              "          (LayerNorm): BertLayerNorm()\n",
              "          (dropout): Dropout(p=0.1)\n",
              "        )\n",
              "      )\n",
              "      (4): BertLayer(\n",
              "        (attention): BertAttention(\n",
              "          (self): BertSelfAttention(\n",
              "            (query): Linear(in_features=768, out_features=768, bias=True)\n",
              "            (key): Linear(in_features=768, out_features=768, bias=True)\n",
              "            (value): Linear(in_features=768, out_features=768, bias=True)\n",
              "            (dropout): Dropout(p=0.1)\n",
              "          )\n",
              "          (output): BertSelfOutput(\n",
              "            (dense): Linear(in_features=768, out_features=768, bias=True)\n",
              "            (LayerNorm): BertLayerNorm()\n",
              "            (dropout): Dropout(p=0.1)\n",
              "          )\n",
              "        )\n",
              "        (intermediate): BertIntermediate(\n",
              "          (dense): Linear(in_features=768, out_features=3072, bias=True)\n",
              "        )\n",
              "        (output): BertOutput(\n",
              "          (dense): Linear(in_features=3072, out_features=768, bias=True)\n",
              "          (LayerNorm): BertLayerNorm()\n",
              "          (dropout): Dropout(p=0.1)\n",
              "        )\n",
              "      )\n",
              "      (5): BertLayer(\n",
              "        (attention): BertAttention(\n",
              "          (self): BertSelfAttention(\n",
              "            (query): Linear(in_features=768, out_features=768, bias=True)\n",
              "            (key): Linear(in_features=768, out_features=768, bias=True)\n",
              "            (value): Linear(in_features=768, out_features=768, bias=True)\n",
              "            (dropout): Dropout(p=0.1)\n",
              "          )\n",
              "          (output): BertSelfOutput(\n",
              "            (dense): Linear(in_features=768, out_features=768, bias=True)\n",
              "            (LayerNorm): BertLayerNorm()\n",
              "            (dropout): Dropout(p=0.1)\n",
              "          )\n",
              "        )\n",
              "        (intermediate): BertIntermediate(\n",
              "          (dense): Linear(in_features=768, out_features=3072, bias=True)\n",
              "        )\n",
              "        (output): BertOutput(\n",
              "          (dense): Linear(in_features=3072, out_features=768, bias=True)\n",
              "          (LayerNorm): BertLayerNorm()\n",
              "          (dropout): Dropout(p=0.1)\n",
              "        )\n",
              "      )\n",
              "      (6): BertLayer(\n",
              "        (attention): BertAttention(\n",
              "          (self): BertSelfAttention(\n",
              "            (query): Linear(in_features=768, out_features=768, bias=True)\n",
              "            (key): Linear(in_features=768, out_features=768, bias=True)\n",
              "            (value): Linear(in_features=768, out_features=768, bias=True)\n",
              "            (dropout): Dropout(p=0.1)\n",
              "          )\n",
              "          (output): BertSelfOutput(\n",
              "            (dense): Linear(in_features=768, out_features=768, bias=True)\n",
              "            (LayerNorm): BertLayerNorm()\n",
              "            (dropout): Dropout(p=0.1)\n",
              "          )\n",
              "        )\n",
              "        (intermediate): BertIntermediate(\n",
              "          (dense): Linear(in_features=768, out_features=3072, bias=True)\n",
              "        )\n",
              "        (output): BertOutput(\n",
              "          (dense): Linear(in_features=3072, out_features=768, bias=True)\n",
              "          (LayerNorm): BertLayerNorm()\n",
              "          (dropout): Dropout(p=0.1)\n",
              "        )\n",
              "      )\n",
              "      (7): BertLayer(\n",
              "        (attention): BertAttention(\n",
              "          (self): BertSelfAttention(\n",
              "            (query): Linear(in_features=768, out_features=768, bias=True)\n",
              "            (key): Linear(in_features=768, out_features=768, bias=True)\n",
              "            (value): Linear(in_features=768, out_features=768, bias=True)\n",
              "            (dropout): Dropout(p=0.1)\n",
              "          )\n",
              "          (output): BertSelfOutput(\n",
              "            (dense): Linear(in_features=768, out_features=768, bias=True)\n",
              "            (LayerNorm): BertLayerNorm()\n",
              "            (dropout): Dropout(p=0.1)\n",
              "          )\n",
              "        )\n",
              "        (intermediate): BertIntermediate(\n",
              "          (dense): Linear(in_features=768, out_features=3072, bias=True)\n",
              "        )\n",
              "        (output): BertOutput(\n",
              "          (dense): Linear(in_features=3072, out_features=768, bias=True)\n",
              "          (LayerNorm): BertLayerNorm()\n",
              "          (dropout): Dropout(p=0.1)\n",
              "        )\n",
              "      )\n",
              "      (8): BertLayer(\n",
              "        (attention): BertAttention(\n",
              "          (self): BertSelfAttention(\n",
              "            (query): Linear(in_features=768, out_features=768, bias=True)\n",
              "            (key): Linear(in_features=768, out_features=768, bias=True)\n",
              "            (value): Linear(in_features=768, out_features=768, bias=True)\n",
              "            (dropout): Dropout(p=0.1)\n",
              "          )\n",
              "          (output): BertSelfOutput(\n",
              "            (dense): Linear(in_features=768, out_features=768, bias=True)\n",
              "            (LayerNorm): BertLayerNorm()\n",
              "            (dropout): Dropout(p=0.1)\n",
              "          )\n",
              "        )\n",
              "        (intermediate): BertIntermediate(\n",
              "          (dense): Linear(in_features=768, out_features=3072, bias=True)\n",
              "        )\n",
              "        (output): BertOutput(\n",
              "          (dense): Linear(in_features=3072, out_features=768, bias=True)\n",
              "          (LayerNorm): BertLayerNorm()\n",
              "          (dropout): Dropout(p=0.1)\n",
              "        )\n",
              "      )\n",
              "      (9): BertLayer(\n",
              "        (attention): BertAttention(\n",
              "          (self): BertSelfAttention(\n",
              "            (query): Linear(in_features=768, out_features=768, bias=True)\n",
              "            (key): Linear(in_features=768, out_features=768, bias=True)\n",
              "            (value): Linear(in_features=768, out_features=768, bias=True)\n",
              "            (dropout): Dropout(p=0.1)\n",
              "          )\n",
              "          (output): BertSelfOutput(\n",
              "            (dense): Linear(in_features=768, out_features=768, bias=True)\n",
              "            (LayerNorm): BertLayerNorm()\n",
              "            (dropout): Dropout(p=0.1)\n",
              "          )\n",
              "        )\n",
              "        (intermediate): BertIntermediate(\n",
              "          (dense): Linear(in_features=768, out_features=3072, bias=True)\n",
              "        )\n",
              "        (output): BertOutput(\n",
              "          (dense): Linear(in_features=3072, out_features=768, bias=True)\n",
              "          (LayerNorm): BertLayerNorm()\n",
              "          (dropout): Dropout(p=0.1)\n",
              "        )\n",
              "      )\n",
              "      (10): BertLayer(\n",
              "        (attention): BertAttention(\n",
              "          (self): BertSelfAttention(\n",
              "            (query): Linear(in_features=768, out_features=768, bias=True)\n",
              "            (key): Linear(in_features=768, out_features=768, bias=True)\n",
              "            (value): Linear(in_features=768, out_features=768, bias=True)\n",
              "            (dropout): Dropout(p=0.1)\n",
              "          )\n",
              "          (output): BertSelfOutput(\n",
              "            (dense): Linear(in_features=768, out_features=768, bias=True)\n",
              "            (LayerNorm): BertLayerNorm()\n",
              "            (dropout): Dropout(p=0.1)\n",
              "          )\n",
              "        )\n",
              "        (intermediate): BertIntermediate(\n",
              "          (dense): Linear(in_features=768, out_features=3072, bias=True)\n",
              "        )\n",
              "        (output): BertOutput(\n",
              "          (dense): Linear(in_features=3072, out_features=768, bias=True)\n",
              "          (LayerNorm): BertLayerNorm()\n",
              "          (dropout): Dropout(p=0.1)\n",
              "        )\n",
              "      )\n",
              "      (11): BertLayer(\n",
              "        (attention): BertAttention(\n",
              "          (self): BertSelfAttention(\n",
              "            (query): Linear(in_features=768, out_features=768, bias=True)\n",
              "            (key): Linear(in_features=768, out_features=768, bias=True)\n",
              "            (value): Linear(in_features=768, out_features=768, bias=True)\n",
              "            (dropout): Dropout(p=0.1)\n",
              "          )\n",
              "          (output): BertSelfOutput(\n",
              "            (dense): Linear(in_features=768, out_features=768, bias=True)\n",
              "            (LayerNorm): BertLayerNorm()\n",
              "            (dropout): Dropout(p=0.1)\n",
              "          )\n",
              "        )\n",
              "        (intermediate): BertIntermediate(\n",
              "          (dense): Linear(in_features=768, out_features=3072, bias=True)\n",
              "        )\n",
              "        (output): BertOutput(\n",
              "          (dense): Linear(in_features=3072, out_features=768, bias=True)\n",
              "          (LayerNorm): BertLayerNorm()\n",
              "          (dropout): Dropout(p=0.1)\n",
              "        )\n",
              "      )\n",
              "    )\n",
              "  )\n",
              "  (pooler): BertPooler(\n",
              "    (dense): Linear(in_features=768, out_features=768, bias=True)\n",
              "    (activation): Tanh()\n",
              "  )\n",
              ")"
            ]
          },
          "metadata": {
            "tags": []
          },
          "execution_count": 13
        }
      ]
    },
    {
      "cell_type": "markdown",
      "metadata": {
        "id": "G4Qa5KkkM2Aq",
        "colab_type": "text"
      },
      "source": [
        "Next, let's fetch the hidden states of the network.\n",
        "\n",
        "torch.no_grad deactivates the gradient calculations, saves memory, and speeds up computation (we don't need gradients or backpropagation since we're just running a forward pass). \n"
      ]
    },
    {
      "cell_type": "code",
      "metadata": {
        "id": "nN0QTZwiMzeq",
        "colab_type": "code",
        "colab": {}
      },
      "source": [
        "# Predict hidden states features for each layer\n",
        "with torch.no_grad():\n",
        "    encoded_layers, _ = model(tokens_tensor, segments_tensors)"
      ],
      "execution_count": 0,
      "outputs": []
    },
    {
      "cell_type": "markdown",
      "metadata": {
        "id": "UeQNEFbUgMSf",
        "colab_type": "text"
      },
      "source": [
        "## Output\n",
        "The full set of hidden states for this model, stored in the object `encoded_layers`, is a little dizzying. This object has four dimensions, in the following order:\n",
        "\n",
        "1. The layer number (12 layers)\n",
        "2. The batch number (1 sentence)\n",
        "3. The word / token number (22 tokens in our sentence)\n",
        "4. The hidden unit / feature number (768 features)\n",
        "\n",
        "That’s 202,752 unique values just to represent our one sentence!\n",
        "\n",
        "The second dimension, the batch size, is used when submitting multiple sentences to the model at once; here, though, we just have one example sentence."
      ]
    },
    {
      "cell_type": "code",
      "metadata": {
        "id": "eI_uxiW7eRWA",
        "colab_type": "code",
        "outputId": "ab55b2c7-afe2-41a6-9d7f-5ce2ce3c82fc",
        "colab": {
          "base_uri": "https://localhost:8080/",
          "height": 86
        }
      },
      "source": [
        "print (\"Number of layers:\", len(encoded_layers))\n",
        "layer_i = 0\n",
        "\n",
        "print (\"Number of batches:\", len(encoded_layers[layer_i]))\n",
        "batch_i = 0\n",
        "\n",
        "print (\"Number of tokens:\", len(encoded_layers[layer_i][batch_i]))\n",
        "token_i = 0\n",
        "\n",
        "print (\"Number of hidden units:\", len(encoded_layers[layer_i][batch_i][token_i]))"
      ],
      "execution_count": 20,
      "outputs": [
        {
          "output_type": "stream",
          "text": [
            "Number of layers: 12\n",
            "Number of batches: 1\n",
            "Number of tokens: 22\n",
            "Number of hidden units: 768\n"
          ],
          "name": "stdout"
        }
      ]
    },
    {
      "cell_type": "markdown",
      "metadata": {
        "id": "6Uc_S_hmOWe7",
        "colab_type": "text"
      },
      "source": [
        "Let's take a quick look at the range of values for a given layer and token.\n",
        "\n",
        "You'll find that the range is fairly similar for all layers and tokens, with the majority of values falling between \\[-2, 2\\], and a small smattering of values around -10."
      ]
    },
    {
      "cell_type": "code",
      "metadata": {
        "id": "gc8GwV_HCVGE",
        "colab_type": "code",
        "colab": {
          "base_uri": "https://localhost:8080/",
          "height": 35
        },
        "outputId": "3afea02e-64b2-4d9a-cd56-f9a6deaf240d"
      },
      "source": [
        "len(vec)"
      ],
      "execution_count": 25,
      "outputs": [
        {
          "output_type": "execute_result",
          "data": {
            "text/plain": [
              "768"
            ]
          },
          "metadata": {
            "tags": []
          },
          "execution_count": 25
        }
      ]
    },
    {
      "cell_type": "code",
      "metadata": {
        "id": "-UF_OAO-S1sP",
        "colab_type": "code",
        "outputId": "c5141d9e-f94d-4f04-c6f6-b1cdf72f1268",
        "colab": {
          "base_uri": "https://localhost:8080/",
          "height": 595
        }
      },
      "source": [
        "# For the 5th token in our sentence, select its feature values from layer 5.\n",
        "token_i = 6\n",
        "layer_i = 5\n",
        "vec = encoded_layers[layer_i][batch_i][token_i]\n",
        "\n",
        "# Plot the values as a histogram to show their distribution.\n",
        "plt.figure(figsize=(10,10))\n",
        "plt.hist(vec, bins=200)\n",
        "plt.show()"
      ],
      "execution_count": 23,
      "outputs": [
        {
          "output_type": "display_data",
          "data": {
            "image/png": "[encoded data removed]",
            "text/plain": [
              "<Figure size 720x720 with 1 Axes>"
            ]
          },
          "metadata": {
            "tags": []
          }
        }
      ]
    },
    {
      "cell_type": "markdown",
      "metadata": {
        "id": "LX5XxGyeMuGw",
        "colab_type": "text"
      },
      "source": [
        "Grouping the values by layer makes sense for the model, but for our purposes we want it grouped by token. \n",
        "\n",
        "The following code just reshapes the values so that we have them in the form: \n",
        "\n",
        "```\n",
        "    [# tokens, # layers, # features]\n",
        "```"
      ]
    },
    {
      "cell_type": "code",
      "metadata": {
        "id": "bamFT4uXMmO6",
        "colab_type": "code",
        "outputId": "b8db09ec-7cb3-4742-963e-7a9e429e3b79",
        "colab": {
          "base_uri": "https://localhost:8080/",
          "height": 52
        }
      },
      "source": [
        "# Convert the hidden state embeddings into single token vectors\n",
        "\n",
        "# Holds the list of 12 layer embeddings for each token\n",
        "# Will have the shape: [# tokens, # layers, # features]\n",
        "token_embeddings = [] \n",
        "\n",
        "# For each token in the sentence...\n",
        "for token_i in range(len(tokenized_text)):\n",
        "  \n",
        "  # Holds 12 layers of hidden states for each token \n",
        "  hidden_layers = [] \n",
        "  \n",
        "  # For each of the 12 layers...\n",
        "  for layer_i in range(len(encoded_layers)):\n",
        "    \n",
        "    # Lookup the vector for `token_i` in `layer_i`\n",
        "    vec = encoded_layers[layer_i][batch_i][token_i]\n",
        "    \n",
        "    hidden_layers.append(vec)\n",
        "    \n",
        "  token_embeddings.append(hidden_layers)\n",
        "\n",
        "# Sanity check the dimensions:\n",
        "print (\"Number of tokens in sequence:\", len(token_embeddings))\n",
        "print (\"Number of layers per token:\", len(token_embeddings[0]))"
      ],
      "execution_count": 26,
      "outputs": [
        {
          "output_type": "stream",
          "text": [
            "Number of tokens in sequence: 22\n",
            "Number of layers per token: 12\n"
          ],
          "name": "stdout"
        }
      ]
    },
    {
      "cell_type": "code",
      "metadata": {
        "id": "pbdDVvW6Dclt",
        "colab_type": "code",
        "colab": {}
      },
      "source": [
        "token_embeddings[2]"
      ],
      "execution_count": 0,
      "outputs": []
    },
    {
      "cell_type": "markdown",
      "metadata": {
        "id": "Ey5RhOQ7NGtz",
        "colab_type": "text"
      },
      "source": [
        "## Creating word and sentence vectors from hidden states\n",
        "\n",
        "Now, what do we do with these hidden states? We would like to get individual vectors for each of our tokens, or perhaps a single vector representation of the whole sentence, but for each token of our input we have 12 separate vectors each of length 768.\n",
        "\n",
        "In order to get the individual vectors we will need to combine some of the layer vectors...but which layer or combination of layers provides the best representation? The BERT authors tested this by feeding different vector combinations as input features to a BiLSTM used on a named entity recognition task and observing the resulting F1 scores.\n",
        "\n",
        "(Image from [Jay Allamar](http://jalammar.github.io/illustrated-bert/)'s blog)\n",
        "\n",
        "\n",
        "![alt text](http://jalammar.github.io/images/bert-feature-extraction-contextualized-embeddings.png)\n",
        "\n",
        "While concatenation of the last four layers produced the best results on this specific task, many of the other methods come in a close second and in general it is advisable to test different versions for your specific application: results may vary.\n",
        "\n",
        "This is partially demonstrated by noting that the different layers of BERT encode very different kinds of information, so the appropriate pooling strategy will change depending on the application because different layers encode different kinds of information. Hanxiao's discussion of this topic is relevant, as are their experiments looking at the PCA visualizations of different layers trained on a news dataset and observing the differences in the four class separations from different pooling strategies:\n",
        "\n",
        "(Images from [Hanxiao's](https://github.com/hanxiao/bert-as-service) BERT-as-a-service)\n",
        "\n",
        "![alt text](https://raw.githubusercontent.com/hanxiao/bert-as-service/master/.github/pool_mean.png)\n",
        "![alt text](https://raw.githubusercontent.com/hanxiao/bert-as-service/master/.github/pool_max.png)\n",
        "\n",
        "The upshot being that, again**, the correct pooling strategy (mean, max, concatenation, etc.) and layers used (last four, all, last layer, etc.) is dependent on the application**. This discussion of pooling strategies applies both to entire sentence embeddings and individual ELMO-like token embeddings.\n",
        "\n",
        "\n",
        "\n",
        "\n",
        "\n"
      ]
    },
    {
      "cell_type": "markdown",
      "metadata": {
        "id": "76TdtFH8NM9q",
        "colab_type": "text"
      },
      "source": [
        "### Word Vectors\n",
        "\n",
        "To give you some examples, let's create word vectors two ways. \n",
        "\n",
        "First, let's **concatenate** the last four layers, giving us a single word vector per token. Each vector will have length `4 x 768 = 3,072`. "
      ]
    },
    {
      "cell_type": "code",
      "metadata": {
        "id": "pv42h9jANMRf",
        "colab_type": "code",
        "outputId": "1cdfaf98-de93-4580-bc47-18c253561a48",
        "colab": {
          "base_uri": "https://localhost:8080/",
          "height": 35
        }
      },
      "source": [
        "# Stores the token vectors, with shape [22 x 3,072]\n",
        "token_vecs_cat = []\n",
        "\n",
        "# For each token in the sentence...\n",
        "for token in token_embeddings:\n",
        "    # Concatenate the vectors (that is, append them together) from the last \n",
        "    # four layers.\n",
        "    # Each layer vector is 768 values, so `cat_vec` is length 3,072.\n",
        "    cat_vec = torch.cat((token[-1], token[-2], token[-3], token[-4]), 0)\n",
        "    \n",
        "    # Use `cat_vec` to represent `token`.\n",
        "    token_vecs_cat.append(cat_vec)\n",
        "\n",
        "print ('Shape is: %d x %d' % (len(token_vecs_cat), len(token_vecs_cat[0])))"
      ],
      "execution_count": 29,
      "outputs": [
        {
          "output_type": "stream",
          "text": [
            "Shape is: 22 x 3072\n"
          ],
          "name": "stdout"
        }
      ]
    },
    {
      "cell_type": "markdown",
      "metadata": {
        "id": "VnWaByfelM-e",
        "colab_type": "text"
      },
      "source": [
        "As an alternative method, let's try creating the word vectors by **summing** together the last four layers."
      ]
    },
    {
      "cell_type": "code",
      "metadata": {
        "id": "j4DKDtFwiF0S",
        "colab_type": "code",
        "outputId": "ed569422-3616-4389-bce2-f0791a2ec231",
        "colab": {
          "base_uri": "https://localhost:8080/",
          "height": 35
        }
      },
      "source": [
        "# Stores the token vectors, with shape [22 x 768]\n",
        "token_vecs_sum = []\n",
        "\n",
        "# For each token in the sentence...\n",
        "for token in token_embeddings:\n",
        "    # Sum the vectors from the last four layers.\n",
        "    sum_vec = torch.sum(torch.stack(token)[-4:], 0)\n",
        "    \n",
        "    # Use `sum_vec` to represent `token`.\n",
        "    token_vecs_sum.append(sum_vec)\n",
        "\n",
        "print ('Shape is: %d x %d' % (len(token_vecs_sum), len(token_vecs_sum[0])))"
      ],
      "execution_count": 31,
      "outputs": [
        {
          "output_type": "stream",
          "text": [
            "Shape is: 22 x 768\n"
          ],
          "name": "stdout"
        }
      ]
    },
    {
      "cell_type": "markdown",
      "metadata": {
        "id": "mQaco6jRLkXn",
        "colab_type": "text"
      },
      "source": [
        "### Sentence Vectors\n",
        "\n",
        "To get a single vector for our entire sentence we have multiple application-dependent strategieis, but a simple approach is to average the second to last hiden layer of each token producing a single 768 length vector.\n",
        "\n"
      ]
    },
    {
      "cell_type": "code",
      "metadata": {
        "id": "lsUQ3ov_KQdf",
        "colab_type": "code",
        "colab": {
          "base_uri": "https://localhost:8080/",
          "height": 35
        },
        "outputId": "1aed2910-8c97-4370-ad19-5f44bd4a6d1e"
      },
      "source": [
        "encoded_layers[11].shape"
      ],
      "execution_count": 37,
      "outputs": [
        {
          "output_type": "execute_result",
          "data": {
            "text/plain": [
              "torch.Size([1, 22, 768])"
            ]
          },
          "metadata": {
            "tags": []
          },
          "execution_count": 37
        }
      ]
    },
    {
      "cell_type": "code",
      "metadata": {
        "id": "Zn0n2S-FWZih",
        "colab_type": "code",
        "colab": {}
      },
      "source": [
        "sentence_embedding = torch.mean(encoded_layers[11], 1)"
      ],
      "execution_count": 0,
      "outputs": []
    },
    {
      "cell_type": "code",
      "metadata": {
        "id": "NK1sUJX7Kwqz",
        "colab_type": "code",
        "colab": {
          "base_uri": "https://localhost:8080/",
          "height": 1000
        },
        "outputId": "cdb5c6c5-20f5-4543-dcf4-584ca9a808c2"
      },
      "source": [
        "sentence_embedding"
      ],
      "execution_count": 39,
      "outputs": [
        {
          "output_type": "execute_result",
          "data": {
            "text/plain": [
              "tensor([[ 3.2873e-02, -2.3461e-01, -7.9924e-02,  3.8905e-01,  8.8793e-01,\n",
              "          2.1375e-01, -7.8063e-03,  6.2694e-01, -3.2631e-02, -3.4703e-01,\n",
              "          1.2331e-01, -9.4772e-02, -7.4420e-02,  4.5523e-01, -4.7217e-01,\n",
              "          1.0344e-01,  3.4667e-01,  1.0410e-01,  5.4372e-01,  6.9113e-02,\n",
              "         -8.2880e-02,  6.7866e-02,  1.2871e-01,  2.3312e-01,  4.2933e-01,\n",
              "         -1.2449e-02, -2.1360e-01,  2.2697e-01, -1.2763e-01,  2.8080e-01,\n",
              "          5.4766e-01, -1.0080e-01,  7.5650e-02, -2.7152e-01, -1.4124e-01,\n",
              "         -4.0931e-01, -1.9237e-01, -3.9813e-02, -2.3175e-01,  3.3040e-01,\n",
              "         -3.8484e-01, -3.7469e-01, -2.4978e-01,  3.2707e-01, -9.0552e-04,\n",
              "         -4.4285e-01,  7.6833e-02, -4.4618e-02,  1.9808e-02,  7.4679e-02,\n",
              "         -3.2986e-01,  8.2114e-01, -7.6256e-01, -4.1610e-04,  8.9090e-02,\n",
              "          5.3472e-01, -3.8244e-01, -6.0184e-01, -8.3941e-02, -9.6009e-02,\n",
              "          3.7689e-01, -2.5287e-01,  4.6429e-01, -5.4761e-01, -2.1230e-02,\n",
              "          2.0828e-02,  4.8191e-01,  2.8035e-01, -3.2533e-01,  3.0219e-02,\n",
              "         -4.0341e-01,  1.9626e-01, -2.1912e-01, -3.6637e-01,  6.2737e-03,\n",
              "          4.7330e-01, -8.0409e-02, -2.9862e-02, -2.9353e-01,  2.1191e-01,\n",
              "         -2.0604e-01,  3.9470e-01, -1.4167e-01,  2.4277e-01,  1.4530e-01,\n",
              "          5.1124e-02, -1.8740e-01,  7.7009e-02, -3.3881e-02,  4.4765e-01,\n",
              "         -5.5695e-02,  1.3957e-01, -1.9834e-01, -3.4934e-02, -4.2185e-01,\n",
              "          2.1998e-01,  1.4355e-02,  9.0102e-02, -2.7612e-01,  4.6219e-01,\n",
              "          1.0327e-01, -5.5465e-01,  2.5412e-01,  4.0143e-01, -2.3759e-03,\n",
              "         -1.0715e-02,  3.4206e-01,  6.8675e-02, -2.1206e-01, -9.5972e-02,\n",
              "          1.2728e-01, -2.8885e-01,  2.1959e-01, -2.6426e-01,  2.9848e-02,\n",
              "         -1.0109e-03,  4.3754e-01, -3.0179e-01, -5.3250e-01, -1.1406e-01,\n",
              "          4.0874e-01,  2.4168e-01,  3.4493e-01,  8.7342e-01, -2.4015e-01,\n",
              "          2.1779e-01,  2.8373e-02,  1.6783e-01, -1.3983e-01, -6.2004e-01,\n",
              "          3.9955e-01,  2.8869e-02,  1.7543e-01, -1.8415e-01, -2.5643e-01,\n",
              "          2.2322e-01, -1.1652e-01, -2.4955e-01, -5.3888e-01,  2.5615e-01,\n",
              "          3.0306e-01, -3.5355e-01, -8.1194e-02,  2.9323e-01,  6.4744e-02,\n",
              "          3.9605e-01,  2.6805e-01, -2.7199e-01,  1.9049e-01,  2.2043e-01,\n",
              "          2.6581e-01,  1.7944e-01, -1.3411e-01, -2.6965e-01,  3.5733e-01,\n",
              "          2.2490e-01,  1.3277e-02,  4.0494e-02, -1.3025e-01, -1.3364e-01,\n",
              "          3.2034e-01,  2.6117e-01, -3.4705e-01,  1.7669e-01, -2.5380e-01,\n",
              "          3.0491e-02,  2.4185e-01,  2.4148e-01, -2.8340e-01,  7.3602e-02,\n",
              "         -3.1289e-01,  4.5428e-02,  5.6594e-01, -6.4136e-02,  1.3558e-01,\n",
              "          1.1851e-01, -2.3538e-01, -1.3218e-01,  1.9183e-01, -1.3600e-01,\n",
              "         -1.1494e+00,  3.6584e-01,  3.1123e-01,  2.8061e-01,  2.3955e-01,\n",
              "         -2.4946e-01,  3.0123e-01,  9.9572e-02, -2.3740e-01, -4.4925e-01,\n",
              "          5.2637e-02, -5.1481e-01, -6.5989e-01,  1.1719e-01, -6.3273e-02,\n",
              "         -1.1423e-01, -2.6833e-01, -1.9182e-02, -2.4028e-01, -4.4373e-02,\n",
              "         -1.7569e-01, -3.1761e-02,  7.9137e-02,  7.1695e-02, -6.7586e-02,\n",
              "          8.7838e-03,  2.0592e-01,  2.1971e-02,  3.6809e-01,  2.0450e-01,\n",
              "         -2.8241e-01,  2.8737e-01,  2.3896e-01,  3.5003e-03, -4.0584e-02,\n",
              "         -3.7527e-02, -3.1873e-01, -4.4533e-01, -1.8830e-02,  8.7480e-02,\n",
              "          3.9358e-02,  2.5384e-01, -1.7177e-01,  3.6704e-01,  1.1685e-01,\n",
              "          8.8151e-01, -1.8297e-01, -2.2382e-01, -2.5170e-01,  2.3097e-01,\n",
              "         -1.8420e-01, -1.2809e-01,  2.5144e-01, -1.3566e-01, -2.7711e-01,\n",
              "         -1.7238e-01, -2.2674e-01, -1.0894e-01, -2.2153e-01, -3.2150e-01,\n",
              "          5.1438e-02,  8.1830e-02,  4.4762e-01, -1.8171e-01,  1.7812e-01,\n",
              "          4.2392e-02,  2.0953e-01,  5.9237e-01, -1.5180e-01, -2.4848e-01,\n",
              "         -3.6314e-01, -2.7957e-01, -2.6763e-01, -4.0601e-01,  2.2221e-01,\n",
              "         -2.3289e-01,  2.8370e-02, -8.3567e-03, -6.9577e-02,  1.8851e-01,\n",
              "          5.0710e-01, -3.0316e-02, -9.0177e-02, -1.0818e-03, -2.5721e-01,\n",
              "         -4.3441e-01, -1.9286e-01,  2.4037e-01,  1.5816e-01,  2.6835e-01,\n",
              "          2.3048e-01,  1.8329e-01, -1.4023e-02,  4.2113e-01, -2.5815e-02,\n",
              "         -2.8211e-01, -4.1548e-02,  4.7248e-03,  4.9955e-02, -4.2047e-02,\n",
              "          2.4905e-01,  5.3173e-01, -4.2934e-01, -3.2588e-01,  1.0013e-01,\n",
              "         -3.6364e-01, -9.9431e-02,  6.2659e-01, -2.7112e-01, -2.1566e-01,\n",
              "         -1.5469e-01,  8.3550e-02, -3.6112e-01,  9.6514e-02, -1.7314e-01,\n",
              "          2.1588e-01,  1.5639e-01,  5.9367e-01,  6.6649e-01, -6.7588e-02,\n",
              "          1.5030e-01,  1.4506e-01,  2.5358e-01, -3.9685e-02, -2.3935e-01,\n",
              "          9.3357e-02,  4.7813e-01, -3.0064e-01, -3.7770e+00,  7.7552e-01,\n",
              "          4.0279e-01, -3.5019e-01,  3.8938e-02, -1.2376e-01, -1.1008e-01,\n",
              "         -4.8648e-01, -2.5933e-01,  1.7168e-01, -4.2279e-01, -5.5471e-01,\n",
              "          3.1611e-01, -1.1100e-01,  1.2557e-01, -4.5863e-01,  1.9956e-01,\n",
              "         -2.3371e-01,  1.4228e-01,  1.3801e-01, -1.9041e-01, -2.0123e-01,\n",
              "         -2.1891e-01,  1.7641e-01,  5.5051e-01,  4.2103e-01, -4.9933e-01,\n",
              "         -1.3517e-01,  2.4512e-01,  1.2218e-01,  1.2216e-01, -2.2440e-01,\n",
              "         -2.3644e-01, -4.1047e-01,  1.9044e-01,  7.0886e-02, -1.6605e-01,\n",
              "         -1.2517e-01, -1.0968e-02,  1.9421e-01, -2.5221e-01, -2.2930e-01,\n",
              "         -1.6755e-01,  4.9772e-02,  9.7385e-01,  1.3127e-01, -1.7879e-01,\n",
              "         -5.1492e-01,  4.2442e-02,  2.5898e-01,  4.4694e-01, -3.0948e-01,\n",
              "         -2.2084e-01,  2.9276e-01,  9.6879e-02, -8.7703e-03,  2.0275e-01,\n",
              "          3.3256e-02, -1.4174e-01, -4.4820e-02, -6.2446e-02, -4.6275e-01,\n",
              "         -1.0691e-01,  8.4085e-02, -9.6781e-03, -3.4852e-01, -3.5904e-01,\n",
              "         -2.2667e-03,  2.3287e-01,  8.2754e-03,  8.3930e-02,  3.9229e-01,\n",
              "         -3.9168e-01, -9.0533e-01, -3.2820e-01, -9.6777e-04,  6.3286e-01,\n",
              "         -2.0340e-01,  2.1092e-01, -5.2722e-02, -2.5226e-01, -1.9713e-01,\n",
              "          2.2695e-01, -1.2394e-01,  2.8051e-02, -3.8859e-01, -1.2037e-01,\n",
              "          3.0186e-01, -3.8589e-01, -6.7337e-01,  4.1308e-01,  3.9467e-01,\n",
              "          1.7403e-01, -5.0731e-02, -3.9394e-02,  6.4084e-02, -2.5928e-01,\n",
              "         -2.0895e-01, -6.6158e-03,  6.7344e-02, -5.3995e-02, -6.8231e-02,\n",
              "          3.9435e-01, -1.6228e-01, -5.9148e-02, -1.0987e-01, -2.3485e-01,\n",
              "          6.0764e-02, -5.2708e-01,  3.1985e-01,  1.5007e-01, -5.3241e-01,\n",
              "          7.4603e-01,  2.9623e-03,  7.0720e-02,  2.9006e-01,  5.8697e-01,\n",
              "          4.5578e-01,  7.8198e-02,  3.2700e-03, -2.5953e-01,  4.7365e-01,\n",
              "         -4.7452e-01, -3.1938e-01,  6.3678e-02, -1.2565e-01,  1.0425e-01,\n",
              "         -1.1837e-01,  8.1148e-02, -3.1782e-01,  8.7375e-02, -3.9548e-01,\n",
              "          1.2083e-01,  8.9850e-02,  3.7519e-01, -1.2269e-02,  2.2328e-01,\n",
              "         -1.1208e+00,  6.4218e-02,  3.6587e-01, -1.7193e-01,  2.0568e-01,\n",
              "         -1.2611e-02, -3.2089e-01, -2.5760e-01,  1.0754e-01,  3.6568e-02,\n",
              "         -6.1796e-02, -7.8660e-02, -8.2236e-02, -4.3350e-01, -9.8674e-04,\n",
              "          1.0287e-01, -5.2039e-01, -8.4610e-02,  3.9558e-01,  2.5404e-01,\n",
              "         -9.4516e-02, -5.6194e-01, -2.3692e-02,  9.7243e-02,  2.2519e-01,\n",
              "          3.9128e-01,  3.5818e-02, -9.8754e-01,  2.2243e-01, -4.9979e-01,\n",
              "         -2.7877e-01, -2.2256e-01,  7.1030e-01,  5.6814e-02, -2.4126e-01,\n",
              "          4.5316e-02,  9.8688e-02,  7.2637e-03,  3.4653e-01,  2.5113e-02,\n",
              "         -2.6737e-01, -2.0366e-01,  4.3638e-02, -3.6745e-01,  2.3696e-01,\n",
              "         -2.5555e-01, -2.9447e-01,  3.2046e-01, -4.0940e-02, -2.4763e-02,\n",
              "          8.6968e-02,  5.1339e-02, -1.8419e-04, -1.4893e-02,  3.2526e-01,\n",
              "         -3.8269e-02,  2.6786e-01, -3.5656e-01, -4.5695e-01,  1.3729e-01,\n",
              "          1.4438e-01,  2.3524e-02,  3.8044e-01,  1.5785e-01,  1.7076e-02,\n",
              "         -1.7419e-01, -9.5848e-02, -1.5767e-01, -3.8592e-01,  3.0318e-01,\n",
              "          1.5875e-01, -3.8609e-01,  4.4404e-01, -2.9244e-01,  2.0231e-02,\n",
              "         -6.4094e-01, -5.7448e-01,  1.5995e-01,  2.7726e-02,  4.6958e-01,\n",
              "          1.2975e-01, -2.8781e-01, -1.3774e-01, -3.7001e-01,  1.5315e-02,\n",
              "          1.5106e-01,  4.9228e-02, -6.1478e-01, -2.2820e-01,  1.9403e-01,\n",
              "          2.3295e-01,  3.1816e-02,  3.6159e-02, -2.0600e-02, -1.5040e-02,\n",
              "         -1.8070e-01,  2.5212e-01,  3.3567e-01,  1.7605e-01, -1.7763e-01,\n",
              "         -6.6003e-01, -1.5966e-01, -7.5785e-02, -9.2748e-02,  4.1193e-01,\n",
              "         -1.4701e-01,  1.8071e-01,  2.7727e-01,  2.2886e-01,  2.1412e-01,\n",
              "          4.0559e-01,  2.9488e-02,  1.5939e-01,  8.9484e-02,  1.7819e-02,\n",
              "          1.2578e-01,  2.1416e-01, -6.3731e-01, -1.3492e-01, -3.4915e-01,\n",
              "          3.6478e-02, -1.4420e-01,  2.2444e-01,  8.0618e-02, -4.5948e-01,\n",
              "         -2.5548e-01,  2.3308e-01,  4.8316e-01, -4.8303e-02,  1.3733e-01,\n",
              "          3.8448e-01,  1.9859e-01, -1.1588e-01,  1.9462e-01, -5.7137e-01,\n",
              "         -2.1805e-02,  1.8119e-02, -1.8648e-01,  3.2569e-01, -3.1400e-02,\n",
              "         -7.4852e-01, -2.8136e-01, -4.1346e-01, -4.3298e-01,  8.8853e-02,\n",
              "          8.0123e-02, -9.6356e-02, -1.0290e-01, -6.7089e-02, -1.8135e-02,\n",
              "          3.8983e-01, -2.2420e-01, -6.5782e-01,  1.6714e-01,  1.6647e-01,\n",
              "          2.2787e-01, -9.8913e-02, -4.9981e-02,  2.4047e-01,  5.1464e-01,\n",
              "          3.0415e-01,  1.9503e-01,  3.9066e-01, -7.7427e-02,  2.1399e-01,\n",
              "         -4.9991e-02,  3.7401e-01, -1.3171e-01,  2.5106e-01, -1.9302e-01,\n",
              "         -2.3373e-01, -1.2552e-01,  9.8667e-02, -2.5677e-01, -6.0451e-01,\n",
              "          2.7188e-01,  5.8789e-02, -4.7728e-01, -2.4809e-01,  1.0637e-01,\n",
              "         -2.4408e-01, -6.8313e-01,  1.5543e-01, -3.8480e-02, -1.0999e-01,\n",
              "          2.4612e-01,  3.1702e-01,  1.5008e-01,  4.7603e-01, -2.1330e-01,\n",
              "          2.5903e-02, -4.4135e-02,  1.8807e-01, -3.2210e-01,  5.7168e-02,\n",
              "         -2.6996e-01,  2.1716e-01, -2.0677e-01, -1.4930e-01,  6.6474e-02,\n",
              "         -3.5995e-01,  2.7575e-01, -3.3963e-01,  1.3209e-01, -1.0043e-01,\n",
              "         -2.8423e-02,  8.8633e-01,  2.6062e-01, -1.0798e-02, -1.2912e-01,\n",
              "         -2.6626e-02,  4.1478e-01,  3.0718e-01,  6.0709e-02,  9.1707e-02,\n",
              "         -4.0817e-02, -5.0389e-01,  6.9781e-01,  2.5277e-01,  2.0832e-01,\n",
              "         -7.7927e-02, -2.7423e-01,  3.0759e-01,  1.4393e-01, -1.9446e-01,\n",
              "          4.0682e-01, -5.2621e-01, -1.8164e-01,  1.4928e-01, -4.0263e-01,\n",
              "         -3.9829e-01, -8.1881e-02, -2.2226e-02,  3.0405e-01,  2.8618e-01,\n",
              "         -2.4212e-01, -4.5130e-01, -9.4955e-02,  4.1823e-01, -1.7606e-01,\n",
              "          2.2215e-01,  2.7881e-02, -1.7553e-01,  3.0276e-04, -2.4626e-01,\n",
              "         -4.1756e-01, -5.0924e-01, -3.4444e-01, -1.3423e-01, -2.6289e-02,\n",
              "         -1.0585e-01, -1.2218e-01, -5.4948e-01,  4.2556e-01, -3.3032e-01,\n",
              "          1.8397e-01, -2.3458e-02,  1.3004e-01, -4.7927e-01,  1.8001e-01,\n",
              "          5.1205e-01,  4.0620e-01, -4.9702e-02,  1.5907e-01, -3.3849e-01,\n",
              "         -1.8257e-02,  5.7774e-03, -3.4494e-01, -5.1504e-03,  1.3520e-01,\n",
              "         -2.2486e-02, -5.2574e-01,  4.5000e-01,  9.1079e-02, -7.8127e-02,\n",
              "         -8.1374e-01,  3.7877e-01, -1.3157e-02, -5.4255e-02,  2.0971e-01,\n",
              "          4.8571e-01, -1.9917e-01,  2.1274e-01, -1.1891e-02, -6.4185e-02,\n",
              "         -1.0941e-01,  1.4496e-01, -4.9473e-01,  4.1608e-01,  4.2309e-02,\n",
              "          5.6278e-02,  5.7971e-02,  7.4634e-02, -1.0295e-01,  3.8489e-02,\n",
              "          4.5559e-02,  2.2024e-01, -1.4470e-01, -3.0052e-01, -2.7554e-01,\n",
              "          5.3516e-01, -2.6329e-01,  1.9391e-01,  4.3121e-01,  1.2750e-02,\n",
              "          2.4978e-01,  8.1130e-02,  1.1838e-01, -4.8755e-02, -4.5545e-01,\n",
              "         -1.7653e-01,  2.3618e-01, -2.3790e-01, -1.9036e-01,  1.8762e-02,\n",
              "         -1.2124e-01, -4.1950e-01, -2.4885e-01, -1.0401e-01,  3.0578e-01,\n",
              "         -1.8370e-01, -8.9854e-02,  3.8368e-02]])"
            ]
          },
          "metadata": {
            "tags": []
          },
          "execution_count": 39
        }
      ]
    },
    {
      "cell_type": "code",
      "metadata": {
        "id": "MQv0FL8VWadn",
        "colab_type": "code",
        "outputId": "43aee638-e5ca-46f2-df84-1f6282d474eb",
        "colab": {
          "base_uri": "https://localhost:8080/",
          "height": 52
        }
      },
      "source": [
        "print (\"Our final sentence embedding vector of shape:\"), sentence_embedding[0].shape[0]"
      ],
      "execution_count": 33,
      "outputs": [
        {
          "output_type": "stream",
          "text": [
            "Our final sentence embedding vector of shape:\n"
          ],
          "name": "stdout"
        },
        {
          "output_type": "execute_result",
          "data": {
            "text/plain": [
              "(None, 768)"
            ]
          },
          "metadata": {
            "tags": []
          },
          "execution_count": 33
        }
      ]
    },
    {
      "cell_type": "markdown",
      "metadata": {
        "id": "TqYcrAipfE3E",
        "colab_type": "text"
      },
      "source": [
        "### Confirming contextually dependent vectors\n",
        "\n",
        "To confirm that the value of these vectors are in fact contextually dependent, let's take a look at the output from the following sentence (if you want to try this out you'll have to run this example separately from the top by replacing our original sentence with the following sentence):"
      ]
    },
    {
      "cell_type": "code",
      "metadata": {
        "id": "kS4WoXyUfAPc",
        "colab_type": "code",
        "outputId": "8dbac338-f674-4968-e5f9-7a5dca8392f6",
        "colab": {
          "base_uri": "https://localhost:8080/",
          "height": 35
        }
      },
      "source": [
        "print (text)"
      ],
      "execution_count": 41,
      "outputs": [
        {
          "output_type": "stream",
          "text": [
            "After stealing money from the bank vault, the bank robber was seen fishing on the Mississippi river bank.\n"
          ],
          "name": "stdout"
        }
      ]
    },
    {
      "cell_type": "code",
      "metadata": {
        "id": "DNiRsEh9cmWz",
        "colab_type": "code",
        "outputId": "876d8270-33ea-4db6-be9c-96d02945a2f9",
        "colab": {
          "base_uri": "https://localhost:8080/",
          "height": 397
        }
      },
      "source": [
        "for i,x in enumerate(tokenized_text):\n",
        "  print (i,x)"
      ],
      "execution_count": 42,
      "outputs": [
        {
          "output_type": "stream",
          "text": [
            "0 [CLS]\n",
            "1 after\n",
            "2 stealing\n",
            "3 money\n",
            "4 from\n",
            "5 the\n",
            "6 bank\n",
            "7 vault\n",
            "8 ,\n",
            "9 the\n",
            "10 bank\n",
            "11 robber\n",
            "12 was\n",
            "13 seen\n",
            "14 fishing\n",
            "15 on\n",
            "16 the\n",
            "17 mississippi\n",
            "18 river\n",
            "19 bank\n",
            "20 .\n",
            "21 [SEP]\n"
          ],
          "name": "stdout"
        }
      ]
    },
    {
      "cell_type": "code",
      "metadata": {
        "id": "x47-g2QcdXqQ",
        "colab_type": "code",
        "outputId": "1b1b51a2-75ac-42d7-bc33-2267d7b51f85",
        "colab": {
          "base_uri": "https://localhost:8080/",
          "height": 69
        }
      },
      "source": [
        "print (\"First fifteen values of 'bank' as in 'bank robber':\")\n",
        "token_vecs_sum[10][:15]"
      ],
      "execution_count": 43,
      "outputs": [
        {
          "output_type": "stream",
          "text": [
            "First fifteen values of 'bank' as in 'bank robber':\n"
          ],
          "name": "stdout"
        },
        {
          "output_type": "execute_result",
          "data": {
            "text/plain": [
              "tensor([ 1.1868, -1.5298, -1.3770,  1.0648,  3.1446,  1.4003, -4.2407,  1.3946,\n",
              "        -0.1170, -1.8777,  0.1091, -0.3862,  0.6744,  2.1924, -4.5306])"
            ]
          },
          "metadata": {
            "tags": []
          },
          "execution_count": 43
        }
      ]
    },
    {
      "cell_type": "code",
      "metadata": {
        "id": "mvhaWPa-7IN_",
        "colab_type": "code",
        "outputId": "d78596be-9bb4-49e8-a814-a9b1e3a072ea",
        "colab": {
          "base_uri": "https://localhost:8080/",
          "height": 69
        }
      },
      "source": [
        "print (\"First fifteen values of 'bank' as in 'bank vault':\")\n",
        "token_vecs_sum[6][:15]"
      ],
      "execution_count": 44,
      "outputs": [
        {
          "output_type": "stream",
          "text": [
            "First fifteen values of 'bank' as in 'bank vault':\n"
          ],
          "name": "stdout"
        },
        {
          "output_type": "execute_result",
          "data": {
            "text/plain": [
              "tensor([ 2.1319, -2.1413, -1.6260,  0.8638,  3.3173,  0.1796, -4.4853,  3.1215,\n",
              "        -0.9740, -3.1780,  0.1046, -1.5481,  0.4758,  1.1703, -4.4859])"
            ]
          },
          "metadata": {
            "tags": []
          },
          "execution_count": 44
        }
      ]
    },
    {
      "cell_type": "code",
      "metadata": {
        "id": "F1KLUm3Tddbs",
        "colab_type": "code",
        "outputId": "a84346ae-c000-4ac3-bd96-8e5025370d62",
        "colab": {
          "base_uri": "https://localhost:8080/",
          "height": 69
        }
      },
      "source": [
        "print (\"First fifteen values of 'bank' as in 'river bank':\")\n",
        "token_vecs_sum[19][:15]"
      ],
      "execution_count": 45,
      "outputs": [
        {
          "output_type": "stream",
          "text": [
            "First fifteen values of 'bank' as in 'river bank':\n"
          ],
          "name": "stdout"
        },
        {
          "output_type": "execute_result",
          "data": {
            "text/plain": [
              "tensor([ 1.1295, -1.4725, -0.7296, -0.0901,  2.4970,  0.5330,  0.9742,  5.1834,\n",
              "        -1.0692, -1.5941,  1.9261,  0.7119, -0.9809,  1.2127, -2.9812])"
            ]
          },
          "metadata": {
            "tags": []
          },
          "execution_count": 45
        }
      ]
    },
    {
      "cell_type": "markdown",
      "metadata": {
        "id": "Ca2TCQ_G7SM3",
        "colab_type": "text"
      },
      "source": [
        "As we can see, these are all different vectors and they should be; although the word 'bank' is the same, in each case of our sentence it has different meanings, sometimes very different meanings.\n",
        "\n",
        "We have three different uses of \"bank\" in this sentence, two of which should be almost identical. Let's check the cosine similarity to see if this is the case:"
      ]
    },
    {
      "cell_type": "code",
      "metadata": {
        "id": "eYXUwiG0yhBS",
        "colab_type": "code",
        "colab": {}
      },
      "source": [
        "from sklearn.metrics.pairwise import cosine_similarity\n",
        "\n",
        "# Compare \"bank\" as in \"bank robber\" to \"bank\" as in \"river bank\"\n",
        "different_bank = cosine_similarity(token_vecs_sum[10].reshape(1,-1), token_vecs_sum[19].reshape(1,-1))[0][0]\n",
        "\n",
        "# Compare \"bank\" as in \"bank robber\" to \"bank\" as in \"bank vault\" \n",
        "same_bank = cosine_similarity(token_vecs_sum[10].reshape(1,-1), token_vecs_sum[6].reshape(1,-1))[0][0]"
      ],
      "execution_count": 0,
      "outputs": []
    },
    {
      "cell_type": "code",
      "metadata": {
        "id": "dbb2lDDHzyc2",
        "colab_type": "code",
        "outputId": "09876afe-9dfb-41ab-a01a-1adc41167b2d",
        "colab": {
          "base_uri": "https://localhost:8080/",
          "height": 35
        }
      },
      "source": [
        "print (\"Similarity of 'bank' as in 'bank robber' to 'bank' as in 'bank vault':\",  same_bank)"
      ],
      "execution_count": 47,
      "outputs": [
        {
          "output_type": "stream",
          "text": [
            "Similarity of 'bank' as in 'bank robber' to 'bank' as in 'bank vault': 0.94567525\n"
          ],
          "name": "stdout"
        }
      ]
    },
    {
      "cell_type": "code",
      "metadata": {
        "id": "EpWD0kEp6yoY",
        "colab_type": "code",
        "outputId": "1bbbc135-611a-410b-ed53-0fbfa95ca117",
        "colab": {
          "base_uri": "https://localhost:8080/",
          "height": 35
        }
      },
      "source": [
        "print (\"Similarity of 'bank' as in 'bank robber' to 'bank' as in 'river bank':\",  different_bank)"
      ],
      "execution_count": 48,
      "outputs": [
        {
          "output_type": "stream",
          "text": [
            "Similarity of 'bank' as in 'bank robber' to 'bank' as in 'river bank': 0.6797334\n"
          ],
          "name": "stdout"
        }
      ]
    },
    {
      "cell_type": "markdown",
      "metadata": {
        "id": "ONLJ36JfPuqf",
        "colab_type": "text"
      },
      "source": [
        "## Other: special tokens, OOV words, and similarity metrics\n",
        "\n",
        "### Special tokens\n",
        "\n",
        "It should be noted that although the** \"[CLS]\"** acts as an \"aggregate representation\" for classification tasks, this is not the best choice for a high quality sentence embedding vector. [According to](https://github.com/google-research/bert/issues/164) BERT author Jacob Devlin: \"*I'm not sure what these vectors are, since BERT does not generate meaningful sentence vectors. It seems that this is is doing average pooling over the word tokens to get a sentence vector, but we never suggested that this will generate meaningful sentence representations*.\"\n",
        "\n",
        "(However, the [CLS] token does become meaningful if the model has been fine-tuned, where the last hidden layer of this token is used as the \"sentence vector\" for sequence classification.)\n",
        "\n",
        "### Out of vocabulary words\n",
        "\n",
        "For** out of vocabulary words** that are composed of multiple sentence and character-level embeddings, there is a further issue of how best to recover this embedding. Averaging the embeddings is the most straightforward solution (one that is relied upon in similar embedding models with subword vocabularies like fasttext), but summation of subword embeddings and simply taking the last token embedding (remember that the vectors are context sensitive) are acceptable alternative strategies.\n",
        "\n",
        "### Similarity metrics\n",
        "\n",
        "It is worth noting that word-level **similarity comparisons** are not appropriate with BERT embeddings because these embeddings are contextually dependent, meaning that the word vector changes depending on the sentence it appears in. This allows wonderful things like polysemy so that e.g. your representation encodes river \"bank\" and not a financial institution \"bank\",  but makes direct word-to-word similarity comparisons less valuable. However, for sentence embeddings similarity comparison is still valid such that one can query, for example, a single sentence against a dataset of other sentences in order to find the most similar. Depending on the similarity metric used, the resulting similarity values will be less informative than the relative ranking of similarity outputs since many similarity metrics make assumptions about the vector space (equally-weighted dimensions, for example) that do not hold for our 768-dimensional vector space.\n"
      ]
    },
    {
      "cell_type": "markdown",
      "metadata": {
        "id": "0unZ2xh4QDap",
        "colab_type": "text"
      },
      "source": [
        "## Implementations\n",
        "\n",
        "You can use the code in this notebook as the foundation of your own application to extract BERT features from text. However, official [tensorflow](https://github.com/google-research/bert/blob/master/extract_features.py) and well-regarded [pytorch](https://github.com/huggingface/pytorch-pretrained-BERT/blob/master/examples/extract_features.py) implementations already exist that do this for you.  Additionally, [bert-as-a-service](https://github.com/hanxiao/bert-as-service) is an excellent tool designed specifically for running this task with high performance, and is the one I would recommend for production applications. The author has taken great care in the tool's implementation and provides excellent documentation (some of which was used to help create this tutorial) to help users understand the more nuanced details the user faces, like resource management and pooling strategy."
      ]
    }
  ]
}
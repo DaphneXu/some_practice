{
  "nbformat": 4,
  "nbformat_minor": 0,
  "metadata": {
    "colab": {
      "name": "Dropout.ipynb",
      "version": "0.3.2",
      "provenance": [],
      "toc_visible": true,
      "include_colab_link": true
    },
    "language_info": {
      "mimetype": "text/x-python",
      "nbconvert_exporter": "python",
      "name": "python",
      "file_extension": ".py",
      "version": "3.7.1",
      "pygments_lexer": "ipython3",
      "codemirror_mode": {
        "version": 3,
        "name": "ipython"
      }
    },
    "kernelspec": {
      "display_name": "Python 3",
      "name": "python3",
      "language": "python"
    }
  },
  "cells": [
    {
      "cell_type": "markdown",
      "metadata": {
        "id": "view-in-github",
        "colab_type": "text"
      },
      "source": [
        "<a href=\"https://colab.research.google.com/github/DaphneXu/some_practice/blob/master/Dropout.ipynb\" target=\"_parent\"><img src=\"https://colab.research.google.com/assets/colab-badge.svg\" alt=\"Open In Colab\"/></a>"
      ]
    },
    {
      "cell_type": "markdown",
      "metadata": {
        "tags": [
          "pdf-title"
        ],
        "id": "hwX4LkZ1mshx",
        "colab_type": "text"
      },
      "source": [
        "# Dropout\n",
        "Dropout [1] is a technique for regularizing neural networks by randomly setting some output activations to zero during the forward pass. In this exercise you will implement a dropout layer and modify your fully-connected network to optionally use dropout.\n",
        "\n",
        "[1] [Geoffrey E. Hinton et al, \"Improving neural networks by preventing co-adaptation of feature detectors\", arXiv 2012](https://arxiv.org/abs/1207.0580)"
      ]
    },
    {
      "cell_type": "code",
      "metadata": {
        "id": "wc0jBibHnfqo",
        "colab_type": "code",
        "colab": {
          "base_uri": "https://localhost:8080/",
          "height": 691
        },
        "outputId": "500a3003-3f17-4656-dd2f-eeb7618d8afb"
      },
      "source": [
        "!unzip spring1819_assignment2.zip"
      ],
      "execution_count": 1,
      "outputs": [
        {
          "output_type": "stream",
          "text": [
            "Archive:  spring1819_assignment2.zip\n",
            "   creating: assignment2/\n",
            "  inflating: assignment2/.gitignore  \n",
            "  inflating: assignment2/BatchNormalization.ipynb  \n",
            "  inflating: assignment2/collectSubmission.sh  \n",
            "  inflating: assignment2/ConvolutionalNetworks.ipynb  \n",
            "   creating: assignment2/cs231n/\n",
            "  inflating: assignment2/cs231n/.gitignore  \n",
            "   creating: assignment2/cs231n/classifiers/\n",
            "  inflating: assignment2/cs231n/classifiers/cnn.py  \n",
            "  inflating: assignment2/cs231n/classifiers/fc_net.py  \n",
            " extracting: assignment2/cs231n/classifiers/__init__.py  \n",
            "   creating: assignment2/cs231n/datasets/\n",
            "  inflating: assignment2/cs231n/datasets/.gitignore  \n",
            "  inflating: assignment2/cs231n/datasets/get_datasets.sh  \n",
            "  inflating: assignment2/cs231n/data_utils.py  \n",
            "  inflating: assignment2/cs231n/fast_layers.py  \n",
            "  inflating: assignment2/cs231n/gradient_check.py  \n",
            "  inflating: assignment2/cs231n/im2col.py  \n",
            "  inflating: assignment2/cs231n/im2col_cython.pyx  \n",
            "  inflating: assignment2/cs231n/layers.py  \n",
            "  inflating: assignment2/cs231n/layer_utils.py  \n",
            "  inflating: assignment2/cs231n/optim.py  \n",
            "  inflating: assignment2/cs231n/setup.py  \n",
            "  inflating: assignment2/cs231n/solver.py  \n",
            "  inflating: assignment2/cs231n/vis_utils.py  \n",
            " extracting: assignment2/cs231n/__init__.py  \n",
            "  inflating: assignment2/Dropout.ipynb  \n",
            "  inflating: assignment2/frameworkpython  \n",
            "  inflating: assignment2/FullyConnectedNets.ipynb  \n",
            "   creating: assignment2/notebook_images/\n",
            "  inflating: assignment2/notebook_images/batchnorm_graph.png  \n",
            "  inflating: assignment2/notebook_images/kitten.jpg  \n",
            "  inflating: assignment2/notebook_images/normalization.png  \n",
            "  inflating: assignment2/notebook_images/puppy.jpg  \n",
            "  inflating: assignment2/PyTorch.ipynb  \n",
            "  inflating: assignment2/requirements.txt  \n",
            "  inflating: assignment2/start_ipython_osx.sh  \n",
            "  inflating: assignment2/TensorFlow.ipynb  \n"
          ],
          "name": "stdout"
        }
      ]
    },
    {
      "cell_type": "code",
      "metadata": {
        "id": "ChTUWu_hoOzm",
        "colab_type": "code",
        "colab": {}
      },
      "source": [
        "import sys\n",
        "sys.path.append('/content/assignment2')"
      ],
      "execution_count": 0,
      "outputs": []
    },
    {
      "cell_type": "code",
      "metadata": {
        "tags": [
          "pdf-ignore"
        ],
        "id": "hYWpIdD9mshz",
        "colab_type": "code",
        "colab": {
          "base_uri": "https://localhost:8080/",
          "height": 69
        },
        "outputId": "fed63474-bb79-4daa-d631-201fda5a3c9e"
      },
      "source": [
        "# As usual, a bit of setup\n",
        "from __future__ import print_function\n",
        "import time\n",
        "import numpy as np\n",
        "import matplotlib.pyplot as plt\n",
        "from cs231n.classifiers.fc_net import *\n",
        "from cs231n.data_utils import get_CIFAR10_data\n",
        "from cs231n.gradient_check import eval_numerical_gradient, eval_numerical_gradient_array\n",
        "from cs231n.solver import Solver\n",
        "\n",
        "%matplotlib inline\n",
        "plt.rcParams['figure.figsize'] = (10.0, 8.0) # set default size of plots\n",
        "plt.rcParams['image.interpolation'] = 'nearest'\n",
        "plt.rcParams['image.cmap'] = 'gray'\n",
        "\n",
        "# for auto-reloading external modules\n",
        "# see http://stackoverflow.com/questions/1907993/autoreload-of-modules-in-ipython\n",
        "%load_ext autoreload\n",
        "%autoreload 2\n",
        "\n",
        "def rel_error(x, y):\n",
        "  \"\"\" returns relative error \"\"\"\n",
        "  return np.max(np.abs(x - y) / (np.maximum(1e-8, np.abs(x) + np.abs(y))))"
      ],
      "execution_count": 3,
      "outputs": [
        {
          "output_type": "stream",
          "text": [
            "run the following from the cs231n directory and try again:\n",
            "python setup.py build_ext --inplace\n",
            "You may also need to restart your iPython kernel\n"
          ],
          "name": "stdout"
        }
      ]
    },
    {
      "cell_type": "code",
      "metadata": {
        "id": "G1BQSSlRnk83",
        "colab_type": "code",
        "colab": {
          "base_uri": "https://localhost:8080/",
          "height": 363
        },
        "outputId": "b323d899-1ee2-4f47-937e-8c7bb0722e40"
      },
      "source": [
        "!./assignment2/cs231n/datasets/get_datasets.sh"
      ],
      "execution_count": 4,
      "outputs": [
        {
          "output_type": "stream",
          "text": [
            "--2019-07-09 12:11:08--  http://www.cs.toronto.edu/~kriz/cifar-10-python.tar.gz\n",
            "Resolving www.cs.toronto.edu (www.cs.toronto.edu)... 128.100.3.30\n",
            "Connecting to www.cs.toronto.edu (www.cs.toronto.edu)|128.100.3.30|:80... connected.\n",
            "HTTP request sent, awaiting response... 200 OK\n",
            "Length: 170498071 (163M) [application/x-gzip]\n",
            "Saving to: ‘cifar-10-python.tar.gz’\n",
            "\n",
            "cifar-10-python.tar 100%[===================>] 162.60M  45.2MB/s    in 4.0s    \n",
            "\n",
            "2019-07-09 12:11:12 (40.6 MB/s) - ‘cifar-10-python.tar.gz’ saved [170498071/170498071]\n",
            "\n",
            "cifar-10-batches-py/\n",
            "cifar-10-batches-py/data_batch_4\n",
            "cifar-10-batches-py/readme.html\n",
            "cifar-10-batches-py/test_batch\n",
            "cifar-10-batches-py/data_batch_3\n",
            "cifar-10-batches-py/batches.meta\n",
            "cifar-10-batches-py/data_batch_2\n",
            "cifar-10-batches-py/data_batch_5\n",
            "cifar-10-batches-py/data_batch_1\n"
          ],
          "name": "stdout"
        }
      ]
    },
    {
      "cell_type": "code",
      "metadata": {
        "tags": [
          "pdf-ignore"
        ],
        "id": "FVm0X6Wmmsh5",
        "colab_type": "code",
        "colab": {
          "base_uri": "https://localhost:8080/",
          "height": 121
        },
        "outputId": "f2ef504a-a2a8-4802-8f39-814ae47e1761"
      },
      "source": [
        "# Load the (preprocessed) CIFAR10 data.\n",
        "\n",
        "data = get_CIFAR10_data()\n",
        "for k, v in data.items():\n",
        "  print('%s: ' % k, v.shape)"
      ],
      "execution_count": 5,
      "outputs": [
        {
          "output_type": "stream",
          "text": [
            "X_train:  (49000, 3, 32, 32)\n",
            "y_train:  (49000,)\n",
            "X_val:  (1000, 3, 32, 32)\n",
            "y_val:  (1000,)\n",
            "X_test:  (1000, 3, 32, 32)\n",
            "y_test:  (1000,)\n"
          ],
          "name": "stdout"
        }
      ]
    },
    {
      "cell_type": "markdown",
      "metadata": {
        "id": "auQNsp9Qmsh9",
        "colab_type": "text"
      },
      "source": [
        "# Dropout forward pass\n",
        "In the file `cs231n/layers.py`, implement the forward pass for dropout. Since dropout behaves differently during training and testing, make sure to implement the operation for both modes.\n",
        "\n",
        "Once you have done so, run the cell below to test your implementation."
      ]
    },
    {
      "cell_type": "code",
      "metadata": {
        "id": "8uRWD0IOmsh-",
        "colab_type": "code",
        "colab": {
          "base_uri": "https://localhost:8080/",
          "height": 380
        },
        "outputId": "674135c0-fa1b-4c2d-f2b3-81f696d239b0"
      },
      "source": [
        "np.random.seed(231)\n",
        "x = np.random.randn(500, 500) + 10\n",
        "\n",
        "for p in [0.25, 0.4, 0.7]:\n",
        "  out, _ = dropout_forward(x, {'mode': 'train', 'p': p})\n",
        "  out_test, _ = dropout_forward(x, {'mode': 'test', 'p': p})\n",
        "\n",
        "  print('Running tests with p = ', p)\n",
        "  print('Mean of input: ', x.mean())\n",
        "  print('Mean of train-time output: ', out.mean())\n",
        "  print('Mean of test-time output: ', out_test.mean())\n",
        "  print('Fraction of train-time output set to zero: ', (out == 0).mean())\n",
        "  print('Fraction of test-time output set to zero: ', (out_test == 0).mean())\n",
        "  print()"
      ],
      "execution_count": 6,
      "outputs": [
        {
          "output_type": "stream",
          "text": [
            "Running tests with p =  0.25\n",
            "Mean of input:  10.000207878477502\n",
            "Mean of train-time output:  10.014059116977283\n",
            "Mean of test-time output:  10.000207878477502\n",
            "Fraction of train-time output set to zero:  0.749784\n",
            "Fraction of test-time output set to zero:  0.0\n",
            "\n",
            "Running tests with p =  0.4\n",
            "Mean of input:  10.000207878477502\n",
            "Mean of train-time output:  9.977917658761159\n",
            "Mean of test-time output:  10.000207878477502\n",
            "Fraction of train-time output set to zero:  0.600796\n",
            "Fraction of test-time output set to zero:  0.0\n",
            "\n",
            "Running tests with p =  0.7\n",
            "Mean of input:  10.000207878477502\n",
            "Mean of train-time output:  9.987811912159426\n",
            "Mean of test-time output:  10.000207878477502\n",
            "Fraction of train-time output set to zero:  0.30074\n",
            "Fraction of test-time output set to zero:  0.0\n",
            "\n"
          ],
          "name": "stdout"
        }
      ]
    },
    {
      "cell_type": "markdown",
      "metadata": {
        "id": "DVL_GIkOmsiB",
        "colab_type": "text"
      },
      "source": [
        "# Dropout backward pass\n",
        "In the file `cs231n/layers.py`, implement the backward pass for dropout. After doing so, run the following cell to numerically gradient-check your implementation."
      ]
    },
    {
      "cell_type": "code",
      "metadata": {
        "id": "rRP938JDmsiC",
        "colab_type": "code",
        "colab": {
          "base_uri": "https://localhost:8080/",
          "height": 35
        },
        "outputId": "a25a606e-6e95-403a-fd02-bdeb083110e9"
      },
      "source": [
        "np.random.seed(231)\n",
        "x = np.random.randn(10, 10) + 10\n",
        "dout = np.random.randn(*x.shape)\n",
        "\n",
        "dropout_param = {'mode': 'train', 'p': 0.2, 'seed': 123}\n",
        "out, cache = dropout_forward(x, dropout_param)\n",
        "dx = dropout_backward(dout, cache)\n",
        "dx_num = eval_numerical_gradient_array(lambda xx: dropout_forward(xx, dropout_param)[0], x, dout)\n",
        "\n",
        "# Error should be around e-10 or less\n",
        "print('dx relative error: ', rel_error(dx, dx_num))"
      ],
      "execution_count": 7,
      "outputs": [
        {
          "output_type": "stream",
          "text": [
            "dx relative error:  5.44560814873387e-11\n"
          ],
          "name": "stdout"
        }
      ]
    },
    {
      "cell_type": "markdown",
      "metadata": {
        "tags": [
          "pdf-inline"
        ],
        "id": "k1DGLEedmsiG",
        "colab_type": "text"
      },
      "source": [
        "## Inline Question 1:\n",
        "What happens if we do not divide the values being passed through inverse dropout by `p` in the dropout layer? Why does that happen?\n",
        "\n",
        "## Answer:\n",
        "[FILL THIS IN]\n"
      ]
    },
    {
      "cell_type": "markdown",
      "metadata": {
        "id": "jifWqCsZmsiH",
        "colab_type": "text"
      },
      "source": [
        "# Fully-connected nets with Dropout\n",
        "In the file `cs231n/classifiers/fc_net.py`, modify your implementation to use dropout. Specifically, if the constructor of the network receives a value that is not 1 for the `dropout` parameter, then the net should add a dropout layer immediately after every ReLU nonlinearity. After doing so, run the following to numerically gradient-check your implementation."
      ]
    },
    {
      "cell_type": "code",
      "metadata": {
        "id": "OeAkzwaxmsiI",
        "colab_type": "code",
        "colab": {
          "base_uri": "https://localhost:8080/",
          "height": 484
        },
        "outputId": "65256f2d-681f-46e7-a083-c3c2a79e4169"
      },
      "source": [
        "np.random.seed(231)\n",
        "N, D, H1, H2, C = 2, 15, 20, 30, 10\n",
        "X = np.random.randn(N, D)\n",
        "y = np.random.randint(C, size=(N,))\n",
        "\n",
        "for dropout in [1, 0.75, 0.5]:\n",
        "  print('Running check with dropout = ', dropout)\n",
        "  model = FullyConnectedNet([H1, H2], input_dim=D, num_classes=C,\n",
        "                            weight_scale=5e-2, dtype=np.float64,\n",
        "                            dropout=dropout, seed=123)\n",
        "\n",
        "  loss, grads = model.loss(X, y)\n",
        "  print('Initial loss: ', loss)\n",
        "  \n",
        "  # Relative errors should be around e-6 or less; Note that it's fine\n",
        "  # if for dropout=1 you have W2 error be on the order of e-5.\n",
        "  for name in sorted(grads):\n",
        "    f = lambda _: model.loss(X, y)[0]\n",
        "    grad_num = eval_numerical_gradient(f, model.params[name], verbose=False, h=1e-5)\n",
        "    print('%s relative error: %.2e' % (name, rel_error(grad_num, grads[name])))\n",
        "  print()"
      ],
      "execution_count": 8,
      "outputs": [
        {
          "output_type": "stream",
          "text": [
            "Running check with dropout =  1\n",
            "Initial loss:  2.3004790897684924\n",
            "W1 relative error: 1.48e-07\n",
            "W2 relative error: 2.21e-05\n",
            "W3 relative error: 3.53e-07\n",
            "b1 relative error: 5.38e-09\n",
            "b2 relative error: 2.09e-09\n",
            "b3 relative error: 5.80e-11\n",
            "\n",
            "Running check with dropout =  0.75\n",
            "Initial loss:  2.302371489704412\n",
            "W1 relative error: 1.90e-07\n",
            "W2 relative error: 4.76e-06\n",
            "W3 relative error: 2.60e-08\n",
            "b1 relative error: 4.73e-09\n",
            "b2 relative error: 1.82e-09\n",
            "b3 relative error: 1.70e-10\n",
            "\n",
            "Running check with dropout =  0.5\n",
            "Initial loss:  2.3042759220785896\n",
            "W1 relative error: 3.11e-07\n",
            "W2 relative error: 1.84e-08\n",
            "W3 relative error: 5.35e-08\n",
            "b1 relative error: 5.37e-09\n",
            "b2 relative error: 2.99e-09\n",
            "b3 relative error: 1.13e-10\n",
            "\n"
          ],
          "name": "stdout"
        }
      ]
    },
    {
      "cell_type": "markdown",
      "metadata": {
        "id": "Yk0z-QpMmsiL",
        "colab_type": "text"
      },
      "source": [
        "# Regularization experiment\n",
        "As an experiment, we will train a pair of two-layer networks on 500 training examples: one will use no dropout, and one will use a keep probability of 0.25. We will then visualize the training and validation accuracies of the two networks over time."
      ]
    },
    {
      "cell_type": "code",
      "metadata": {
        "scrolled": false,
        "id": "UCxDSUBbmsiM",
        "colab_type": "code",
        "colab": {
          "base_uri": "https://localhost:8080/",
          "height": 1000
        },
        "outputId": "a56b91d6-171d-4bc2-9e73-112142433846"
      },
      "source": [
        "# Train two identical nets, one with dropout and one without\n",
        "np.random.seed(231)\n",
        "num_train = 500\n",
        "small_data = {\n",
        "  'X_train': data['X_train'][:num_train],\n",
        "  'y_train': data['y_train'][:num_train],\n",
        "  'X_val': data['X_val'],\n",
        "  'y_val': data['y_val'],\n",
        "}\n",
        "\n",
        "solvers = {}\n",
        "dropout_choices = [1, 0.25]\n",
        "for dropout in dropout_choices:\n",
        "  model = FullyConnectedNet([500], dropout=dropout)\n",
        "  print(dropout)\n",
        "\n",
        "  solver = Solver(model, small_data,\n",
        "                  num_epochs=25, batch_size=100,\n",
        "                  update_rule='adam',\n",
        "                  optim_config={\n",
        "                    'learning_rate': 5e-4,\n",
        "                  },\n",
        "                  verbose=True, print_every=100)\n",
        "  solver.train()\n",
        "  solvers[dropout] = solver\n",
        "  print()"
      ],
      "execution_count": 11,
      "outputs": [
        {
          "output_type": "stream",
          "text": [
            "1\n",
            "(Iteration 1 / 125) loss: 7.856643\n",
            "(Epoch 0 / 25) train acc: 0.260000; val_acc: 0.184000\n",
            "(Epoch 1 / 25) train acc: 0.414000; val_acc: 0.261000\n",
            "(Epoch 2 / 25) train acc: 0.482000; val_acc: 0.278000\n",
            "(Epoch 3 / 25) train acc: 0.538000; val_acc: 0.274000\n",
            "(Epoch 4 / 25) train acc: 0.604000; val_acc: 0.266000\n",
            "(Epoch 5 / 25) train acc: 0.740000; val_acc: 0.301000\n",
            "(Epoch 6 / 25) train acc: 0.738000; val_acc: 0.287000\n",
            "(Epoch 7 / 25) train acc: 0.832000; val_acc: 0.261000\n",
            "(Epoch 8 / 25) train acc: 0.856000; val_acc: 0.270000\n",
            "(Epoch 9 / 25) train acc: 0.896000; val_acc: 0.282000\n",
            "(Epoch 10 / 25) train acc: 0.922000; val_acc: 0.267000\n",
            "(Epoch 11 / 25) train acc: 0.926000; val_acc: 0.271000\n",
            "(Epoch 12 / 25) train acc: 0.944000; val_acc: 0.299000\n",
            "(Epoch 13 / 25) train acc: 0.964000; val_acc: 0.301000\n",
            "(Epoch 14 / 25) train acc: 0.982000; val_acc: 0.300000\n",
            "(Epoch 15 / 25) train acc: 0.978000; val_acc: 0.286000\n",
            "(Epoch 16 / 25) train acc: 0.976000; val_acc: 0.297000\n",
            "(Epoch 17 / 25) train acc: 0.976000; val_acc: 0.302000\n",
            "(Epoch 18 / 25) train acc: 0.958000; val_acc: 0.294000\n",
            "(Epoch 19 / 25) train acc: 0.954000; val_acc: 0.299000\n",
            "(Epoch 20 / 25) train acc: 0.984000; val_acc: 0.300000\n",
            "(Iteration 101 / 125) loss: 0.142629\n",
            "(Epoch 21 / 25) train acc: 0.984000; val_acc: 0.294000\n",
            "(Epoch 22 / 25) train acc: 0.992000; val_acc: 0.310000\n",
            "(Epoch 23 / 25) train acc: 0.986000; val_acc: 0.315000\n",
            "(Epoch 24 / 25) train acc: 0.988000; val_acc: 0.313000\n",
            "(Epoch 25 / 25) train acc: 0.990000; val_acc: 0.291000\n",
            "\n",
            "0.25\n",
            "(Iteration 1 / 125) loss: 17.318478\n",
            "(Epoch 0 / 25) train acc: 0.230000; val_acc: 0.176000\n",
            "(Epoch 1 / 25) train acc: 0.376000; val_acc: 0.244000\n",
            "(Epoch 2 / 25) train acc: 0.410000; val_acc: 0.251000\n",
            "(Epoch 3 / 25) train acc: 0.480000; val_acc: 0.275000\n",
            "(Epoch 4 / 25) train acc: 0.518000; val_acc: 0.297000\n",
            "(Epoch 5 / 25) train acc: 0.574000; val_acc: 0.295000\n",
            "(Epoch 6 / 25) train acc: 0.660000; val_acc: 0.294000\n",
            "(Epoch 7 / 25) train acc: 0.636000; val_acc: 0.295000\n",
            "(Epoch 8 / 25) train acc: 0.722000; val_acc: 0.318000\n",
            "(Epoch 9 / 25) train acc: 0.732000; val_acc: 0.298000\n",
            "(Epoch 10 / 25) train acc: 0.754000; val_acc: 0.314000\n",
            "(Epoch 11 / 25) train acc: 0.788000; val_acc: 0.322000\n",
            "(Epoch 12 / 25) train acc: 0.796000; val_acc: 0.287000\n",
            "(Epoch 13 / 25) train acc: 0.812000; val_acc: 0.309000\n",
            "(Epoch 14 / 25) train acc: 0.804000; val_acc: 0.318000\n",
            "(Epoch 15 / 25) train acc: 0.864000; val_acc: 0.317000\n",
            "(Epoch 16 / 25) train acc: 0.810000; val_acc: 0.296000\n",
            "(Epoch 17 / 25) train acc: 0.848000; val_acc: 0.296000\n",
            "(Epoch 18 / 25) train acc: 0.820000; val_acc: 0.325000\n",
            "(Epoch 19 / 25) train acc: 0.898000; val_acc: 0.337000\n",
            "(Epoch 20 / 25) train acc: 0.890000; val_acc: 0.307000\n",
            "(Iteration 101 / 125) loss: 3.805558\n",
            "(Epoch 21 / 25) train acc: 0.906000; val_acc: 0.328000\n",
            "(Epoch 22 / 25) train acc: 0.874000; val_acc: 0.315000\n",
            "(Epoch 23 / 25) train acc: 0.902000; val_acc: 0.313000\n",
            "(Epoch 24 / 25) train acc: 0.922000; val_acc: 0.317000\n",
            "(Epoch 25 / 25) train acc: 0.934000; val_acc: 0.322000\n",
            "\n"
          ],
          "name": "stdout"
        }
      ]
    },
    {
      "cell_type": "code",
      "metadata": {
        "id": "kQiA8TPRmsiQ",
        "colab_type": "code",
        "colab": {
          "base_uri": "https://localhost:8080/",
          "height": 626
        },
        "outputId": "c9eda75d-e915-461f-b3ac-7687e3e2e3c5"
      },
      "source": [
        "# Plot train and validation accuracies of the two models\n",
        "\n",
        "train_accs = []\n",
        "val_accs = []\n",
        "for dropout in dropout_choices:\n",
        "  solver = solvers[dropout]\n",
        "  train_accs.append(solver.train_acc_history[-1])\n",
        "  val_accs.append(solver.val_acc_history[-1])\n",
        "\n",
        "plt.subplot(3, 1, 1)\n",
        "for dropout in dropout_choices:\n",
        "  plt.plot(solvers[dropout].train_acc_history, 'o', label='%.2f dropout' % dropout)\n",
        "plt.title('Train accuracy')\n",
        "plt.xlabel('Epoch')\n",
        "plt.ylabel('Accuracy')\n",
        "plt.legend(ncol=2, loc='lower right')\n",
        "  \n",
        "plt.subplot(3, 1, 2)\n",
        "for dropout in dropout_choices:\n",
        "  plt.plot(solvers[dropout].val_acc_history, 'o', label='%.2f dropout' % dropout)\n",
        "plt.title('Val accuracy')\n",
        "plt.xlabel('Epoch')\n",
        "plt.ylabel('Accuracy')\n",
        "plt.legend(ncol=2, loc='lower right')\n",
        "\n",
        "plt.gcf().set_size_inches(15, 15)\n",
        "plt.show()"
      ],
      "execution_count": 12,
      "outputs": [
        {
          "output_type": "display_data",
          "data": {
            "image/png": "[encoded data removed]",
            "text/plain": [
              "<Figure size 1080x1080 with 2 Axes>"
            ]
          },
          "metadata": {
            "tags": []
          }
        }
      ]
    },
    {
      "cell_type": "markdown",
      "metadata": {
        "tags": [
          "pdf-inline"
        ],
        "id": "s4OU0lqVmsiT",
        "colab_type": "text"
      },
      "source": [
        "## Inline Question 2:\n",
        "Compare the validation and training accuracies with and without dropout -- what do your results suggest about dropout as a regularizer?\n",
        "\n",
        "## Answer:\n",
        "[FILL THIS IN]\n"
      ]
    },
    {
      "cell_type": "markdown",
      "metadata": {
        "tags": [
          "pdf-inline"
        ],
        "id": "m5ndnwuxmsiV",
        "colab_type": "text"
      },
      "source": [
        "## Inline Question 3:\n",
        "Suppose we are training a deep fully-connected network for image classification, with dropout after hidden layers (parameterized by keep probability p). If we are concerned about overfitting, how should we modify p (if at all) when we decide to decrease the size of the hidden layers (that is, the number of nodes in each layer)?\n",
        "\n",
        "## Answer:\n",
        "[FILL THIS IN]\n"
      ]
    }
  ]
}